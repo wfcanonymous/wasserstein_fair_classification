{
  "cells": [
    {
      "cell_type": "markdown",
      "metadata": {
        "id": "3WJebPGI95-j"
      },
      "source": [
        "# Fairlib Interactive Tutorial\n",
        "[![Open In Colab](https://colab.research.google.com/assets/colab-badge.svg)](https://colab.research.google.com/github/HanXudong/fairlib/blob/main/tutorial/demo.ipynb)\n",
        "\n",
        "# Welcome to the *fairlib* interactive tutorial\n",
        "\n",
        "In this tutorial, we will:\n",
        "- Show how to install *fairlib*, and prepare a preprocessed sentiment analysis dataset.\n",
        "- Show how to train a model with or without debiasing.\n",
        "- Show how to analyze the results, including creating tables and figures\n",
        "- Show how to run experiments over customized datasets."
      ]
    },
    {
      "cell_type": "markdown",
      "metadata": {
        "id": "C65ClWrG95-m"
      },
      "source": [
        "## 1. Installation"
      ]
    },
    {
      "cell_type": "code",
      "execution_count": 1,
      "metadata": {
        "colab": {
          "base_uri": "https://localhost:8080/"
        },
        "id": "AO7QSP_g95-m",
        "outputId": "c002300c-eac4-4b09-92cc-faf48887b353"
      },
      "outputs": [
        {
          "name": "stdout",
          "output_type": "stream",
          "text": [
            "Collecting fairlib\n",
            "  Downloading fairlib-0.0.3-py3-none-any.whl (63 kB)\n",
            "\u001b[K     |████████████████████████████████| 63 kB 1.2 MB/s \n",
            "\u001b[?25hCollecting transformers\n",
            "  Downloading transformers-4.18.0-py3-none-any.whl (4.0 MB)\n",
            "\u001b[K     |████████████████████████████████| 4.0 MB 14.6 MB/s \n",
            "\u001b[?25hRequirement already satisfied: PyYAML in /usr/local/lib/python3.7/dist-packages (from fairlib) (3.13)\n",
            "Collecting pickle5\n",
            "  Downloading pickle5-0.0.12-cp37-cp37m-manylinux_2_5_x86_64.manylinux1_x86_64.whl (256 kB)\n",
            "\u001b[K     |████████████████████████████████| 256 kB 36.9 MB/s \n",
            "\u001b[?25hRequirement already satisfied: numpy in /usr/local/lib/python3.7/dist-packages (from fairlib) (1.21.6)\n",
            "Requirement already satisfied: matplotlib in /usr/local/lib/python3.7/dist-packages (from fairlib) (3.2.2)\n",
            "Requirement already satisfied: seaborn in /usr/local/lib/python3.7/dist-packages (from fairlib) (0.11.2)\n",
            "Requirement already satisfied: docopt in /usr/local/lib/python3.7/dist-packages (from fairlib) (0.6.2)\n",
            "Requirement already satisfied: tqdm in /usr/local/lib/python3.7/dist-packages (from fairlib) (4.64.0)\n",
            "Requirement already satisfied: torch in /usr/local/lib/python3.7/dist-packages (from fairlib) (1.11.0+cu113)\n",
            "Requirement already satisfied: pandas in /usr/local/lib/python3.7/dist-packages (from fairlib) (1.3.5)\n",
            "Requirement already satisfied: scikit-learn in /usr/local/lib/python3.7/dist-packages (from fairlib) (1.0.2)\n",
            "Requirement already satisfied: python-dateutil>=2.1 in /usr/local/lib/python3.7/dist-packages (from matplotlib->fairlib) (2.8.2)\n",
            "Requirement already satisfied: kiwisolver>=1.0.1 in /usr/local/lib/python3.7/dist-packages (from matplotlib->fairlib) (1.4.2)\n",
            "Requirement already satisfied: cycler>=0.10 in /usr/local/lib/python3.7/dist-packages (from matplotlib->fairlib) (0.11.0)\n",
            "Requirement already satisfied: pyparsing!=2.0.4,!=2.1.2,!=2.1.6,>=2.0.1 in /usr/local/lib/python3.7/dist-packages (from matplotlib->fairlib) (3.0.8)\n",
            "Requirement already satisfied: typing-extensions in /usr/local/lib/python3.7/dist-packages (from kiwisolver>=1.0.1->matplotlib->fairlib) (4.2.0)\n",
            "Requirement already satisfied: six>=1.5 in /usr/local/lib/python3.7/dist-packages (from python-dateutil>=2.1->matplotlib->fairlib) (1.15.0)\n",
            "Requirement already satisfied: pytz>=2017.3 in /usr/local/lib/python3.7/dist-packages (from pandas->fairlib) (2022.1)\n",
            "Requirement already satisfied: scipy>=1.1.0 in /usr/local/lib/python3.7/dist-packages (from scikit-learn->fairlib) (1.4.1)\n",
            "Requirement already satisfied: threadpoolctl>=2.0.0 in /usr/local/lib/python3.7/dist-packages (from scikit-learn->fairlib) (3.1.0)\n",
            "Requirement already satisfied: joblib>=0.11 in /usr/local/lib/python3.7/dist-packages (from scikit-learn->fairlib) (1.1.0)\n",
            "Requirement already satisfied: packaging>=20.0 in /usr/local/lib/python3.7/dist-packages (from transformers->fairlib) (21.3)\n",
            "Collecting tokenizers!=0.11.3,<0.13,>=0.11.1\n",
            "  Downloading tokenizers-0.12.1-cp37-cp37m-manylinux_2_12_x86_64.manylinux2010_x86_64.whl (6.6 MB)\n",
            "\u001b[K     |████████████████████████████████| 6.6 MB 44.3 MB/s \n",
            "\u001b[?25hCollecting huggingface-hub<1.0,>=0.1.0\n",
            "  Downloading huggingface_hub-0.5.1-py3-none-any.whl (77 kB)\n",
            "\u001b[K     |████████████████████████████████| 77 kB 5.2 MB/s \n",
            "\u001b[?25hRequirement already satisfied: filelock in /usr/local/lib/python3.7/dist-packages (from transformers->fairlib) (3.6.0)\n",
            "Requirement already satisfied: regex!=2019.12.17 in /usr/local/lib/python3.7/dist-packages (from transformers->fairlib) (2019.12.20)\n",
            "Collecting sacremoses\n",
            "  Downloading sacremoses-0.0.49-py3-none-any.whl (895 kB)\n",
            "\u001b[K     |████████████████████████████████| 895 kB 18.7 MB/s \n",
            "\u001b[?25hRequirement already satisfied: importlib-metadata in /usr/local/lib/python3.7/dist-packages (from transformers->fairlib) (4.11.3)\n",
            "Collecting PyYAML\n",
            "  Downloading PyYAML-6.0-cp37-cp37m-manylinux_2_5_x86_64.manylinux1_x86_64.manylinux_2_12_x86_64.manylinux2010_x86_64.whl (596 kB)\n",
            "\u001b[K     |████████████████████████████████| 596 kB 38.3 MB/s \n",
            "\u001b[?25hRequirement already satisfied: requests in /usr/local/lib/python3.7/dist-packages (from transformers->fairlib) (2.23.0)\n",
            "Requirement already satisfied: zipp>=0.5 in /usr/local/lib/python3.7/dist-packages (from importlib-metadata->transformers->fairlib) (3.8.0)\n",
            "Requirement already satisfied: urllib3!=1.25.0,!=1.25.1,<1.26,>=1.21.1 in /usr/local/lib/python3.7/dist-packages (from requests->transformers->fairlib) (1.24.3)\n",
            "Requirement already satisfied: certifi>=2017.4.17 in /usr/local/lib/python3.7/dist-packages (from requests->transformers->fairlib) (2021.10.8)\n",
            "Requirement already satisfied: idna<3,>=2.5 in /usr/local/lib/python3.7/dist-packages (from requests->transformers->fairlib) (2.10)\n",
            "Requirement already satisfied: chardet<4,>=3.0.2 in /usr/local/lib/python3.7/dist-packages (from requests->transformers->fairlib) (3.0.4)\n",
            "Requirement already satisfied: click in /usr/local/lib/python3.7/dist-packages (from sacremoses->transformers->fairlib) (7.1.2)\n",
            "Installing collected packages: PyYAML, tokenizers, sacremoses, huggingface-hub, transformers, pickle5, fairlib\n",
            "  Attempting uninstall: PyYAML\n",
            "    Found existing installation: PyYAML 3.13\n",
            "    Uninstalling PyYAML-3.13:\n",
            "      Successfully uninstalled PyYAML-3.13\n",
            "Successfully installed PyYAML-6.0 fairlib-0.0.3 huggingface-hub-0.5.1 pickle5-0.0.12 sacremoses-0.0.49 tokenizers-0.12.1 transformers-4.18.0\n"
          ]
        }
      ],
      "source": [
        "!pip install fairlib"
      ]
    },
    {
      "cell_type": "code",
      "execution_count": 2,
      "metadata": {
        "id": "ieklwXXP95-n"
      },
      "outputs": [],
      "source": [
        "import fairlib"
      ]
    },
    {
      "cell_type": "markdown",
      "metadata": {
        "id": "99Nw_gKT95-n"
      },
      "source": [
        "## 2. Prepare Dataset\n",
        "\n",
        "In this notebook, we will be using the Moji dataset, where each tweet is annotated with a binary sentiment label (happy verse sad) and a binary race label (AAE verse SAE).\n",
        "Followings are random examples from the Moji dataset.\n",
        "\n",
        "| Text | Sentiment | Race |\n",
        "| ---- | --------- | ---- |\n",
        "| Dfl somebody said to me yesterday that how can u u have a iPhone or an S3 an ur phone off dfl | Positive | AAE|\n",
        "| smh I bet maybe u just don't care bout poor boo no more | Negative | AAE |\n",
        "| I actually put jeans on today and I already wanna go put on leggings or yogas | Positive | SAE |\n",
        "| I'm sitting next to the most awkward couple on the plane like they are making out and holding hands , I just can't | Negative | SAE |\n"
      ]
    },
    {
      "cell_type": "markdown",
      "metadata": {
        "id": "On5LV55G4cmU"
      },
      "source": [
        "For simplification, here we directly use the encoded Moji dataset provided by [Ravfogel et al. \\(2020\\)](https://github.com/shauli-ravfogel/nullspace_projection/blob/master/download_data.sh). Original tweets are encoded with the pre-trained [DeepMoji model](https://github.com/bfelbo/DeepMoji) as 2304d vectors and grouped by the target classes  and race labels . The following cell creates a `data` directory for saving the pre-processed data."
      ]
    },
    {
      "cell_type": "code",
      "execution_count": 3,
      "metadata": {
        "colab": {
          "base_uri": "https://localhost:8080/"
        },
        "id": "TY0LkuN495-o",
        "outputId": "df7ce5b1-4d3e-4fdc-e3f2-b8266a9e2900"
      },
      "outputs": [
        {
          "name": "stdout",
          "output_type": "stream",
          "text": [
            "--2022-05-02 02:46:21--  https://storage.googleapis.com/ai2i/nullspace/deepmoji/pos_pos.npy\n",
            "Resolving storage.googleapis.com (storage.googleapis.com)... 74.125.135.128, 74.125.142.128, 74.125.195.128, ...\n",
            "Connecting to storage.googleapis.com (storage.googleapis.com)|74.125.135.128|:443... connected.\n",
            "HTTP request sent, awaiting response... 200 OK\n",
            "Length: 405494864 (387M) [application/octet-stream]\n",
            "Saving to: ‘data/deepmoji/pos_pos.npy’\n",
            "\n",
            "pos_pos.npy         100%[===================>] 386.71M  5.59MB/s    in 67s     \n",
            "\n",
            "2022-05-02 02:47:29 (5.77 MB/s) - ‘data/deepmoji/pos_pos.npy’ saved [405494864/405494864]\n",
            "\n",
            "--2022-05-02 02:47:29--  https://storage.googleapis.com/ai2i/nullspace/deepmoji/pos_neg.npy\n",
            "Resolving storage.googleapis.com (storage.googleapis.com)... 74.125.142.128, 74.125.195.128, 2607:f8b0:400e:c0d::80, ...\n",
            "Connecting to storage.googleapis.com (storage.googleapis.com)|74.125.142.128|:443... connected.\n",
            "HTTP request sent, awaiting response... 200 OK\n",
            "Length: 405504080 (387M) [application/octet-stream]\n",
            "Saving to: ‘data/deepmoji/pos_neg.npy’\n",
            "\n",
            "pos_neg.npy         100%[===================>] 386.72M  6.03MB/s    in 61s     \n",
            "\n",
            "2022-05-02 02:48:31 (6.34 MB/s) - ‘data/deepmoji/pos_neg.npy’ saved [405504080/405504080]\n",
            "\n",
            "--2022-05-02 02:48:31--  https://storage.googleapis.com/ai2i/nullspace/deepmoji/neg_pos.npy\n",
            "Resolving storage.googleapis.com (storage.googleapis.com)... 74.125.195.128, 173.194.202.128, 74.125.20.128, ...\n",
            "Connecting to storage.googleapis.com (storage.googleapis.com)|74.125.195.128|:443... connected.\n",
            "HTTP request sent, awaiting response... 200 OK\n",
            "Length: 405494864 (387M) [application/octet-stream]\n",
            "Saving to: ‘data/deepmoji/neg_pos.npy’\n",
            "\n",
            "neg_pos.npy         100%[===================>] 386.71M  5.79MB/s    in 67s     \n",
            "\n",
            "2022-05-02 02:49:40 (5.75 MB/s) - ‘data/deepmoji/neg_pos.npy’ saved [405494864/405494864]\n",
            "\n",
            "--2022-05-02 02:49:40--  https://storage.googleapis.com/ai2i/nullspace/deepmoji/neg_neg.npy\n",
            "Resolving storage.googleapis.com (storage.googleapis.com)... 74.125.195.128, 173.194.202.128, 74.125.20.128, ...\n",
            "Connecting to storage.googleapis.com (storage.googleapis.com)|74.125.195.128|:443... connected.\n",
            "HTTP request sent, awaiting response... 200 OK\n",
            "Length: 405504080 (387M) [application/octet-stream]\n",
            "Saving to: ‘data/deepmoji/neg_neg.npy’\n",
            "\n",
            "neg_neg.npy         100%[===================>] 386.72M  6.88MB/s    in 59s     \n",
            "\n",
            "2022-05-02 02:50:40 (6.55 MB/s) - ‘data/deepmoji/neg_neg.npy’ saved [405504080/405504080]\n",
            "\n"
          ]
        }
      ],
      "source": [
        "!mkdir -p data/deepmoji\n",
        "!wget 'https://storage.googleapis.com/ai2i/nullspace/deepmoji/pos_pos.npy' -P 'data/deepmoji'\n",
        "!wget 'https://storage.googleapis.com/ai2i/nullspace/deepmoji/pos_neg.npy' -P 'data/deepmoji'\n",
        "!wget 'https://storage.googleapis.com/ai2i/nullspace/deepmoji/neg_pos.npy' -P 'data/deepmoji'\n",
        "!wget 'https://storage.googleapis.com/ai2i/nullspace/deepmoji/neg_neg.npy' -P 'data/deepmoji'"
      ]
    },
    {
      "cell_type": "markdown",
      "metadata": {
        "id": "o7wjOYia4cmV"
      },
      "source": [
        "We split the dataset into the train, dev, and test sets."
      ]
    },
    {
      "cell_type": "code",
      "execution_count": 4,
      "metadata": {
        "id": "6mcLbFu1nUFp"
      },
      "outputs": [],
      "source": [
        "fairlib.utils.seed_everything(2022)"
      ]
    },
    {
      "cell_type": "code",
      "execution_count": 5,
      "metadata": {
        "id": "1Q4HZjS138Al"
      },
      "outputs": [],
      "source": [
        "import numpy as np\n",
        "import os\n",
        "\n",
        "def read_data_file(input_file: str):\n",
        "    vecs = np.load(input_file)\n",
        "\n",
        "    np.random.shuffle(vecs)\n",
        "\n",
        "    return vecs[:40000], vecs[40000:42000], vecs[42000:44000]"
      ]
    },
    {
      "cell_type": "code",
      "execution_count": 6,
      "metadata": {
        "id": "chyMOL0U4Hqe"
      },
      "outputs": [],
      "source": [
        "in_dir = \"data/deepmoji\"\n",
        "out_dir = \"data/deepmoji\"\n",
        "\n",
        "os.makedirs(out_dir, exist_ok=True)\n",
        "\n",
        "for split in ['pos_pos', 'pos_neg', 'neg_pos', 'neg_neg']:\n",
        "    train, dev, test = read_data_file(in_dir + '/' + split + '.npy')\n",
        "    for split_dir, data in zip(['train', 'dev', 'test'], [train, dev, test]):\n",
        "        os.makedirs(out_dir + '/' + split_dir, exist_ok=True)\n",
        "        np.save(out_dir + '/' + split_dir + '/' + split + '.npy', data)"
      ]
    },
    {
      "cell_type": "markdown",
      "metadata": {
        "id": "JMQ4Eivp95-p"
      },
      "source": [
        "## 3. Standard Usage"
      ]
    },
    {
      "cell_type": "markdown",
      "metadata": {
        "id": "tncaXJIjQ0JB"
      },
      "source": [
        "So far, we have installed the *fairlib* and prepared the dataset for training. \n",
        "Now let's take a look at an example of training a standard sentiment analysis model naively without debiasing. \n",
        "\n",
        "Before moving to the training, we first define a list of hyperparameters that will be repeatedly used in this tutorial."
      ]
    },
    {
      "cell_type": "code",
      "execution_count": 7,
      "metadata": {
        "id": "PMHxJZD77j2Q"
      },
      "outputs": [],
      "source": [
        "Shared_options = {\n",
        "    # The name of the dataset, corresponding dataloader will be used,\n",
        "    \"dataset\":  \"Moji\",\n",
        "\n",
        "    # Specifiy the path to the input data\n",
        "    \"data_dir\": \"data/deepmoji\",\n",
        "\n",
        "    # Device for computing, -1 is the cpu; non-negative numbers indicate GPU id.\n",
        "    \"device_id\":    -1,\n",
        "\n",
        "    # The default path for saving experimental results\n",
        "    \"results_dir\":  r\"results\",\n",
        "\n",
        "    # Will be used for saving experimental results\n",
        "    \"project_dir\":  r\"dev\",\n",
        "\n",
        "    # We will focusing on TPR GAP, implying the Equalized Odds for binary classification.\n",
        "    \"GAP_metric_name\":  \"TPR_GAP\",\n",
        "\n",
        "    # The overall performance will be measured as accuracy\n",
        "    \"Performance_metric_name\":  \"accuracy\",\n",
        "\n",
        "    # Model selections are based on distance to optimum, see section 4 in our paper for more details\n",
        "    \"selection_criterion\":  \"DTO\",\n",
        "\n",
        "    # Default dirs for saving checkpoints\n",
        "    \"checkpoint_dir\":   \"models\",\n",
        "    \"checkpoint_name\":  \"checkpoint_epoch\",\n",
        "\n",
        "    # Loading experimental results\n",
        "    \"n_jobs\":   1,\n",
        "}"
      ]
    },
    {
      "cell_type": "code",
      "execution_count": 8,
      "metadata": {
        "id": "zsCn6p50-qoK"
      },
      "outputs": [],
      "source": [
        "!rm -rf results"
      ]
    },
    {
      "cell_type": "markdown",
      "metadata": {
        "id": "wgvhBuOA4cmY"
      },
      "source": [
        "Without an explicitly specified debiasing approach, *fairlib* by default trains and evaluates a binary MLP classifier. As a result, we only need to define: \n",
        "1. Path to the dataset.\n",
        "2. Dataset name, which will be used to initialize built-in dataloaders.\n",
        "3. Experiment id, which is the identifier of the current experiment, and experimental results with respect to the same `exp_id` will be saved in the same dir."
      ]
    },
    {
      "cell_type": "code",
      "execution_count": 9,
      "metadata": {
        "colab": {
          "base_uri": "https://localhost:8080/"
        },
        "id": "Y72Ep-kV95-p",
        "outputId": "419d8867-4c23-4d7f-b426-25656d80d3b5"
      },
      "outputs": [
        {
          "name": "stderr",
          "output_type": "stream",
          "text": [
            "INFO:root:Unexpected args: ['-f', '/root/.local/share/jupyter/runtime/kernel-94fdc7f5-0523-4a20-889a-536d5b502976.json']\n",
            "INFO:root:Logging to ./results/dev/Moji/vanilla/output.log\n"
          ]
        },
        {
          "name": "stdout",
          "output_type": "stream",
          "text": [
            "2022-05-02 02:50:46 [INFO ]  ======================================== 2022-05-02 02:50:46 ========================================\n",
            "2022-05-02 02:50:46 [INFO ]  Base directory is ./results/dev/Moji/vanilla\n",
            "Loaded data shapes: (99998, 2304), (99998,), (99998,)\n",
            "Loaded data shapes: (8000, 2304), (8000,), (8000,)\n",
            "Loaded data shapes: (7998, 2304), (7998,), (7998,)\n"
          ]
        }
      ],
      "source": [
        "args = {\n",
        "    \"dataset\":Shared_options[\"dataset\"], \n",
        "    \"data_dir\":Shared_options[\"data_dir\"],\n",
        "    \"device_id\":Shared_options[\"device_id\"],\n",
        "\n",
        "    # Give a name to the exp, which will be used in the path\n",
        "    \"exp_id\":\"vanilla\",\n",
        "}\n",
        "\n",
        "# Init the argument\n",
        "options = fairlib.BaseOptions()\n",
        "state = options.get_state(args=args, silence=True)"
      ]
    },
    {
      "cell_type": "markdown",
      "metadata": {
        "id": "sb9xA0Y14cmZ"
      },
      "source": [
        "### Train a model without explicitly debiasing"
      ]
    },
    {
      "cell_type": "markdown",
      "metadata": {
        "id": "3Bzy4c3B4cmZ"
      },
      "source": [
        "Given the 2304d encoded text representations, the default model in *fairlib* is a 3-layer MLP classifier with Tanh activation functions in between. \n",
        "\n",
        "To customize the MLP architecture, we can specify the hyperparameters in the `state` as follows\n",
        "```python\n",
        "state.hidden_size = 300\n",
        "state.n_hidden = 2\n",
        "state.activation_function = \"Tanh\"\n",
        "```\n",
        "\n",
        "Please see the [model architecture section](https://github.com/HanXudong/fairlib/blob/main/docs/usage.md#basic-operation) for more details about the hyperparameters corresponding to the model architecture."
      ]
    },
    {
      "cell_type": "code",
      "execution_count": 10,
      "metadata": {
        "colab": {
          "base_uri": "https://localhost:8080/"
        },
        "id": "Cjg7pH1R95-r",
        "outputId": "1893a18e-b400-44a0-cca3-82a42dc47eac"
      },
      "outputs": [
        {
          "name": "stdout",
          "output_type": "stream",
          "text": [
            "2022-05-02 02:50:47 [INFO ]  MLP( \n",
            "2022-05-02 02:50:47 [INFO ]    (output_layer): Linear(in_features=300, out_features=2, bias=True)\n",
            "2022-05-02 02:50:47 [INFO ]    (AF): Tanh()\n",
            "2022-05-02 02:50:47 [INFO ]    (hidden_layers): ModuleList(\n",
            "2022-05-02 02:50:47 [INFO ]      (0): Linear(in_features=2304, out_features=300, bias=True)\n",
            "2022-05-02 02:50:47 [INFO ]      (1): Tanh()\n",
            "2022-05-02 02:50:47 [INFO ]      (2): Linear(in_features=300, out_features=300, bias=True)\n",
            "2022-05-02 02:50:47 [INFO ]      (3): Tanh()\n",
            "2022-05-02 02:50:47 [INFO ]    )\n",
            "2022-05-02 02:50:47 [INFO ]    (criterion): CrossEntropyLoss()\n",
            "2022-05-02 02:50:47 [INFO ]  )\n",
            "2022-05-02 02:50:47 [INFO ]  Total number of parameters: 782402 \n",
            "\n"
          ]
        }
      ],
      "source": [
        "fairlib.utils.seed_everything(2022)\n",
        "\n",
        "# Init Model\n",
        "model = fairlib.networks.get_main_model(state)"
      ]
    },
    {
      "cell_type": "markdown",
      "metadata": {
        "id": "ZHHnI6Nr4cmZ"
      },
      "source": [
        "A list of hyperparameters has been predefined in *fairlib*, so we can now directly train a model with the model class's built-in `train_self` method.\n",
        "\n",
        "Please see the [link](https://github.com/HanXudong/fairlib/blob/23a32a6f4b3db00134bd651a6e0aa0747ba0adc2/fairlib/src/base_options.py#L162-L200) for all hyperparameters associated with model training."
      ]
    },
    {
      "cell_type": "code",
      "execution_count": 11,
      "metadata": {
        "colab": {
          "base_uri": "https://localhost:8080/"
        },
        "id": "jxEnlrt195-r",
        "outputId": "648d7a37-bc53-4180-9b69-f901c2981409"
      },
      "outputs": [
        {
          "name": "stdout",
          "output_type": "stream",
          "text": [
            "2022-05-02 02:50:48 [INFO ]  Epoch:    0 [      0/  99998 ( 0%)]\tLoss: 0.6906\t Data Time: 0.02s\tTrain Time: 0.20s\n",
            "2022-05-02 02:50:51 [INFO ]  Epoch:    0 [  51200/  99998 (51%)]\tLoss: 0.3926\t Data Time: 0.37s\tTrain Time: 3.35s\n",
            "2022-05-02 02:50:56 [INFO ]  Evaluation at Epoch 0\n",
            "2022-05-02 02:50:56 [INFO ]  Validation accuracy: 72.55\tmacro_fscore: 72.44\tmicro_fscore: 72.55\tTPR_GAP: 40.07\tFPR_GAP: 40.07\tPPR_GAP: 39.10\t\n",
            "2022-05-02 02:50:56 [INFO ]  Test accuracy: 71.41\tmacro_fscore: 71.30\tmicro_fscore: 71.41\tTPR_GAP: 39.01\tFPR_GAP: 39.01\tPPR_GAP: 37.84\t\n",
            "2022-05-02 02:50:56 [INFO ]  Epoch:    1 [      0/  99998 ( 0%)]\tLoss: 0.4105\t Data Time: 0.02s\tTrain Time: 0.06s\n",
            "2022-05-02 02:50:59 [INFO ]  Epoch:    1 [  51200/  99998 (51%)]\tLoss: 0.4156\t Data Time: 0.39s\tTrain Time: 3.32s\n",
            "2022-05-02 02:51:03 [INFO ]  Evaluation at Epoch 1\n",
            "2022-05-02 02:51:03 [INFO ]  Validation accuracy: 72.36\tmacro_fscore: 72.32\tmicro_fscore: 72.36\tTPR_GAP: 39.81\tFPR_GAP: 39.81\tPPR_GAP: 39.27\t\n",
            "2022-05-02 02:51:03 [INFO ]  Test accuracy: 71.01\tmacro_fscore: 70.98\tmicro_fscore: 71.01\tTPR_GAP: 39.40\tFPR_GAP: 39.40\tPPR_GAP: 38.64\t\n",
            "2022-05-02 02:51:03 [INFO ]  Epoch:    2 [      0/  99998 ( 0%)]\tLoss: 0.3433\t Data Time: 0.01s\tTrain Time: 0.06s\n",
            "2022-05-02 02:51:07 [INFO ]  Epoch:    2 [  51200/  99998 (51%)]\tLoss: 0.3734\t Data Time: 0.37s\tTrain Time: 3.31s\n",
            "2022-05-02 02:51:11 [INFO ]  Epochs since last improvement: 1\n",
            "2022-05-02 02:51:11 [INFO ]  Evaluation at Epoch 2\n",
            "2022-05-02 02:51:11 [INFO ]  Validation accuracy: 72.42\tmacro_fscore: 72.37\tmicro_fscore: 72.42\tTPR_GAP: 40.91\tFPR_GAP: 40.91\tPPR_GAP: 40.20\t\n",
            "2022-05-02 02:51:11 [INFO ]  Test accuracy: 70.98\tmacro_fscore: 70.93\tmicro_fscore: 70.98\tTPR_GAP: 40.21\tFPR_GAP: 40.21\tPPR_GAP: 39.39\t\n",
            "2022-05-02 02:51:11 [INFO ]  Epoch:    3 [      0/  99998 ( 0%)]\tLoss: 0.3773\t Data Time: 0.02s\tTrain Time: 0.06s\n",
            "2022-05-02 02:51:15 [INFO ]  Epoch:    3 [  51200/  99998 (51%)]\tLoss: 0.3479\t Data Time: 0.37s\tTrain Time: 3.28s\n",
            "2022-05-02 02:51:19 [INFO ]  Epochs since last improvement: 2\n",
            "2022-05-02 02:51:19 [INFO ]  Evaluation at Epoch 3\n",
            "2022-05-02 02:51:19 [INFO ]  Validation accuracy: 72.09\tmacro_fscore: 71.92\tmicro_fscore: 72.09\tTPR_GAP: 41.54\tFPR_GAP: 41.54\tPPR_GAP: 40.17\t\n",
            "2022-05-02 02:51:19 [INFO ]  Test accuracy: 71.17\tmacro_fscore: 71.02\tmicro_fscore: 71.17\tTPR_GAP: 40.32\tFPR_GAP: 40.32\tPPR_GAP: 38.96\t\n",
            "2022-05-02 02:51:19 [INFO ]  Epoch:    4 [      0/  99998 ( 0%)]\tLoss: 0.3839\t Data Time: 0.01s\tTrain Time: 0.06s\n",
            "2022-05-02 02:51:23 [INFO ]  Epoch:    4 [  51200/  99998 (51%)]\tLoss: 0.3499\t Data Time: 0.39s\tTrain Time: 3.30s\n",
            "2022-05-02 02:51:26 [INFO ]  Epochs since last improvement: 3\n",
            "2022-05-02 02:51:27 [INFO ]  Evaluation at Epoch 4\n",
            "2022-05-02 02:51:27 [INFO ]  Validation accuracy: 71.50\tmacro_fscore: 71.43\tmicro_fscore: 71.50\tTPR_GAP: 42.76\tFPR_GAP: 42.76\tPPR_GAP: 42.00\t\n",
            "2022-05-02 02:51:27 [INFO ]  Test accuracy: 70.49\tmacro_fscore: 70.43\tmicro_fscore: 70.49\tTPR_GAP: 41.37\tFPR_GAP: 41.37\tPPR_GAP: 40.51\t\n",
            "2022-05-02 02:51:27 [INFO ]  Epoch:    5 [      0/  99998 ( 0%)]\tLoss: 0.3746\t Data Time: 0.01s\tTrain Time: 0.07s\n",
            "2022-05-02 02:51:31 [INFO ]  Epoch:    5 [  51200/  99998 (51%)]\tLoss: 0.3748\t Data Time: 0.38s\tTrain Time: 3.30s\n",
            "2022-05-02 02:51:34 [INFO ]  Epochs since last improvement: 4\n",
            "2022-05-02 02:51:35 [INFO ]  Evaluation at Epoch 5\n",
            "2022-05-02 02:51:35 [INFO ]  Validation accuracy: 72.67\tmacro_fscore: 72.60\tmicro_fscore: 72.67\tTPR_GAP: 39.17\tFPR_GAP: 39.17\tPPR_GAP: 38.35\t\n",
            "2022-05-02 02:51:35 [INFO ]  Test accuracy: 71.69\tmacro_fscore: 71.62\tmicro_fscore: 71.69\tTPR_GAP: 37.97\tFPR_GAP: 37.97\tPPR_GAP: 36.91\t\n",
            "2022-05-02 02:51:35 [INFO ]  Epoch:    6 [      0/  99998 ( 0%)]\tLoss: 0.3624\t Data Time: 0.01s\tTrain Time: 0.07s\n",
            "2022-05-02 02:51:38 [INFO ]  Epoch:    6 [  51200/  99998 (51%)]\tLoss: 0.3529\t Data Time: 0.37s\tTrain Time: 3.28s\n",
            "2022-05-02 02:51:42 [INFO ]  Epochs since last improvement: 5\n",
            "2022-05-02 02:51:42 [INFO ]  Evaluation at Epoch 6\n",
            "2022-05-02 02:51:42 [INFO ]  Validation accuracy: 72.70\tmacro_fscore: 72.62\tmicro_fscore: 72.70\tTPR_GAP: 38.29\tFPR_GAP: 38.29\tPPR_GAP: 37.50\t\n",
            "2022-05-02 02:51:42 [INFO ]  Test accuracy: 71.76\tmacro_fscore: 71.70\tmicro_fscore: 71.76\tTPR_GAP: 37.59\tFPR_GAP: 37.59\tPPR_GAP: 36.79\t\n"
          ]
        }
      ],
      "source": [
        "model.train_self()"
      ]
    },
    {
      "cell_type": "markdown",
      "metadata": {
        "id": "Z7w7Ssje4cma"
      },
      "source": [
        "After each iteration (epoch), evaluation results over the validation set and test set will be printed, including metrics for both performance and fairness.\n",
        "- Performance metrics: accuracy, macro F1 score, and micro F1 score\n",
        "- Bias metrics： RMS aggregated TPR GAP, RMS aggregated TNR GAP, and RMS aggregated PPR GAP.\n",
        "\n",
        "Briefly, these bias metrics measure how protected groups perform differently from each other. For example, the TPR GAP measures the True Positive Rate difference between AAE and SAE. All these three bias metrics should be 0 for a fair model.\n",
        "\n",
        "Moreover, GAP metrics could be aligned with particular well-known fairness metrics. For example, TPR GAP corresponds to Equal Opportunity Fairness, and Both TPR GAP and FPR GAP measure equalized Odds criterion. Please refer to [Barocas et al. 2019](https://fairmlbook.org/classification.html).\n",
        "\n",
        "It can be seen that the naively trained model achieves around 72\\% accuracy and 39\\% GAP, which is not ideal."
      ]
    },
    {
      "cell_type": "markdown",
      "metadata": {
        "id": "icypOoID4cma"
      },
      "source": [
        "### Bias mitigation through balanced training and adversarial training"
      ]
    },
    {
      "cell_type": "markdown",
      "metadata": {
        "id": "V8IE07Tw4cma"
      },
      "source": [
        "To mitigate bias in the sentiment analysis, we show an example of employing balanced training and adversarial training simultaneously.\n",
        "\n",
        "In terms of the balanced training, we resample each group of instances with different probabilities corresponding to the Equal Opportunity fairness criterion ([Han et al. 2021](https://arxiv.org/abs/2109.08253)).\n",
        "\n",
        "Adversarial training ([Li et al. 2018](https://arxiv.org/abs/1805.06093)) is applied at the training time, where an extra adversary component is trained to identify protected labels (AAE verse SAE in this tutorial) from the intermediate representations of the sentiment analysis model. The sentiment analysis model will be trained to unlearn the adversary, i.e., remove race information from its intermediate representations, and thus makes fairer predictions.\n",
        "\n",
        "Balanced training and adversarial training are built-in methods in *fairlib*, so we can adopt these two methods by simply specifying corresponding arguments, as shown in the following cell.\n",
        "\n",
        "- A list of supported bias mitigation methods is shown [here](https://github.com/HanXudong/fairlib/blob/main/docs/supported_bias_mitigation_algorithms.md)\n",
        "- The [usage](https://github.com/HanXudong/fairlib/blob/main/docs/usage.md) file introduces further options associated with each debiasing method, such as the adversary architecture and balanced training strategies."
      ]
    },
    {
      "cell_type": "code",
      "execution_count": 12,
      "metadata": {
        "colab": {
          "base_uri": "https://localhost:8080/"
        },
        "id": "-jLl7Wtt95-s",
        "outputId": "c01ffa74-1610-4ed1-8952-9dc229a2164a"
      },
      "outputs": [
        {
          "name": "stdout",
          "output_type": "stream",
          "text": [
            "2022-05-02 02:51:42 [INFO ]  Unexpected args: ['-f', '/root/.local/share/jupyter/runtime/kernel-94fdc7f5-0523-4a20-889a-536d5b502976.json']\n",
            "2022-05-02 02:51:42 [INFO ]  Logging to ./results/dev/Moji/BT_Adv/output.log\n",
            "2022-05-02 02:51:42 [INFO ]  ======================================== 2022-05-02 02:51:42 ========================================\n",
            "2022-05-02 02:51:42 [INFO ]  Base directory is ./results/dev/Moji/BT_Adv\n",
            "Loaded data shapes: (39996, 2304), (39996,), (39996,)\n",
            "Loaded data shapes: (8000, 2304), (8000,), (8000,)\n",
            "Loaded data shapes: (7996, 2304), (7996,), (7996,)\n",
            "2022-05-02 02:51:51 [INFO ]  SubDiscriminator( \n",
            "2022-05-02 02:51:51 [INFO ]    (grad_rev): GradientReversal()\n",
            "2022-05-02 02:51:51 [INFO ]    (output_layer): Linear(in_features=300, out_features=2, bias=True)\n",
            "2022-05-02 02:51:51 [INFO ]    (AF): ReLU()\n",
            "2022-05-02 02:51:51 [INFO ]    (hidden_layers): ModuleList(\n",
            "2022-05-02 02:51:51 [INFO ]      (0): Linear(in_features=300, out_features=300, bias=True)\n",
            "2022-05-02 02:51:51 [INFO ]      (1): ReLU()\n",
            "2022-05-02 02:51:51 [INFO ]      (2): Linear(in_features=300, out_features=300, bias=True)\n",
            "2022-05-02 02:51:51 [INFO ]      (3): ReLU()\n",
            "2022-05-02 02:51:51 [INFO ]    )\n",
            "2022-05-02 02:51:51 [INFO ]    (criterion): CrossEntropyLoss()\n",
            "2022-05-02 02:51:51 [INFO ]  )\n",
            "2022-05-02 02:51:51 [INFO ]  Total number of parameters: 181202 \n",
            "\n",
            "2022-05-02 02:51:51 [INFO ]  Discriminator built!\n",
            "2022-05-02 02:51:51 [INFO ]  MLP( \n",
            "2022-05-02 02:51:51 [INFO ]    (output_layer): Linear(in_features=300, out_features=2, bias=True)\n",
            "2022-05-02 02:51:51 [INFO ]    (AF): Tanh()\n",
            "2022-05-02 02:51:51 [INFO ]    (hidden_layers): ModuleList(\n",
            "2022-05-02 02:51:51 [INFO ]      (0): Linear(in_features=2304, out_features=300, bias=True)\n",
            "2022-05-02 02:51:51 [INFO ]      (1): Tanh()\n",
            "2022-05-02 02:51:51 [INFO ]      (2): Linear(in_features=300, out_features=300, bias=True)\n",
            "2022-05-02 02:51:51 [INFO ]      (3): Tanh()\n",
            "2022-05-02 02:51:51 [INFO ]    )\n",
            "2022-05-02 02:51:51 [INFO ]    (criterion): CrossEntropyLoss()\n",
            "2022-05-02 02:51:51 [INFO ]  )\n",
            "2022-05-02 02:51:51 [INFO ]  Total number of parameters: 782402 \n",
            "\n"
          ]
        }
      ],
      "source": [
        "debiasing_args = {\n",
        "    \"dataset\":Shared_options[\"dataset\"], \n",
        "    \"data_dir\":Shared_options[\"data_dir\"],\n",
        "    \"device_id\":Shared_options[\"device_id\"],\n",
        "\n",
        "    # Exp name\n",
        "    \"exp_id\":\"BT_Adv\",\n",
        "\n",
        "    # Perform adversarial training if True\n",
        "    \"adv_debiasing\":True,\n",
        "\n",
        "    # Specify the hyperparameters for Balanced Training\n",
        "    \"BT\":\"Resampling\",\n",
        "    \"BTObj\":\"EO\",\n",
        "}\n",
        "\n",
        "debias_options = fairlib.BaseOptions()\n",
        "debias_state = debias_options.get_state(args=debiasing_args, silence=True)\n",
        "\n",
        "fairlib.utils.seed_everything(2022)\n",
        "\n",
        "debias_model = fairlib.networks.get_main_model(debias_state)"
      ]
    },
    {
      "cell_type": "markdown",
      "metadata": {
        "id": "P7RpNdF04cmb"
      },
      "source": [
        "It can be seen from the last cell that the training dataset size is smaller than before (40k verse 100k) due to the preprocessing for balanced training, and an MLP adversary is initialized for adversarial debiasing.\n",
        "\n",
        "The training process will be the same as the vanilla method. We call the `train_self` function again to train a model with bias mitigation."
      ]
    },
    {
      "cell_type": "code",
      "execution_count": 13,
      "metadata": {
        "colab": {
          "base_uri": "https://localhost:8080/"
        },
        "id": "QNFVF7EQ95-s",
        "outputId": "2e901900-b613-4ba3-b339-fc903615b206"
      },
      "outputs": [
        {
          "name": "stdout",
          "output_type": "stream",
          "text": [
            "2022-05-02 02:51:51 [INFO ]  Epoch:    0 [      0/  39996 ( 0%)]\tLoss: 0.0007\t Data Time: 0.02s\tTrain Time: 0.20s\n",
            "2022-05-02 02:51:59 [INFO ]  Evaluation at Epoch 0\n",
            "2022-05-02 02:51:59 [INFO ]  Validation accuracy: 74.26\tmacro_fscore: 73.70\tmicro_fscore: 74.26\tTPR_GAP: 19.22\tFPR_GAP: 19.22\tPPR_GAP: 16.42\t\n",
            "2022-05-02 02:51:59 [INFO ]  Test accuracy: 74.32\tmacro_fscore: 73.82\tmicro_fscore: 74.32\tTPR_GAP: 18.77\tFPR_GAP: 18.77\tPPR_GAP: 15.08\t\n",
            "2022-05-02 02:52:00 [INFO ]  Epoch:    1 [      0/  39996 ( 0%)]\tLoss: -0.1897\t Data Time: 0.01s\tTrain Time: 0.21s\n",
            "2022-05-02 02:52:08 [INFO ]  Epochs since last improvement: 1\n",
            "2022-05-02 02:52:08 [INFO ]  Evaluation at Epoch 1\n",
            "2022-05-02 02:52:08 [INFO ]  Validation accuracy: 74.70\tmacro_fscore: 74.62\tmicro_fscore: 74.70\tTPR_GAP: 9.40\tFPR_GAP: 9.40\tPPR_GAP: 5.25\t\n",
            "2022-05-02 02:52:08 [INFO ]  Test accuracy: 74.09\tmacro_fscore: 73.95\tmicro_fscore: 74.09\tTPR_GAP: 9.68\tFPR_GAP: 9.68\tPPR_GAP: 2.50\t\n",
            "2022-05-02 02:52:09 [INFO ]  Epoch:    2 [      0/  39996 ( 0%)]\tLoss: -0.1648\t Data Time: 0.01s\tTrain Time: 0.20s\n",
            "2022-05-02 02:52:17 [INFO ]  Evaluation at Epoch 2\n",
            "2022-05-02 02:52:17 [INFO ]  Validation accuracy: 75.55\tmacro_fscore: 75.54\tmicro_fscore: 75.55\tTPR_GAP: 12.97\tFPR_GAP: 12.97\tPPR_GAP: 10.40\t\n",
            "2022-05-02 02:52:17 [INFO ]  Test accuracy: 75.49\tmacro_fscore: 75.49\tmicro_fscore: 75.49\tTPR_GAP: 12.18\tFPR_GAP: 12.18\tPPR_GAP: 7.55\t\n",
            "2022-05-02 02:52:17 [INFO ]  Epoch:    3 [      0/  39996 ( 0%)]\tLoss: -0.2571\t Data Time: 0.01s\tTrain Time: 0.20s\n",
            "2022-05-02 02:52:25 [INFO ]  Epochs since last improvement: 1\n",
            "2022-05-02 02:52:26 [INFO ]  Evaluation at Epoch 3\n",
            "2022-05-02 02:52:26 [INFO ]  Validation accuracy: 75.81\tmacro_fscore: 75.80\tmicro_fscore: 75.81\tTPR_GAP: 15.98\tFPR_GAP: 15.98\tPPR_GAP: 14.17\t\n",
            "2022-05-02 02:52:26 [INFO ]  Test accuracy: 75.35\tmacro_fscore: 75.35\tmicro_fscore: 75.35\tTPR_GAP: 15.25\tFPR_GAP: 15.25\tPPR_GAP: 11.83\t\n",
            "2022-05-02 02:52:26 [INFO ]  Epoch:    4 [      0/  39996 ( 0%)]\tLoss: -0.1475\t Data Time: 0.01s\tTrain Time: 0.21s\n",
            "2022-05-02 02:52:35 [INFO ]  Evaluation at Epoch 4\n",
            "2022-05-02 02:52:35 [INFO ]  Validation accuracy: 75.83\tmacro_fscore: 75.80\tmicro_fscore: 75.83\tTPR_GAP: 11.29\tFPR_GAP: 11.29\tPPR_GAP: 7.70\t\n",
            "2022-05-02 02:52:35 [INFO ]  Test accuracy: 75.48\tmacro_fscore: 75.46\tmicro_fscore: 75.48\tTPR_GAP: 11.94\tFPR_GAP: 11.94\tPPR_GAP: 5.33\t\n",
            "2022-05-02 02:52:35 [INFO ]  Epoch:    5 [      0/  39996 ( 0%)]\tLoss: -0.1744\t Data Time: 0.01s\tTrain Time: 0.20s\n",
            "2022-05-02 02:52:43 [INFO ]  Evaluation at Epoch 5\n",
            "2022-05-02 02:52:43 [INFO ]  Validation accuracy: 75.56\tmacro_fscore: 75.38\tmicro_fscore: 75.56\tTPR_GAP: 15.65\tFPR_GAP: 15.65\tPPR_GAP: 13.37\t\n",
            "2022-05-02 02:52:43 [INFO ]  Test accuracy: 75.26\tmacro_fscore: 75.11\tmicro_fscore: 75.26\tTPR_GAP: 15.42\tFPR_GAP: 15.42\tPPR_GAP: 11.56\t\n",
            "2022-05-02 02:52:43 [INFO ]  Epoch:    6 [      0/  39996 ( 0%)]\tLoss: -0.2199\t Data Time: 0.01s\tTrain Time: 0.20s\n",
            "2022-05-02 02:52:52 [INFO ]  Epochs since last improvement: 1\n",
            "2022-05-02 02:52:52 [INFO ]  Evaluation at Epoch 6\n",
            "2022-05-02 02:52:52 [INFO ]  Validation accuracy: 75.70\tmacro_fscore: 75.68\tmicro_fscore: 75.70\tTPR_GAP: 9.72\tFPR_GAP: 9.72\tPPR_GAP: 5.60\t\n",
            "2022-05-02 02:52:52 [INFO ]  Test accuracy: 75.36\tmacro_fscore: 75.36\tmicro_fscore: 75.36\tTPR_GAP: 10.30\tFPR_GAP: 10.30\tPPR_GAP: 3.00\t\n",
            "2022-05-02 02:52:52 [INFO ]  Epoch:    7 [      0/  39996 ( 0%)]\tLoss: -0.1880\t Data Time: 0.01s\tTrain Time: 0.20s\n",
            "2022-05-02 02:53:00 [INFO ]  Epochs since last improvement: 2\n",
            "2022-05-02 02:53:01 [INFO ]  Evaluation at Epoch 7\n",
            "2022-05-02 02:53:01 [INFO ]  Validation accuracy: 75.76\tmacro_fscore: 75.71\tmicro_fscore: 75.76\tTPR_GAP: 22.58\tFPR_GAP: 22.58\tPPR_GAP: 21.02\t\n",
            "2022-05-02 02:53:01 [INFO ]  Test accuracy: 74.92\tmacro_fscore: 74.88\tmicro_fscore: 74.92\tTPR_GAP: 21.33\tFPR_GAP: 21.33\tPPR_GAP: 18.93\t\n",
            "2022-05-02 02:53:01 [INFO ]  Epoch:    8 [      0/  39996 ( 0%)]\tLoss: -0.2015\t Data Time: 0.01s\tTrain Time: 0.20s\n",
            "2022-05-02 02:53:09 [INFO ]  Epochs since last improvement: 3\n",
            "2022-05-02 02:53:10 [INFO ]  Evaluation at Epoch 8\n",
            "2022-05-02 02:53:10 [INFO ]  Validation accuracy: 75.64\tmacro_fscore: 75.46\tmicro_fscore: 75.64\tTPR_GAP: 17.73\tFPR_GAP: 17.73\tPPR_GAP: 15.37\t\n",
            "2022-05-02 02:53:10 [INFO ]  Test accuracy: 75.38\tmacro_fscore: 75.23\tmicro_fscore: 75.38\tTPR_GAP: 17.23\tFPR_GAP: 17.23\tPPR_GAP: 13.93\t\n",
            "2022-05-02 02:53:10 [INFO ]  Epoch:    9 [      0/  39996 ( 0%)]\tLoss: -0.2016\t Data Time: 0.01s\tTrain Time: 0.20s\n",
            "2022-05-02 02:53:18 [INFO ]  Epochs since last improvement: 4\n",
            "2022-05-02 02:53:18 [INFO ]  Evaluation at Epoch 9\n",
            "2022-05-02 02:53:18 [INFO ]  Validation accuracy: 75.44\tmacro_fscore: 75.27\tmicro_fscore: 75.44\tTPR_GAP: 17.00\tFPR_GAP: 17.00\tPPR_GAP: 14.62\t\n",
            "2022-05-02 02:53:18 [INFO ]  Test accuracy: 75.45\tmacro_fscore: 75.30\tmicro_fscore: 75.45\tTPR_GAP: 17.51\tFPR_GAP: 17.51\tPPR_GAP: 13.83\t\n",
            "2022-05-02 02:53:19 [INFO ]  Epoch:   10 [      0/  39996 ( 0%)]\tLoss: -0.2201\t Data Time: 0.01s\tTrain Time: 0.20s\n",
            "2022-05-02 02:53:27 [INFO ]  Epochs since last improvement: 5\n",
            "2022-05-02 02:53:27 [INFO ]  Evaluation at Epoch 10\n",
            "2022-05-02 02:53:27 [INFO ]  Validation accuracy: 74.81\tmacro_fscore: 74.40\tmicro_fscore: 74.81\tTPR_GAP: 18.69\tFPR_GAP: 18.69\tPPR_GAP: 16.07\t\n",
            "2022-05-02 02:53:27 [INFO ]  Test accuracy: 74.42\tmacro_fscore: 74.02\tmicro_fscore: 74.42\tTPR_GAP: 18.79\tFPR_GAP: 18.79\tPPR_GAP: 15.03\t\n"
          ]
        }
      ],
      "source": [
        "# Around 90s\n",
        "debias_model.train_self()"
      ]
    },
    {
      "cell_type": "markdown",
      "metadata": {
        "id": "EHlCqypt4cmb"
      },
      "source": [
        "It can be seen that GAP scores drop significantly, confirming that the debiasing method indeed improves fairness.\n",
        "\n",
        "Here we provide two more examples for employing different debiasing methods.\n",
        "\n",
        "- Only using the adversarial training for bias mitigation\n",
        "\n",
        "    We need to remove the options that are not related to adversarial training.\n",
        "\n",
        "    ```python\n",
        "    debiasing_args = {\n",
        "        \"dataset\":Shared_options[\"dataset\"], \n",
        "        \"data_dir\":Shared_options[\"data_dir\"],\n",
        "        \"device_id\":Shared_options[\"device_id\"],\n",
        "\n",
        "        # Exp name\n",
        "        \"exp_id\":\"Adv\",\n",
        "\n",
        "        # Perform adversarial training if True\n",
        "        \"adv_debiasing\":True,\n",
        "\n",
        "        # Remove the hyperparameters for Balanced Training\n",
        "        # \"BT\":\"Resampling\",\n",
        "        # \"BTObj\":\"EO\",\n",
        "    }\n",
        "    ```\n",
        "\n",
        "\n",
        "- Use more debiasing methods simultaneously\n",
        "\n",
        "    In addition to balanced training and adversarial training, employ FairBatch ([Roh te al. 2021](https://github.com/yuji-roh/fairbatch)) for bias mitigation\n",
        "    \n",
        "    We can direct add FairBatch options to the argument dict as follows,\n",
        "    ```python\n",
        "        debiasing_args = {\n",
        "            \"dataset\":Shared_options[\"dataset\"], \n",
        "            \"data_dir\":Shared_options[\"data_dir\"],\n",
        "            \"device_id\":Shared_options[\"device_id\"],\n",
        "\n",
        "            # Exp name\n",
        "            \"exp_id\":\"BT_Adv_FairBatch\",\n",
        "\n",
        "            # Perform adversarial training if True\n",
        "            \"adv_debiasing\":True,\n",
        "\n",
        "            # Specify the hyperparameters for Balanced Training\n",
        "            \"BT\":\"Resampling\",\n",
        "            \"BTObj\":\"EO\",\n",
        "\n",
        "            # Specify the hyperparameters for FairBatch\n",
        "            \"DyBT\": \"FairBatch\", \n",
        "            \"DyBTObj\": \"stratified_y\" # Equivalent to the EO FairBatch in the original paper\n",
        "        }\n",
        "    ```\n"
      ]
    },
    {
      "cell_type": "markdown",
      "metadata": {
        "id": "4_RYwXR-95-s"
      },
      "source": [
        "## 4. Analysis\n",
        "\n",
        "Previous sections have demonstrated how to train a model for bias mitigation under different settings. \n",
        "Besides, some other important aspects need to be considered, including,\n",
        "- how to select the desired model when considering both fairness and performance?\n",
        "- how to compare different debiasing methods systematically?\n",
        "- how to present experimental results?\n",
        "\n",
        "The `analysis` component in *fairlib* aims to address problems, which can be used to retrieve results, select models, and compare models."
      ]
    },
    {
      "cell_type": "markdown",
      "metadata": {
        "id": "-PLJ_lYX95-t"
      },
      "source": [
        "### Saved material\n",
        "\n",
        "During the model training, *fairlib* saves results for later analysis, so let's explore what has been stored.\n",
        "\n",
        "The arguments specify the saving dir when initialling the state for training as: `results_dir`/`project_dir`/`dataset`/`exp_id`.\n",
        "\n",
        "The following example shows the information that has been stored for the first epoch (i.e. epoch 0):"
      ]
    },
    {
      "cell_type": "code",
      "execution_count": 14,
      "metadata": {
        "colab": {
          "base_uri": "https://localhost:8080/"
        },
        "id": "x0LKo1uu95-t",
        "outputId": "4e48360d-dfb0-4e9e-bbca-77f506cff104"
      },
      "outputs": [
        {
          "name": "stdout",
          "output_type": "stream",
          "text": [
            "dict_keys(['epoch', 'epochs_since_improvement', 'loss', 'valid_confusion_matrices', 'test_confusion_matrices', 'dev_evaluations', 'test_evaluations'])\n"
          ]
        }
      ],
      "source": [
        "import torch\n",
        "\n",
        "path = \"{results_dir}/{project_dir}/{dataset}/{exp_id}/{checkpoint_dir}/{checkpoint_name}{epoch}.pth.tar\"\n",
        "\n",
        "# Path to the first epoch\n",
        "path_vanilla_epoch0 = path.format(\n",
        "    exp_id = \"vanilla\",\n",
        "    epoch = \"0\",\n",
        "    results_dir=Shared_options[\"results_dir\"],\n",
        "    project_dir=Shared_options[\"project_dir\"],\n",
        "    dataset=Shared_options[\"dataset\"],\n",
        "    checkpoint_dir=Shared_options[\"checkpoint_dir\"],\n",
        "    checkpoint_name=Shared_options[\"checkpoint_name\"],\n",
        ")\n",
        "\n",
        "epoch_results = torch.load(path_vanilla_epoch0)\n",
        "# The keys for saved items\n",
        "print(epoch_results.keys())"
      ]
    },
    {
      "cell_type": "markdown",
      "metadata": {
        "id": "hZfmZg5x4cmc"
      },
      "source": [
        "The printed information during the model training, such as evaluation results over validation and test set, have been stored for each epoch."
      ]
    },
    {
      "cell_type": "code",
      "execution_count": 15,
      "metadata": {
        "colab": {
          "base_uri": "https://localhost:8080/"
        },
        "id": "p3iW2W_U95-t",
        "outputId": "9650b6f6-144a-434e-ad27-6c7473461880"
      },
      "outputs": [
        {
          "name": "stdout",
          "output_type": "stream",
          "text": [
            "{'accuracy': 0.7255, 'macro_fscore': 0.7244493079894455, 'micro_fscore': 0.7255, 'TPR_GAP': 0.4006709956925445, 'FPR_GAP': 0.40067100170260955, 'PPR_GAP': 0.39099999902250004}\n"
          ]
        }
      ],
      "source": [
        "print(epoch_results[\"dev_evaluations\"])"
      ]
    },
    {
      "cell_type": "markdown",
      "metadata": {
        "id": "FK6ZxZCr4cmc"
      },
      "source": [
        "Moreover, *fairlib* will also save the **confusion matrix** for each epoch. Any confusion-matrix based scores can be post-calculated in later analysis without the need for retraining the models."
      ]
    },
    {
      "cell_type": "code",
      "execution_count": 16,
      "metadata": {
        "id": "ec3ab6KE95-u"
      },
      "outputs": [],
      "source": [
        "from fairlib import analysis"
      ]
    },
    {
      "cell_type": "markdown",
      "metadata": {
        "id": "5nXxD6RL4cmd"
      },
      "source": [
        "### How to select the desired model when considering both fairness and performance?\n",
        "\n",
        "As discussed in Section 4 of our paper, there are different ways of selecting the best model, and here we use the DTO metric for epoch selection."
      ]
    },
    {
      "cell_type": "markdown",
      "metadata": {
        "id": "DExIbSd6Very"
      },
      "source": [
        "`model_selection` retrieves experimental results for a single method, selects the desired **epoch** for each run, and saves the resulting df for a later process."
      ]
    },
    {
      "cell_type": "code",
      "execution_count": 17,
      "metadata": {
        "colab": {
          "base_uri": "https://localhost:8080/",
          "height": 164
        },
        "id": "A3RixGf695-u",
        "outputId": "e99a5f31-8c70-4ede-f2ab-a337cec6bb5e"
      },
      "outputs": [
        {
          "name": "stderr",
          "output_type": "stream",
          "text": [
            "[Parallel(n_jobs=1)]: Using backend SequentialBackend with 1 concurrent workers.\n",
            "[Parallel(n_jobs=1)]: Done   1 out of   1 | elapsed:    0.0s remaining:    0.0s\n",
            "[Parallel(n_jobs=1)]: Done   1 out of   1 | elapsed:    0.0s finished\n"
          ]
        },
        {
          "data": {
            "text/html": [
              "\n",
              "  <div id=\"df-e3634b56-3952-4a96-af30-9e3193bf3f5f\">\n",
              "    <div class=\"colab-df-container\">\n",
              "      <div>\n",
              "<style scoped>\n",
              "    .dataframe tbody tr th:only-of-type {\n",
              "        vertical-align: middle;\n",
              "    }\n",
              "\n",
              "    .dataframe tbody tr th {\n",
              "        vertical-align: top;\n",
              "    }\n",
              "\n",
              "    .dataframe thead th {\n",
              "        text-align: right;\n",
              "    }\n",
              "</style>\n",
              "<table border=\"1\" class=\"dataframe\">\n",
              "  <thead>\n",
              "    <tr style=\"text-align: right;\">\n",
              "      <th></th>\n",
              "      <th></th>\n",
              "      <th></th>\n",
              "      <th>epoch</th>\n",
              "      <th>dev_fairness</th>\n",
              "      <th>dev_performance</th>\n",
              "      <th>dev_DTO</th>\n",
              "      <th>test_fairness</th>\n",
              "      <th>test_performance</th>\n",
              "      <th>test_DTO</th>\n",
              "      <th>opt_dir</th>\n",
              "    </tr>\n",
              "    <tr>\n",
              "      <th>BT</th>\n",
              "      <th>BTObj</th>\n",
              "      <th>adv_debiasing</th>\n",
              "      <th></th>\n",
              "      <th></th>\n",
              "      <th></th>\n",
              "      <th></th>\n",
              "      <th></th>\n",
              "      <th></th>\n",
              "      <th></th>\n",
              "      <th></th>\n",
              "    </tr>\n",
              "  </thead>\n",
              "  <tbody>\n",
              "    <tr>\n",
              "      <th>NaN</th>\n",
              "      <th>NaN</th>\n",
              "      <th>False</th>\n",
              "      <td>0</td>\n",
              "      <td>0.617075</td>\n",
              "      <td>0.727</td>\n",
              "      <td>0.0</td>\n",
              "      <td>0.624079</td>\n",
              "      <td>0.717554</td>\n",
              "      <td>0.0</td>\n",
              "      <td>results/dev/Moji/vanilla/opt.yaml</td>\n",
              "    </tr>\n",
              "  </tbody>\n",
              "</table>\n",
              "</div>\n",
              "      <button class=\"colab-df-convert\" onclick=\"convertToInteractive('df-e3634b56-3952-4a96-af30-9e3193bf3f5f')\"\n",
              "              title=\"Convert this dataframe to an interactive table.\"\n",
              "              style=\"display:none;\">\n",
              "        \n",
              "  <svg xmlns=\"http://www.w3.org/2000/svg\" height=\"24px\"viewBox=\"0 0 24 24\"\n",
              "       width=\"24px\">\n",
              "    <path d=\"M0 0h24v24H0V0z\" fill=\"none\"/>\n",
              "    <path d=\"M18.56 5.44l.94 2.06.94-2.06 2.06-.94-2.06-.94-.94-2.06-.94 2.06-2.06.94zm-11 1L8.5 8.5l.94-2.06 2.06-.94-2.06-.94L8.5 2.5l-.94 2.06-2.06.94zm10 10l.94 2.06.94-2.06 2.06-.94-2.06-.94-.94-2.06-.94 2.06-2.06.94z\"/><path d=\"M17.41 7.96l-1.37-1.37c-.4-.4-.92-.59-1.43-.59-.52 0-1.04.2-1.43.59L10.3 9.45l-7.72 7.72c-.78.78-.78 2.05 0 2.83L4 21.41c.39.39.9.59 1.41.59.51 0 1.02-.2 1.41-.59l7.78-7.78 2.81-2.81c.8-.78.8-2.07 0-2.86zM5.41 20L4 18.59l7.72-7.72 1.47 1.35L5.41 20z\"/>\n",
              "  </svg>\n",
              "      </button>\n",
              "      \n",
              "  <style>\n",
              "    .colab-df-container {\n",
              "      display:flex;\n",
              "      flex-wrap:wrap;\n",
              "      gap: 12px;\n",
              "    }\n",
              "\n",
              "    .colab-df-convert {\n",
              "      background-color: #E8F0FE;\n",
              "      border: none;\n",
              "      border-radius: 50%;\n",
              "      cursor: pointer;\n",
              "      display: none;\n",
              "      fill: #1967D2;\n",
              "      height: 32px;\n",
              "      padding: 0 0 0 0;\n",
              "      width: 32px;\n",
              "    }\n",
              "\n",
              "    .colab-df-convert:hover {\n",
              "      background-color: #E2EBFA;\n",
              "      box-shadow: 0px 1px 2px rgba(60, 64, 67, 0.3), 0px 1px 3px 1px rgba(60, 64, 67, 0.15);\n",
              "      fill: #174EA6;\n",
              "    }\n",
              "\n",
              "    [theme=dark] .colab-df-convert {\n",
              "      background-color: #3B4455;\n",
              "      fill: #D2E3FC;\n",
              "    }\n",
              "\n",
              "    [theme=dark] .colab-df-convert:hover {\n",
              "      background-color: #434B5C;\n",
              "      box-shadow: 0px 1px 3px 1px rgba(0, 0, 0, 0.15);\n",
              "      filter: drop-shadow(0px 1px 2px rgba(0, 0, 0, 0.3));\n",
              "      fill: #FFFFFF;\n",
              "    }\n",
              "  </style>\n",
              "\n",
              "      <script>\n",
              "        const buttonEl =\n",
              "          document.querySelector('#df-e3634b56-3952-4a96-af30-9e3193bf3f5f button.colab-df-convert');\n",
              "        buttonEl.style.display =\n",
              "          google.colab.kernel.accessAllowed ? 'block' : 'none';\n",
              "\n",
              "        async function convertToInteractive(key) {\n",
              "          const element = document.querySelector('#df-e3634b56-3952-4a96-af30-9e3193bf3f5f');\n",
              "          const dataTable =\n",
              "            await google.colab.kernel.invokeFunction('convertToInteractive',\n",
              "                                                     [key], {});\n",
              "          if (!dataTable) return;\n",
              "\n",
              "          const docLinkHtml = 'Like what you see? Visit the ' +\n",
              "            '<a target=\"_blank\" href=https://colab.research.google.com/notebooks/data_table.ipynb>data table notebook</a>'\n",
              "            + ' to learn more about interactive tables.';\n",
              "          element.innerHTML = '';\n",
              "          dataTable['output_type'] = 'display_data';\n",
              "          await google.colab.output.renderOutput(dataTable, element);\n",
              "          const docLink = document.createElement('div');\n",
              "          docLink.innerHTML = docLinkHtml;\n",
              "          element.appendChild(docLink);\n",
              "        }\n",
              "      </script>\n",
              "    </div>\n",
              "  </div>\n",
              "  "
            ],
            "text/plain": [
              "                         epoch  dev_fairness  dev_performance  dev_DTO  \\\n",
              "BT  BTObj adv_debiasing                                                  \n",
              "NaN NaN   False              0      0.617075            0.727      0.0   \n",
              "\n",
              "                         test_fairness  test_performance  test_DTO  \\\n",
              "BT  BTObj adv_debiasing                                              \n",
              "NaN NaN   False               0.624079          0.717554       0.0   \n",
              "\n",
              "                                                   opt_dir  \n",
              "BT  BTObj adv_debiasing                                     \n",
              "NaN NaN   False          results/dev/Moji/vanilla/opt.yaml  "
            ]
          },
          "execution_count": 17,
          "metadata": {},
          "output_type": "execute_result"
        }
      ],
      "source": [
        "analysis.model_selection(\n",
        "    # exp_id started with model_id will be treated as the same method, e.g, vanilla, and adv\n",
        "    model_id= (\"vanilla\"),\n",
        "\n",
        "    # the tuned hyperparameters of a methods, which will be used to group multiple runs together.\n",
        "    # This option is generally used for differentiating models with the same debiasing method but \n",
        "    # with different method-specific hyperparameters, such as the strength of adversarial loss for Adv\n",
        "    # Random seeds should not be included here, such that, random runs with same hyperparameters can\n",
        "    # be aggregated to present the statistics of the results. \n",
        "    index_column_names = [\"BT\", \"BTObj\", \"adv_debiasing\"],\n",
        "\n",
        "    # to convenient the further analysis, we will store the resulting DataFrame to the specified path\n",
        "    save_path = r\"results/Vanilla_df.pkl\",\n",
        "\n",
        "    # Follwoing options are predefined\n",
        "    results_dir= Shared_options[\"results_dir\"],\n",
        "    project_dir= Shared_options[\"project_dir\"]+\"/\"+Shared_options[\"dataset\"],\n",
        "    GAP_metric_name = Shared_options[\"GAP_metric_name\"],\n",
        "    Performance_metric_name = Shared_options[\"Performance_metric_name\"],\n",
        "    # We use DTO for epoch selection\n",
        "    selection_criterion = Shared_options[\"selection_criterion\"],\n",
        "    checkpoint_dir= Shared_options[\"checkpoint_dir\"],\n",
        "    checkpoint_name= Shared_options[\"checkpoint_name\"],\n",
        "    # If retrive results in parallel\n",
        "    n_jobs=Shared_options[\"n_jobs\"],\n",
        ")"
      ]
    },
    {
      "cell_type": "code",
      "execution_count": 18,
      "metadata": {
        "colab": {
          "base_uri": "https://localhost:8080/",
          "height": 228
        },
        "id": "A5yIesY295-u",
        "outputId": "63195724-1094-4978-f0a3-8703a8bdfb8e"
      },
      "outputs": [
        {
          "name": "stderr",
          "output_type": "stream",
          "text": [
            "[Parallel(n_jobs=1)]: Using backend SequentialBackend with 1 concurrent workers.\n",
            "[Parallel(n_jobs=1)]: Done   1 out of   1 | elapsed:    0.0s remaining:    0.0s\n",
            "[Parallel(n_jobs=1)]: Done   1 out of   1 | elapsed:    0.0s finished\n"
          ]
        },
        {
          "data": {
            "text/html": [
              "\n",
              "  <div id=\"df-cf34b44f-d60f-4db9-a1c5-50533a85f966\">\n",
              "    <div class=\"colab-df-container\">\n",
              "      <div>\n",
              "<style scoped>\n",
              "    .dataframe tbody tr th:only-of-type {\n",
              "        vertical-align: middle;\n",
              "    }\n",
              "\n",
              "    .dataframe tbody tr th {\n",
              "        vertical-align: top;\n",
              "    }\n",
              "\n",
              "    .dataframe thead th {\n",
              "        text-align: right;\n",
              "    }\n",
              "</style>\n",
              "<table border=\"1\" class=\"dataframe\">\n",
              "  <thead>\n",
              "    <tr style=\"text-align: right;\">\n",
              "      <th></th>\n",
              "      <th></th>\n",
              "      <th></th>\n",
              "      <th>epoch</th>\n",
              "      <th>dev_fairness</th>\n",
              "      <th>dev_performance</th>\n",
              "      <th>dev_DTO</th>\n",
              "      <th>test_fairness</th>\n",
              "      <th>test_performance</th>\n",
              "      <th>test_DTO</th>\n",
              "      <th>opt_dir</th>\n",
              "    </tr>\n",
              "    <tr>\n",
              "      <th>BT</th>\n",
              "      <th>BTObj</th>\n",
              "      <th>adv_debiasing</th>\n",
              "      <th></th>\n",
              "      <th></th>\n",
              "      <th></th>\n",
              "      <th></th>\n",
              "      <th></th>\n",
              "      <th></th>\n",
              "      <th></th>\n",
              "      <th></th>\n",
              "    </tr>\n",
              "  </thead>\n",
              "  <tbody>\n",
              "    <tr>\n",
              "      <th>Resampling</th>\n",
              "      <th>EO</th>\n",
              "      <th>True</th>\n",
              "      <td>0</td>\n",
              "      <td>0.902757</td>\n",
              "      <td>0.757</td>\n",
              "      <td>0.003919</td>\n",
              "      <td>0.896981</td>\n",
              "      <td>0.753627</td>\n",
              "      <td>0.007047</td>\n",
              "      <td>results/dev/Moji/BT_Adv/opt.yaml</td>\n",
              "    </tr>\n",
              "  </tbody>\n",
              "</table>\n",
              "</div>\n",
              "      <button class=\"colab-df-convert\" onclick=\"convertToInteractive('df-cf34b44f-d60f-4db9-a1c5-50533a85f966')\"\n",
              "              title=\"Convert this dataframe to an interactive table.\"\n",
              "              style=\"display:none;\">\n",
              "        \n",
              "  <svg xmlns=\"http://www.w3.org/2000/svg\" height=\"24px\"viewBox=\"0 0 24 24\"\n",
              "       width=\"24px\">\n",
              "    <path d=\"M0 0h24v24H0V0z\" fill=\"none\"/>\n",
              "    <path d=\"M18.56 5.44l.94 2.06.94-2.06 2.06-.94-2.06-.94-.94-2.06-.94 2.06-2.06.94zm-11 1L8.5 8.5l.94-2.06 2.06-.94-2.06-.94L8.5 2.5l-.94 2.06-2.06.94zm10 10l.94 2.06.94-2.06 2.06-.94-2.06-.94-.94-2.06-.94 2.06-2.06.94z\"/><path d=\"M17.41 7.96l-1.37-1.37c-.4-.4-.92-.59-1.43-.59-.52 0-1.04.2-1.43.59L10.3 9.45l-7.72 7.72c-.78.78-.78 2.05 0 2.83L4 21.41c.39.39.9.59 1.41.59.51 0 1.02-.2 1.41-.59l7.78-7.78 2.81-2.81c.8-.78.8-2.07 0-2.86zM5.41 20L4 18.59l7.72-7.72 1.47 1.35L5.41 20z\"/>\n",
              "  </svg>\n",
              "      </button>\n",
              "      \n",
              "  <style>\n",
              "    .colab-df-container {\n",
              "      display:flex;\n",
              "      flex-wrap:wrap;\n",
              "      gap: 12px;\n",
              "    }\n",
              "\n",
              "    .colab-df-convert {\n",
              "      background-color: #E8F0FE;\n",
              "      border: none;\n",
              "      border-radius: 50%;\n",
              "      cursor: pointer;\n",
              "      display: none;\n",
              "      fill: #1967D2;\n",
              "      height: 32px;\n",
              "      padding: 0 0 0 0;\n",
              "      width: 32px;\n",
              "    }\n",
              "\n",
              "    .colab-df-convert:hover {\n",
              "      background-color: #E2EBFA;\n",
              "      box-shadow: 0px 1px 2px rgba(60, 64, 67, 0.3), 0px 1px 3px 1px rgba(60, 64, 67, 0.15);\n",
              "      fill: #174EA6;\n",
              "    }\n",
              "\n",
              "    [theme=dark] .colab-df-convert {\n",
              "      background-color: #3B4455;\n",
              "      fill: #D2E3FC;\n",
              "    }\n",
              "\n",
              "    [theme=dark] .colab-df-convert:hover {\n",
              "      background-color: #434B5C;\n",
              "      box-shadow: 0px 1px 3px 1px rgba(0, 0, 0, 0.15);\n",
              "      filter: drop-shadow(0px 1px 2px rgba(0, 0, 0, 0.3));\n",
              "      fill: #FFFFFF;\n",
              "    }\n",
              "  </style>\n",
              "\n",
              "      <script>\n",
              "        const buttonEl =\n",
              "          document.querySelector('#df-cf34b44f-d60f-4db9-a1c5-50533a85f966 button.colab-df-convert');\n",
              "        buttonEl.style.display =\n",
              "          google.colab.kernel.accessAllowed ? 'block' : 'none';\n",
              "\n",
              "        async function convertToInteractive(key) {\n",
              "          const element = document.querySelector('#df-cf34b44f-d60f-4db9-a1c5-50533a85f966');\n",
              "          const dataTable =\n",
              "            await google.colab.kernel.invokeFunction('convertToInteractive',\n",
              "                                                     [key], {});\n",
              "          if (!dataTable) return;\n",
              "\n",
              "          const docLinkHtml = 'Like what you see? Visit the ' +\n",
              "            '<a target=\"_blank\" href=https://colab.research.google.com/notebooks/data_table.ipynb>data table notebook</a>'\n",
              "            + ' to learn more about interactive tables.';\n",
              "          element.innerHTML = '';\n",
              "          dataTable['output_type'] = 'display_data';\n",
              "          await google.colab.output.renderOutput(dataTable, element);\n",
              "          const docLink = document.createElement('div');\n",
              "          docLink.innerHTML = docLinkHtml;\n",
              "          element.appendChild(docLink);\n",
              "        }\n",
              "      </script>\n",
              "    </div>\n",
              "  </div>\n",
              "  "
            ],
            "text/plain": [
              "                                epoch  dev_fairness  dev_performance  \\\n",
              "BT         BTObj adv_debiasing                                         \n",
              "Resampling EO    True               0      0.902757            0.757   \n",
              "\n",
              "                                 dev_DTO  test_fairness  test_performance  \\\n",
              "BT         BTObj adv_debiasing                                              \n",
              "Resampling EO    True           0.003919       0.896981          0.753627   \n",
              "\n",
              "                                test_DTO                           opt_dir  \n",
              "BT         BTObj adv_debiasing                                              \n",
              "Resampling EO    True           0.007047  results/dev/Moji/BT_Adv/opt.yaml  "
            ]
          },
          "execution_count": 18,
          "metadata": {},
          "output_type": "execute_result"
        }
      ],
      "source": [
        "analysis.model_selection(\n",
        "    model_id= (\"BT_Adv\"),\n",
        "    index_column_names = [\"BT\", \"BTObj\", \"adv_debiasing\"],\n",
        "    save_path = r\"results/BT_ADV_df.pkl\",\n",
        "    # Follwoing options are predefined\n",
        "    results_dir= Shared_options[\"results_dir\"],\n",
        "    project_dir= Shared_options[\"project_dir\"]+\"/\"+Shared_options[\"dataset\"],\n",
        "    GAP_metric_name = Shared_options[\"GAP_metric_name\"],\n",
        "    Performance_metric_name = Shared_options[\"Performance_metric_name\"],\n",
        "    selection_criterion = Shared_options[\"selection_criterion\"],\n",
        "    checkpoint_dir= Shared_options[\"checkpoint_dir\"],\n",
        "    checkpoint_name= Shared_options[\"checkpoint_name\"],\n",
        "    n_jobs=Shared_options[\"n_jobs\"],\n",
        ")"
      ]
    },
    {
      "cell_type": "markdown",
      "metadata": {
        "id": "1W0yGrsnV6_g"
      },
      "source": [
        "We have preprocessed the results with the `model_selection` function, and the resulting dfs can be downloaded as follows:"
      ]
    },
    {
      "cell_type": "code",
      "execution_count": 19,
      "metadata": {
        "colab": {
          "base_uri": "https://localhost:8080/"
        },
        "id": "njuqG-UnL5Ku",
        "outputId": "44b909e3-3237-4b41-8474-aebd97c6b70f"
      },
      "outputs": [
        {
          "name": "stdout",
          "output_type": "stream",
          "text": [
            "--2022-05-02 02:53:27--  https://docs.google.com/uc?export=download&id=1M0G6PyPuDC8Y_2nL9XKYCt10IUzbSvfl\n",
            "Resolving docs.google.com (docs.google.com)... 74.125.195.102, 74.125.195.138, 74.125.195.139, ...\n",
            "Connecting to docs.google.com (docs.google.com)|74.125.195.102|:443... connected.\n",
            "HTTP request sent, awaiting response... 303 See Other\n",
            "Location: https://doc-0g-0k-docs.googleusercontent.com/docs/securesc/ha0ro937gcuc7l7deffksulhg5h7mbp1/0bdo761p58r1ii9ush0jp9bsgtg7n5hh/1651459950000/17527887236587461918/*/1M0G6PyPuDC8Y_2nL9XKYCt10IUzbSvfl?e=download [following]\n",
            "Warning: wildcards not supported in HTTP.\n",
            "--2022-05-02 02:53:29--  https://doc-0g-0k-docs.googleusercontent.com/docs/securesc/ha0ro937gcuc7l7deffksulhg5h7mbp1/0bdo761p58r1ii9ush0jp9bsgtg7n5hh/1651459950000/17527887236587461918/*/1M0G6PyPuDC8Y_2nL9XKYCt10IUzbSvfl?e=download\n",
            "Resolving doc-0g-0k-docs.googleusercontent.com (doc-0g-0k-docs.googleusercontent.com)... 74.125.142.132, 2607:f8b0:400e:c08::84\n",
            "Connecting to doc-0g-0k-docs.googleusercontent.com (doc-0g-0k-docs.googleusercontent.com)|74.125.142.132|:443... connected.\n",
            "HTTP request sent, awaiting response... 200 OK\n",
            "Length: 790461 (772K) [application/x-gzip]\n",
            "Saving to: ‘retrived_results.tar.gz’\n",
            "\n",
            "retrived_results.ta 100%[===================>] 771.93K  --.-KB/s    in 0.006s  \n",
            "\n",
            "2022-05-02 02:53:29 (128 MB/s) - ‘retrived_results.tar.gz’ saved [790461/790461]\n",
            "\n"
          ]
        }
      ],
      "source": [
        "!wget --no-check-certificate 'https://docs.google.com/uc?export=download&id=1M0G6PyPuDC8Y_2nL9XKYCt10IUzbSvfl' -O retrived_results.tar.gz"
      ]
    },
    {
      "cell_type": "code",
      "execution_count": 20,
      "metadata": {
        "id": "u7goqTOjL5D7"
      },
      "outputs": [],
      "source": [
        "!tar -xf retrived_results.tar.gz"
      ]
    },
    {
      "cell_type": "markdown",
      "metadata": {
        "id": "sjpZXi6FWUCw"
      },
      "source": [
        "Here we demonstrate the application of `final_results_df`, which loads cached results with `retrive_results` for all methods, select the best hyperparameter combinations for each technique, and present the result in a DataFrame"
      ]
    },
    {
      "cell_type": "code",
      "execution_count": 21,
      "metadata": {
        "id": "DFDJNtnRCwJa"
      },
      "outputs": [],
      "source": [
        "?analysis.final_results_df"
      ]
    },
    {
      "cell_type": "code",
      "execution_count": 22,
      "metadata": {
        "id": "u672XV4_NL9H"
      },
      "outputs": [],
      "source": [
        "Moji_results = analysis.retrive_results(\"Moji\", log_dir=\"analysis/results\")"
      ]
    },
    {
      "cell_type": "code",
      "execution_count": 23,
      "metadata": {
        "colab": {
          "base_uri": "https://localhost:8080/",
          "height": 632
        },
        "id": "XHgAL1NINdPe",
        "outputId": "0ae82d13-a095-4154-9ed8-53615fadab9b"
      },
      "outputs": [
        {
          "data": {
            "text/html": [
              "\n",
              "  <div id=\"df-64334087-1f85-431d-a8cb-1e462a2d3bfe\">\n",
              "    <div class=\"colab-df-container\">\n",
              "      <div>\n",
              "<style scoped>\n",
              "    .dataframe tbody tr th:only-of-type {\n",
              "        vertical-align: middle;\n",
              "    }\n",
              "\n",
              "    .dataframe tbody tr th {\n",
              "        vertical-align: top;\n",
              "    }\n",
              "\n",
              "    .dataframe thead th {\n",
              "        text-align: right;\n",
              "    }\n",
              "</style>\n",
              "<table border=\"1\" class=\"dataframe\">\n",
              "  <thead>\n",
              "    <tr style=\"text-align: right;\">\n",
              "      <th></th>\n",
              "      <th>Models</th>\n",
              "      <th>test_performance mean</th>\n",
              "      <th>test_performance std</th>\n",
              "      <th>test_fairness mean</th>\n",
              "      <th>test_fairness std</th>\n",
              "      <th>dev_performance mean</th>\n",
              "      <th>dev_performance std</th>\n",
              "      <th>dev_fairness mean</th>\n",
              "      <th>dev_fairness std</th>\n",
              "      <th>DTO</th>\n",
              "      <th>is_pareto</th>\n",
              "    </tr>\n",
              "  </thead>\n",
              "  <tbody>\n",
              "    <tr>\n",
              "      <th>0</th>\n",
              "      <td>GatedDAdv</td>\n",
              "      <td>0.750163</td>\n",
              "      <td>0.006945</td>\n",
              "      <td>0.908679</td>\n",
              "      <td>0.021678</td>\n",
              "      <td>0.745600</td>\n",
              "      <td>0.004828</td>\n",
              "      <td>0.928670</td>\n",
              "      <td>0.022488</td>\n",
              "      <td>0.266004</td>\n",
              "      <td>False</td>\n",
              "    </tr>\n",
              "    <tr>\n",
              "      <th>1</th>\n",
              "      <td>Adv</td>\n",
              "      <td>0.756414</td>\n",
              "      <td>0.007271</td>\n",
              "      <td>0.893286</td>\n",
              "      <td>0.005623</td>\n",
              "      <td>0.747425</td>\n",
              "      <td>0.004549</td>\n",
              "      <td>0.912125</td>\n",
              "      <td>0.008507</td>\n",
              "      <td>0.265936</td>\n",
              "      <td>True</td>\n",
              "    </tr>\n",
              "    <tr>\n",
              "      <th>2</th>\n",
              "      <td>FairBatch</td>\n",
              "      <td>0.751488</td>\n",
              "      <td>0.005772</td>\n",
              "      <td>0.904373</td>\n",
              "      <td>0.008213</td>\n",
              "      <td>0.746050</td>\n",
              "      <td>0.003896</td>\n",
              "      <td>0.914526</td>\n",
              "      <td>0.006020</td>\n",
              "      <td>0.266276</td>\n",
              "      <td>True</td>\n",
              "    </tr>\n",
              "    <tr>\n",
              "      <th>3</th>\n",
              "      <td>DAdv</td>\n",
              "      <td>0.755464</td>\n",
              "      <td>0.004076</td>\n",
              "      <td>0.904023</td>\n",
              "      <td>0.011218</td>\n",
              "      <td>0.748550</td>\n",
              "      <td>0.002405</td>\n",
              "      <td>0.915601</td>\n",
              "      <td>0.005007</td>\n",
              "      <td>0.262697</td>\n",
              "      <td>True</td>\n",
              "    </tr>\n",
              "    <tr>\n",
              "      <th>4</th>\n",
              "      <td>DelayedCLS_Adv</td>\n",
              "      <td>0.761015</td>\n",
              "      <td>0.003081</td>\n",
              "      <td>0.882425</td>\n",
              "      <td>0.015918</td>\n",
              "      <td>0.751675</td>\n",
              "      <td>0.003481</td>\n",
              "      <td>0.899346</td>\n",
              "      <td>0.011417</td>\n",
              "      <td>0.266341</td>\n",
              "      <td>True</td>\n",
              "    </tr>\n",
              "    <tr>\n",
              "      <th>5</th>\n",
              "      <td>BTEO</td>\n",
              "      <td>0.753927</td>\n",
              "      <td>0.001433</td>\n",
              "      <td>0.877469</td>\n",
              "      <td>0.003756</td>\n",
              "      <td>0.746325</td>\n",
              "      <td>0.000998</td>\n",
              "      <td>0.896874</td>\n",
              "      <td>0.005401</td>\n",
              "      <td>0.274892</td>\n",
              "      <td>True</td>\n",
              "    </tr>\n",
              "    <tr>\n",
              "      <th>6</th>\n",
              "      <td>GDEO</td>\n",
              "      <td>0.752763</td>\n",
              "      <td>0.004999</td>\n",
              "      <td>0.892255</td>\n",
              "      <td>0.007860</td>\n",
              "      <td>0.749350</td>\n",
              "      <td>0.003494</td>\n",
              "      <td>0.912672</td>\n",
              "      <td>0.002766</td>\n",
              "      <td>0.269694</td>\n",
              "      <td>True</td>\n",
              "    </tr>\n",
              "    <tr>\n",
              "      <th>7</th>\n",
              "      <td>BTGatedAdv</td>\n",
              "      <td>0.735459</td>\n",
              "      <td>0.028830</td>\n",
              "      <td>0.866150</td>\n",
              "      <td>0.028232</td>\n",
              "      <td>0.730150</td>\n",
              "      <td>0.024594</td>\n",
              "      <td>0.886862</td>\n",
              "      <td>0.030537</td>\n",
              "      <td>0.296476</td>\n",
              "      <td>True</td>\n",
              "    </tr>\n",
              "    <tr>\n",
              "      <th>8</th>\n",
              "      <td>FairSCL</td>\n",
              "      <td>0.757314</td>\n",
              "      <td>0.003441</td>\n",
              "      <td>0.878219</td>\n",
              "      <td>0.004314</td>\n",
              "      <td>0.752825</td>\n",
              "      <td>0.001872</td>\n",
              "      <td>0.898325</td>\n",
              "      <td>0.002579</td>\n",
              "      <td>0.271527</td>\n",
              "      <td>False</td>\n",
              "    </tr>\n",
              "    <tr>\n",
              "      <th>9</th>\n",
              "      <td>OldFairBatch</td>\n",
              "      <td>0.750638</td>\n",
              "      <td>0.006012</td>\n",
              "      <td>0.905537</td>\n",
              "      <td>0.005046</td>\n",
              "      <td>0.744525</td>\n",
              "      <td>0.004995</td>\n",
              "      <td>0.917734</td>\n",
              "      <td>0.004761</td>\n",
              "      <td>0.266655</td>\n",
              "      <td>True</td>\n",
              "    </tr>\n",
              "    <tr>\n",
              "      <th>10</th>\n",
              "      <td>GatedBTEO</td>\n",
              "      <td>0.762106</td>\n",
              "      <td>0.002592</td>\n",
              "      <td>0.900764</td>\n",
              "      <td>0.014701</td>\n",
              "      <td>0.759775</td>\n",
              "      <td>0.003798</td>\n",
              "      <td>0.909445</td>\n",
              "      <td>0.006631</td>\n",
              "      <td>0.257762</td>\n",
              "      <td>True</td>\n",
              "    </tr>\n",
              "    <tr>\n",
              "      <th>11</th>\n",
              "      <td>BTFairBatch</td>\n",
              "      <td>0.746837</td>\n",
              "      <td>0.003407</td>\n",
              "      <td>0.899351</td>\n",
              "      <td>0.004936</td>\n",
              "      <td>0.743975</td>\n",
              "      <td>0.004236</td>\n",
              "      <td>0.919254</td>\n",
              "      <td>0.004731</td>\n",
              "      <td>0.272437</td>\n",
              "      <td>False</td>\n",
              "    </tr>\n",
              "    <tr>\n",
              "      <th>12</th>\n",
              "      <td>GatedAdv</td>\n",
              "      <td>0.753113</td>\n",
              "      <td>0.005196</td>\n",
              "      <td>0.890065</td>\n",
              "      <td>0.013302</td>\n",
              "      <td>0.748975</td>\n",
              "      <td>0.003805</td>\n",
              "      <td>0.910838</td>\n",
              "      <td>0.010314</td>\n",
              "      <td>0.270257</td>\n",
              "      <td>False</td>\n",
              "    </tr>\n",
              "    <tr>\n",
              "      <th>13</th>\n",
              "      <td>INLP</td>\n",
              "      <td>0.733433</td>\n",
              "      <td>NaN</td>\n",
              "      <td>0.855982</td>\n",
              "      <td>NaN</td>\n",
              "      <td>0.727625</td>\n",
              "      <td>NaN</td>\n",
              "      <td>0.859686</td>\n",
              "      <td>NaN</td>\n",
              "      <td>0.302983</td>\n",
              "      <td>True</td>\n",
              "    </tr>\n",
              "    <tr>\n",
              "      <th>14</th>\n",
              "      <td>GDMean</td>\n",
              "      <td>0.752163</td>\n",
              "      <td>0.002130</td>\n",
              "      <td>0.901389</td>\n",
              "      <td>0.003916</td>\n",
              "      <td>0.749050</td>\n",
              "      <td>0.001368</td>\n",
              "      <td>0.922430</td>\n",
              "      <td>0.005829</td>\n",
              "      <td>0.266735</td>\n",
              "      <td>True</td>\n",
              "    </tr>\n",
              "    <tr>\n",
              "      <th>15</th>\n",
              "      <td>Vanilla</td>\n",
              "      <td>0.722981</td>\n",
              "      <td>0.004576</td>\n",
              "      <td>0.611870</td>\n",
              "      <td>0.014356</td>\n",
              "      <td>0.726650</td>\n",
              "      <td>0.003673</td>\n",
              "      <td>0.632302</td>\n",
              "      <td>0.013370</td>\n",
              "      <td>0.476849</td>\n",
              "      <td>True</td>\n",
              "    </tr>\n",
              "  </tbody>\n",
              "</table>\n",
              "</div>\n",
              "      <button class=\"colab-df-convert\" onclick=\"convertToInteractive('df-64334087-1f85-431d-a8cb-1e462a2d3bfe')\"\n",
              "              title=\"Convert this dataframe to an interactive table.\"\n",
              "              style=\"display:none;\">\n",
              "        \n",
              "  <svg xmlns=\"http://www.w3.org/2000/svg\" height=\"24px\"viewBox=\"0 0 24 24\"\n",
              "       width=\"24px\">\n",
              "    <path d=\"M0 0h24v24H0V0z\" fill=\"none\"/>\n",
              "    <path d=\"M18.56 5.44l.94 2.06.94-2.06 2.06-.94-2.06-.94-.94-2.06-.94 2.06-2.06.94zm-11 1L8.5 8.5l.94-2.06 2.06-.94-2.06-.94L8.5 2.5l-.94 2.06-2.06.94zm10 10l.94 2.06.94-2.06 2.06-.94-2.06-.94-.94-2.06-.94 2.06-2.06.94z\"/><path d=\"M17.41 7.96l-1.37-1.37c-.4-.4-.92-.59-1.43-.59-.52 0-1.04.2-1.43.59L10.3 9.45l-7.72 7.72c-.78.78-.78 2.05 0 2.83L4 21.41c.39.39.9.59 1.41.59.51 0 1.02-.2 1.41-.59l7.78-7.78 2.81-2.81c.8-.78.8-2.07 0-2.86zM5.41 20L4 18.59l7.72-7.72 1.47 1.35L5.41 20z\"/>\n",
              "  </svg>\n",
              "      </button>\n",
              "      \n",
              "  <style>\n",
              "    .colab-df-container {\n",
              "      display:flex;\n",
              "      flex-wrap:wrap;\n",
              "      gap: 12px;\n",
              "    }\n",
              "\n",
              "    .colab-df-convert {\n",
              "      background-color: #E8F0FE;\n",
              "      border: none;\n",
              "      border-radius: 50%;\n",
              "      cursor: pointer;\n",
              "      display: none;\n",
              "      fill: #1967D2;\n",
              "      height: 32px;\n",
              "      padding: 0 0 0 0;\n",
              "      width: 32px;\n",
              "    }\n",
              "\n",
              "    .colab-df-convert:hover {\n",
              "      background-color: #E2EBFA;\n",
              "      box-shadow: 0px 1px 2px rgba(60, 64, 67, 0.3), 0px 1px 3px 1px rgba(60, 64, 67, 0.15);\n",
              "      fill: #174EA6;\n",
              "    }\n",
              "\n",
              "    [theme=dark] .colab-df-convert {\n",
              "      background-color: #3B4455;\n",
              "      fill: #D2E3FC;\n",
              "    }\n",
              "\n",
              "    [theme=dark] .colab-df-convert:hover {\n",
              "      background-color: #434B5C;\n",
              "      box-shadow: 0px 1px 3px 1px rgba(0, 0, 0, 0.15);\n",
              "      filter: drop-shadow(0px 1px 2px rgba(0, 0, 0, 0.3));\n",
              "      fill: #FFFFFF;\n",
              "    }\n",
              "  </style>\n",
              "\n",
              "      <script>\n",
              "        const buttonEl =\n",
              "          document.querySelector('#df-64334087-1f85-431d-a8cb-1e462a2d3bfe button.colab-df-convert');\n",
              "        buttonEl.style.display =\n",
              "          google.colab.kernel.accessAllowed ? 'block' : 'none';\n",
              "\n",
              "        async function convertToInteractive(key) {\n",
              "          const element = document.querySelector('#df-64334087-1f85-431d-a8cb-1e462a2d3bfe');\n",
              "          const dataTable =\n",
              "            await google.colab.kernel.invokeFunction('convertToInteractive',\n",
              "                                                     [key], {});\n",
              "          if (!dataTable) return;\n",
              "\n",
              "          const docLinkHtml = 'Like what you see? Visit the ' +\n",
              "            '<a target=\"_blank\" href=https://colab.research.google.com/notebooks/data_table.ipynb>data table notebook</a>'\n",
              "            + ' to learn more about interactive tables.';\n",
              "          element.innerHTML = '';\n",
              "          dataTable['output_type'] = 'display_data';\n",
              "          await google.colab.output.renderOutput(dataTable, element);\n",
              "          const docLink = document.createElement('div');\n",
              "          docLink.innerHTML = docLinkHtml;\n",
              "          element.appendChild(docLink);\n",
              "        }\n",
              "      </script>\n",
              "    </div>\n",
              "  </div>\n",
              "  "
            ],
            "text/plain": [
              "            Models  test_performance mean  test_performance std  \\\n",
              "0        GatedDAdv               0.750163              0.006945   \n",
              "1              Adv               0.756414              0.007271   \n",
              "2        FairBatch               0.751488              0.005772   \n",
              "3             DAdv               0.755464              0.004076   \n",
              "4   DelayedCLS_Adv               0.761015              0.003081   \n",
              "5             BTEO               0.753927              0.001433   \n",
              "6             GDEO               0.752763              0.004999   \n",
              "7       BTGatedAdv               0.735459              0.028830   \n",
              "8          FairSCL               0.757314              0.003441   \n",
              "9     OldFairBatch               0.750638              0.006012   \n",
              "10       GatedBTEO               0.762106              0.002592   \n",
              "11     BTFairBatch               0.746837              0.003407   \n",
              "12        GatedAdv               0.753113              0.005196   \n",
              "13            INLP               0.733433                   NaN   \n",
              "14          GDMean               0.752163              0.002130   \n",
              "15         Vanilla               0.722981              0.004576   \n",
              "\n",
              "    test_fairness mean  test_fairness std  dev_performance mean  \\\n",
              "0             0.908679           0.021678              0.745600   \n",
              "1             0.893286           0.005623              0.747425   \n",
              "2             0.904373           0.008213              0.746050   \n",
              "3             0.904023           0.011218              0.748550   \n",
              "4             0.882425           0.015918              0.751675   \n",
              "5             0.877469           0.003756              0.746325   \n",
              "6             0.892255           0.007860              0.749350   \n",
              "7             0.866150           0.028232              0.730150   \n",
              "8             0.878219           0.004314              0.752825   \n",
              "9             0.905537           0.005046              0.744525   \n",
              "10            0.900764           0.014701              0.759775   \n",
              "11            0.899351           0.004936              0.743975   \n",
              "12            0.890065           0.013302              0.748975   \n",
              "13            0.855982                NaN              0.727625   \n",
              "14            0.901389           0.003916              0.749050   \n",
              "15            0.611870           0.014356              0.726650   \n",
              "\n",
              "    dev_performance std  dev_fairness mean  dev_fairness std       DTO  \\\n",
              "0              0.004828           0.928670          0.022488  0.266004   \n",
              "1              0.004549           0.912125          0.008507  0.265936   \n",
              "2              0.003896           0.914526          0.006020  0.266276   \n",
              "3              0.002405           0.915601          0.005007  0.262697   \n",
              "4              0.003481           0.899346          0.011417  0.266341   \n",
              "5              0.000998           0.896874          0.005401  0.274892   \n",
              "6              0.003494           0.912672          0.002766  0.269694   \n",
              "7              0.024594           0.886862          0.030537  0.296476   \n",
              "8              0.001872           0.898325          0.002579  0.271527   \n",
              "9              0.004995           0.917734          0.004761  0.266655   \n",
              "10             0.003798           0.909445          0.006631  0.257762   \n",
              "11             0.004236           0.919254          0.004731  0.272437   \n",
              "12             0.003805           0.910838          0.010314  0.270257   \n",
              "13                  NaN           0.859686               NaN  0.302983   \n",
              "14             0.001368           0.922430          0.005829  0.266735   \n",
              "15             0.003673           0.632302          0.013370  0.476849   \n",
              "\n",
              "    is_pareto  \n",
              "0       False  \n",
              "1        True  \n",
              "2        True  \n",
              "3        True  \n",
              "4        True  \n",
              "5        True  \n",
              "6        True  \n",
              "7        True  \n",
              "8       False  \n",
              "9        True  \n",
              "10       True  \n",
              "11      False  \n",
              "12      False  \n",
              "13       True  \n",
              "14       True  \n",
              "15       True  "
            ]
          },
          "execution_count": 23,
          "metadata": {},
          "output_type": "execute_result"
        }
      ],
      "source": [
        "Moji_main_results = analysis.final_results_df(\n",
        "    results_dict = Moji_results,\n",
        "    pareto = False,\n",
        "    pareto_selection = \"test\",\n",
        "    selection_criterion = \"DTO\",\n",
        "    return_dev = True,\n",
        "    # Fairness_threshold=0.95,\n",
        "    # return_conf=True,\n",
        "    # save_conf_dir=r\"D:\\Project\\Fair_NLP_Classification\\analysis\\reproduce\\Moji\"\n",
        "    )\n",
        "Moji_main_results"
      ]
    },
    {
      "cell_type": "code",
      "execution_count": 24,
      "metadata": {
        "colab": {
          "base_uri": "https://localhost:8080/"
        },
        "id": "qv8TSTYRNoue",
        "outputId": "adea3cab-40a3-4945-d25d-b12b0cec7c5f"
      },
      "outputs": [
        {
          "name": "stdout",
          "output_type": "stream",
          "text": [
            "\\begin{tabular}{lrrrrrrrrrl}\n",
            "\\toprule\n",
            "        Models &  test\\_performance mean &  test\\_performance std &  test\\_fairness mean &  test\\_fairness std &  dev\\_performance mean &  dev\\_performance std &  dev\\_fairness mean &  dev\\_fairness std &      DTO &  is\\_pareto \\\\\n",
            "\\midrule\n",
            "     GatedDAdv &               0.750163 &              0.006945 &            0.908679 &           0.021678 &              0.745600 &             0.004828 &           0.928670 &          0.022488 & 0.266004 &      False \\\\\n",
            "           Adv &               0.756414 &              0.007271 &            0.893286 &           0.005623 &              0.747425 &             0.004549 &           0.912125 &          0.008507 & 0.265936 &       True \\\\\n",
            "     FairBatch &               0.751488 &              0.005772 &            0.904373 &           0.008213 &              0.746050 &             0.003896 &           0.914526 &          0.006020 & 0.266276 &       True \\\\\n",
            "          DAdv &               0.755464 &              0.004076 &            0.904023 &           0.011218 &              0.748550 &             0.002405 &           0.915601 &          0.005007 & 0.262697 &       True \\\\\n",
            "DelayedCLS\\_Adv &               0.761015 &              0.003081 &            0.882425 &           0.015918 &              0.751675 &             0.003481 &           0.899346 &          0.011417 & 0.266341 &       True \\\\\n",
            "          BTEO &               0.753927 &              0.001433 &            0.877469 &           0.003756 &              0.746325 &             0.000998 &           0.896874 &          0.005401 & 0.274892 &       True \\\\\n",
            "          GDEO &               0.752763 &              0.004999 &            0.892255 &           0.007860 &              0.749350 &             0.003494 &           0.912672 &          0.002766 & 0.269694 &       True \\\\\n",
            "    BTGatedAdv &               0.735459 &              0.028830 &            0.866150 &           0.028232 &              0.730150 &             0.024594 &           0.886862 &          0.030537 & 0.296476 &       True \\\\\n",
            "       FairSCL &               0.757314 &              0.003441 &            0.878219 &           0.004314 &              0.752825 &             0.001872 &           0.898325 &          0.002579 & 0.271527 &      False \\\\\n",
            "  OldFairBatch &               0.750638 &              0.006012 &            0.905537 &           0.005046 &              0.744525 &             0.004995 &           0.917734 &          0.004761 & 0.266655 &       True \\\\\n",
            "     GatedBTEO &               0.762106 &              0.002592 &            0.900764 &           0.014701 &              0.759775 &             0.003798 &           0.909445 &          0.006631 & 0.257762 &       True \\\\\n",
            "   BTFairBatch &               0.746837 &              0.003407 &            0.899351 &           0.004936 &              0.743975 &             0.004236 &           0.919254 &          0.004731 & 0.272437 &      False \\\\\n",
            "      GatedAdv &               0.753113 &              0.005196 &            0.890065 &           0.013302 &              0.748975 &             0.003805 &           0.910838 &          0.010314 & 0.270257 &      False \\\\\n",
            "          INLP &               0.733433 &                   NaN &            0.855982 &                NaN &              0.727625 &                  NaN &           0.859686 &               NaN & 0.302983 &       True \\\\\n",
            "        GDMean &               0.752163 &              0.002130 &            0.901389 &           0.003916 &              0.749050 &             0.001368 &           0.922430 &          0.005829 & 0.266735 &       True \\\\\n",
            "       Vanilla &               0.722981 &              0.004576 &            0.611870 &           0.014356 &              0.726650 &             0.003673 &           0.632302 &          0.013370 & 0.476849 &       True \\\\\n",
            "\\bottomrule\n",
            "\\end{tabular}\n",
            "\n"
          ]
        }
      ],
      "source": [
        "print(Moji_main_results.to_latex(index=False))"
      ]
    },
    {
      "cell_type": "code",
      "execution_count": 25,
      "metadata": {
        "id": "EKIO6OgBNwTo"
      },
      "outputs": [],
      "source": [
        "import seaborn as sns\n",
        "import matplotlib.pyplot as plt\n",
        "from pathlib import Path\n",
        "def make_plot(plot_df, figure_name=None):\n",
        "    plot_df[\"Fairness\"] = plot_df[\"test_fairness mean\"]\n",
        "    plot_df[\"Accuracy\"] = plot_df[\"test_performance mean\"]\n",
        "\n",
        "    figure = plt.figure(figsize=(6, 6), dpi = 150) \n",
        "    with sns.axes_style(\"white\"):\n",
        "        sns.lineplot(\n",
        "            data=plot_df,\n",
        "            x=\"Accuracy\",\n",
        "            y=\"Fairness\",\n",
        "            hue=\"Models\",\n",
        "            markers=True,\n",
        "            style=\"Models\",\n",
        "        )\n",
        "    if figure_name is not None:\n",
        "        figure.savefig(Path(r\"plots\") / figure_name, dpi=960, bbox_inches=\"tight\") "
      ]
    },
    {
      "cell_type": "code",
      "execution_count": 26,
      "metadata": {
        "colab": {
          "base_uri": "https://localhost:8080/",
          "height": 789
        },
        "id": "E_dupXSDN6ve",
        "outputId": "ad994bc1-c24b-48dd-f9c6-06b7f397011f"
      },
      "outputs": [
        {
          "data": {
            "image/png": "[encoded data removed]",
            "text/plain": [
              "<Figure size 900x900 with 1 Axes>"
            ]
          },
          "metadata": {
            "needs_background": "light"
          },
          "output_type": "display_data"
        }
      ],
      "source": [
        "Moji_plot_df = analysis.final_results_df(\n",
        "    results_dict = Moji_results,\n",
        "    pareto = True,\n",
        "    # pareto = False,\n",
        "    pareto_selection = \"test\",\n",
        "    selection_criterion = None,\n",
        "    return_dev = True,\n",
        "    # Performance_threshold=0.72\n",
        "    # num_trail=20,\n",
        "    )\n",
        "make_plot(Moji_plot_df)"
      ]
    },
    {
      "cell_type": "markdown",
      "metadata": {
        "id": "alIUoUramVM5"
      },
      "source": [
        "## 5. Read More"
      ]
    },
    {
      "cell_type": "markdown",
      "metadata": {
        "id": "KGd62f13mVM5"
      },
      "source": [
        "- Visualization\n",
        "  - [Interactive plots](https://github.com/HanXudong/fairlib/blob/main/tutorial/interactive_plots.ipynb) demonstrates creating interactive plots for comparing different methods, and demonstrating DTO and constrained selection. Figure 2 in our paper can be reproduced with this function.\n",
        "  - [Plot gallery](https://github.com/HanXudong/fairlib/blob/main/tutorial/plot_gallery.ipynb) presents a list of examples for presenting experimental results, e.g., hyperparameter tuning (Figure 1 in our paper) and trade-off plots with zoomed-in area (Figure 3 in our paper).\n",
        "\n",
        "\n",
        "- Customized Dataset and Models\n",
        "  - [The dataset document](https://github.com/HanXudong/fairlib/blob/main/docs/datasets_and_dataloaders.md) provides instructions for customizing datasets and dataloaders.\n",
        "  - [The model document](https://github.com/HanXudong/fairlib/blob/main/docs/models.md) provides instructions for customizing model architectures and register models.\n",
        "  - Besides text inputs, we also provide examples for customizing [structured inputs](https://github.com/HanXudong/fairlib/blob/main/tutorial/COMPAS.ipynb) and [images](https://github.com/HanXudong/fairlib/blob/main/tutorial/colored_MNIST.ipynb).\n",
        "\n",
        "\n",
        "- Customized Metrics\n",
        "  - Single metric can be seen from [there](https://github.com/HanXudong/fairlib/blob/47f4b332e15ff8f22b238db6be983ec753fd2537/fairlib/src/evaluators/evaluator.py#L94).\n",
        "  - Metric aggregation such as the default root mean square aggregation can be found from [there](https://github.com/HanXudong/fairlib/blob/47f4b332e15ff8f22b238db6be983ec753fd2537/fairlib/src/evaluators/evaluator.py#L75).\n",
        "  - The document is coming soon.\n",
        "\n",
        "\n",
        "- Customized Debiasing Methods\n",
        "  - [Please see the document](https://github.com/HanXudong/fairlib/blob/main/docs/customized_methods.md) for instructions about adding method-specific options and integrating methods with *fairlib*."
      ]
    }
  ],
  "metadata": {
    "colab": {
      "collapsed_sections": [],
      "name": "demo.ipynb",
      "provenance": []
    },
    "interpreter": {
      "hash": "086b6e2ac5931a4f7a51b812f0475290a145e7d51f3e22b53c52adf5c273fe30"
    },
    "kernelspec": {
      "display_name": "Python 3.7.12 ('py37')",
      "language": "python",
      "name": "python3"
    },
    "language_info": {
      "codemirror_mode": {
        "name": "ipython",
        "version": 3
      },
      "file_extension": ".py",
      "mimetype": "text/x-python",
      "name": "python",
      "nbconvert_exporter": "python",
      "pygments_lexer": "ipython3",
      "version": "3.7.12"
    },
    "orig_nbformat": 4
  },
  "nbformat": 4,
  "nbformat_minor": 0
}
