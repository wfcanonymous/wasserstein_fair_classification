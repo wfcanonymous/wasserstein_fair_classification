{
  "cells": [
    {
      "cell_type": "markdown",
      "metadata": {
        "id": "N7UbxgytUFhn"
      },
      "source": [
        "# Customized models and datasets for structured inputs\n",
        "\n",
        "[![Open In Colab](https://colab.research.google.com/assets/colab-badge.svg)](https://colab.research.google.com/github/HanXudong/fairlib/blob/main/tutorial/COMPAS.ipynb)\n",
        "\n",
        "In this tutorial we will:\n",
        "- Show how to add a model for structural classification\n",
        "- Show how to add a dataloader with structured data preprocessing\n",
        "\n",
        "We will be using the Northpointe's Correctional Offender Management Profiling for Alternative Sanctions (COMPAS) score, used in states like California and Florida.\n",
        "## Installation\n",
        "\n",
        "Again, the first step will be installing our libarary"
      ]
    },
    {
      "cell_type": "code",
      "source": [
        "!pip install fairlib"
      ],
      "metadata": {
        "id": "FgkUn09buGwy",
        "outputId": "3be524ef-dee5-4dc1-a874-54d45be2c1bc",
        "colab": {
          "base_uri": "https://localhost:8080/"
        }
      },
      "execution_count": 1,
      "outputs": [
        {
          "output_type": "stream",
          "name": "stdout",
          "text": [
            "Collecting fairlib\n",
            "  Downloading fairlib-0.0.1-py3-none-any.whl (61 kB)\n",
            "\u001b[K     |████████████████████████████████| 61 kB 4.1 MB/s \n",
            "\u001b[?25hRequirement already satisfied: tqdm in /usr/local/lib/python3.7/dist-packages (from fairlib) (4.63.0)\n",
            "Collecting transformers\n",
            "  Downloading transformers-4.18.0-py3-none-any.whl (4.0 MB)\n",
            "\u001b[K     |████████████████████████████████| 4.0 MB 16.9 MB/s \n",
            "\u001b[?25hRequirement already satisfied: pandas in /usr/local/lib/python3.7/dist-packages (from fairlib) (1.3.5)\n",
            "Requirement already satisfied: docopt in /usr/local/lib/python3.7/dist-packages (from fairlib) (0.6.2)\n",
            "Requirement already satisfied: scikit-learn in /usr/local/lib/python3.7/dist-packages (from fairlib) (1.0.2)\n",
            "Requirement already satisfied: seaborn in /usr/local/lib/python3.7/dist-packages (from fairlib) (0.11.2)\n",
            "Requirement already satisfied: matplotlib in /usr/local/lib/python3.7/dist-packages (from fairlib) (3.2.2)\n",
            "Collecting pickle5\n",
            "  Downloading pickle5-0.0.12-cp37-cp37m-manylinux_2_5_x86_64.manylinux1_x86_64.whl (256 kB)\n",
            "\u001b[K     |████████████████████████████████| 256 kB 45.9 MB/s \n",
            "\u001b[?25hRequirement already satisfied: torch in /usr/local/lib/python3.7/dist-packages (from fairlib) (1.10.0+cu111)\n",
            "Requirement already satisfied: numpy in /usr/local/lib/python3.7/dist-packages (from fairlib) (1.21.5)\n",
            "Requirement already satisfied: PyYAML in /usr/local/lib/python3.7/dist-packages (from fairlib) (3.13)\n",
            "Requirement already satisfied: cycler>=0.10 in /usr/local/lib/python3.7/dist-packages (from matplotlib->fairlib) (0.11.0)\n",
            "Requirement already satisfied: pyparsing!=2.0.4,!=2.1.2,!=2.1.6,>=2.0.1 in /usr/local/lib/python3.7/dist-packages (from matplotlib->fairlib) (3.0.7)\n",
            "Requirement already satisfied: kiwisolver>=1.0.1 in /usr/local/lib/python3.7/dist-packages (from matplotlib->fairlib) (1.4.0)\n",
            "Requirement already satisfied: python-dateutil>=2.1 in /usr/local/lib/python3.7/dist-packages (from matplotlib->fairlib) (2.8.2)\n",
            "Requirement already satisfied: typing-extensions in /usr/local/lib/python3.7/dist-packages (from kiwisolver>=1.0.1->matplotlib->fairlib) (3.10.0.2)\n",
            "Requirement already satisfied: six>=1.5 in /usr/local/lib/python3.7/dist-packages (from python-dateutil>=2.1->matplotlib->fairlib) (1.15.0)\n",
            "Requirement already satisfied: pytz>=2017.3 in /usr/local/lib/python3.7/dist-packages (from pandas->fairlib) (2018.9)\n",
            "Requirement already satisfied: joblib>=0.11 in /usr/local/lib/python3.7/dist-packages (from scikit-learn->fairlib) (1.1.0)\n",
            "Requirement already satisfied: scipy>=1.1.0 in /usr/local/lib/python3.7/dist-packages (from scikit-learn->fairlib) (1.4.1)\n",
            "Requirement already satisfied: threadpoolctl>=2.0.0 in /usr/local/lib/python3.7/dist-packages (from scikit-learn->fairlib) (3.1.0)\n",
            "Collecting sacremoses\n",
            "  Downloading sacremoses-0.0.49-py3-none-any.whl (895 kB)\n",
            "\u001b[K     |████████████████████████████████| 895 kB 41.5 MB/s \n",
            "\u001b[?25hCollecting huggingface-hub<1.0,>=0.1.0\n",
            "  Downloading huggingface_hub-0.5.1-py3-none-any.whl (77 kB)\n",
            "\u001b[K     |████████████████████████████████| 77 kB 6.5 MB/s \n",
            "\u001b[?25hRequirement already satisfied: regex!=2019.12.17 in /usr/local/lib/python3.7/dist-packages (from transformers->fairlib) (2019.12.20)\n",
            "Collecting tokenizers!=0.11.3,<0.13,>=0.11.1\n",
            "  Downloading tokenizers-0.11.6-cp37-cp37m-manylinux_2_12_x86_64.manylinux2010_x86_64.whl (6.5 MB)\n",
            "\u001b[K     |████████████████████████████████| 6.5 MB 28.3 MB/s \n",
            "\u001b[?25hRequirement already satisfied: requests in /usr/local/lib/python3.7/dist-packages (from transformers->fairlib) (2.23.0)\n",
            "Collecting PyYAML\n",
            "  Downloading PyYAML-6.0-cp37-cp37m-manylinux_2_5_x86_64.manylinux1_x86_64.manylinux_2_12_x86_64.manylinux2010_x86_64.whl (596 kB)\n",
            "\u001b[K     |████████████████████████████████| 596 kB 49.2 MB/s \n",
            "\u001b[?25hRequirement already satisfied: importlib-metadata in /usr/local/lib/python3.7/dist-packages (from transformers->fairlib) (4.11.3)\n",
            "Requirement already satisfied: filelock in /usr/local/lib/python3.7/dist-packages (from transformers->fairlib) (3.6.0)\n",
            "Requirement already satisfied: packaging>=20.0 in /usr/local/lib/python3.7/dist-packages (from transformers->fairlib) (21.3)\n",
            "Requirement already satisfied: zipp>=0.5 in /usr/local/lib/python3.7/dist-packages (from importlib-metadata->transformers->fairlib) (3.7.0)\n",
            "Requirement already satisfied: chardet<4,>=3.0.2 in /usr/local/lib/python3.7/dist-packages (from requests->transformers->fairlib) (3.0.4)\n",
            "Requirement already satisfied: idna<3,>=2.5 in /usr/local/lib/python3.7/dist-packages (from requests->transformers->fairlib) (2.10)\n",
            "Requirement already satisfied: certifi>=2017.4.17 in /usr/local/lib/python3.7/dist-packages (from requests->transformers->fairlib) (2021.10.8)\n",
            "Requirement already satisfied: urllib3!=1.25.0,!=1.25.1,<1.26,>=1.21.1 in /usr/local/lib/python3.7/dist-packages (from requests->transformers->fairlib) (1.24.3)\n",
            "Requirement already satisfied: click in /usr/local/lib/python3.7/dist-packages (from sacremoses->transformers->fairlib) (7.1.2)\n",
            "Installing collected packages: PyYAML, tokenizers, sacremoses, huggingface-hub, transformers, pickle5, fairlib\n",
            "  Attempting uninstall: PyYAML\n",
            "    Found existing installation: PyYAML 3.13\n",
            "    Uninstalling PyYAML-3.13:\n",
            "      Successfully uninstalled PyYAML-3.13\n",
            "Successfully installed PyYAML-6.0 fairlib-0.0.1 huggingface-hub-0.5.1 pickle5-0.0.12 sacremoses-0.0.49 tokenizers-0.11.6 transformers-4.18.0\n"
          ]
        }
      ]
    },
    {
      "cell_type": "code",
      "execution_count": 2,
      "metadata": {
        "id": "Xt6TeF2FVD0i"
      },
      "outputs": [],
      "source": [
        "import fairlib"
      ]
    },
    {
      "cell_type": "markdown",
      "metadata": {
        "id": "ePzbeMKO_eK1"
      },
      "source": [
        "# Download and preprocess the COMPAS dataset\n",
        "\n",
        "https://github.com/google-research/google-research/blob/master/group_agnostic_fairness/data_utils/CreateCompasDatasetFiles.ipynb"
      ]
    },
    {
      "cell_type": "code",
      "execution_count": 3,
      "metadata": {
        "id": "3NA_EUsa_0gF"
      },
      "outputs": [],
      "source": [
        "import os"
      ]
    },
    {
      "cell_type": "code",
      "execution_count": 4,
      "metadata": {
        "id": "R_rywMXmDycV"
      },
      "outputs": [],
      "source": [
        "os.makedirs(\"data\", exist_ok=True)"
      ]
    },
    {
      "cell_type": "code",
      "execution_count": 5,
      "metadata": {
        "colab": {
          "base_uri": "https://localhost:8080/"
        },
        "id": "FEvzAKil_c4Q",
        "outputId": "5d0fa479-44e8-4eb8-bac0-303adcc43deb"
      },
      "outputs": [
        {
          "output_type": "stream",
          "name": "stdout",
          "text": [
            "--2022-04-08 15:09:58--  https://raw.githubusercontent.com/propublica/compas-analysis/master/compas-scores-two-years.csv\n",
            "Resolving raw.githubusercontent.com (raw.githubusercontent.com)... 185.199.108.133, 185.199.109.133, 185.199.110.133, ...\n",
            "Connecting to raw.githubusercontent.com (raw.githubusercontent.com)|185.199.108.133|:443... connected.\n",
            "HTTP request sent, awaiting response... 200 OK\n",
            "Length: 2546489 (2.4M) [text/plain]\n",
            "Saving to: ‘data/compas-scores-two-years.csv’\n",
            "\n",
            "data/compas-scores- 100%[===================>]   2.43M  --.-KB/s    in 0.03s   \n",
            "\n",
            "2022-04-08 15:09:58 (70.2 MB/s) - ‘data/compas-scores-two-years.csv’ saved [2546489/2546489]\n",
            "\n"
          ]
        }
      ],
      "source": [
        "!wget --no-check-certificate --content-disposition \"https://raw.githubusercontent.com/propublica/compas-analysis/master/compas-scores-two-years.csv\" -O \"data/compas-scores-two-years.csv\""
      ]
    },
    {
      "cell_type": "code",
      "execution_count": 6,
      "metadata": {
        "id": "evTuT1mv_c1U"
      },
      "outputs": [],
      "source": [
        "import pandas as pd\n",
        "import numpy as np\n",
        "from sklearn.model_selection import train_test_split\n",
        "import numpy as np"
      ]
    },
    {
      "cell_type": "code",
      "execution_count": 7,
      "metadata": {
        "id": "-FDH5os_IdBR"
      },
      "outputs": [],
      "source": [
        "pd.options.display.float_format = '{:,.2f}'.format\n",
        "dataset_base_dir = \"data/\"\n",
        "dataset_file_name = 'compas-scores-two-years.csv'"
      ]
    },
    {
      "cell_type": "code",
      "execution_count": 8,
      "metadata": {
        "id": "cnQVuOJ0ImW0"
      },
      "outputs": [],
      "source": [
        "file_path = os.path.join(dataset_base_dir,dataset_file_name)\n",
        "temp_df = pd.read_csv(file_path)\n",
        "\n",
        "# Columns of interest\n",
        "columns = ['juv_fel_count', 'juv_misd_count', 'juv_other_count', 'priors_count',\n",
        "                'age', \n",
        "                'c_charge_degree', \n",
        "                'c_charge_desc',\n",
        "                'age_cat',\n",
        "                'sex', 'race',  'is_recid']\n",
        "target_variable = 'is_recid'\n",
        "target_value = 'Yes'\n",
        "\n",
        "# Drop duplicates\n",
        "temp_df = temp_df[['id']+columns].drop_duplicates()\n",
        "df = temp_df[columns].copy()\n",
        "\n",
        "# Convert columns of type ``object`` to ``category`` \n",
        "df = pd.concat([\n",
        "        df.select_dtypes(include=[], exclude=['object']),\n",
        "        df.select_dtypes(['object']).apply(pd.Series.astype, dtype='category')\n",
        "        ], axis=1).reindex(df.columns, axis=1)\n",
        "\n",
        "# Binarize target_variable\n",
        "df['is_recid'] = df.apply(lambda x: 'Yes' if x['is_recid']==1.0 else 'No', axis=1).astype('category')\n",
        "\n",
        "# Process protected-column values\n",
        "race_dict = {'African-American':'Black','Caucasian':'White'}\n",
        "df['race'] = df.apply(lambda x: race_dict[x['race']] if x['race'] in race_dict.keys() else 'Other', axis=1).astype('category')"
      ]
    },
    {
      "cell_type": "code",
      "execution_count": 9,
      "metadata": {
        "colab": {
          "base_uri": "https://localhost:8080/",
          "height": 423
        },
        "id": "gZ6itDouI4sF",
        "outputId": "0939e275-2073-4855-8c48-ac5e538f619a"
      },
      "outputs": [
        {
          "output_type": "execute_result",
          "data": {
            "text/plain": [
              "      juv_fel_count  juv_misd_count  juv_other_count  priors_count  age  \\\n",
              "0                 0               0                0             0   69   \n",
              "1                 0               0                0             0   34   \n",
              "2                 0               0                1             4   24   \n",
              "3                 0               1                0             1   23   \n",
              "4                 0               0                0             2   43   \n",
              "...             ...             ...              ...           ...  ...   \n",
              "7209              0               0                0             0   23   \n",
              "7210              0               0                0             0   23   \n",
              "7211              0               0                0             0   57   \n",
              "7212              0               0                0             3   33   \n",
              "7213              0               0                0             2   23   \n",
              "\n",
              "     c_charge_degree                   c_charge_desc          age_cat     sex  \\\n",
              "0                  F    Aggravated Assault w/Firearm  Greater than 45    Male   \n",
              "1                  F  Felony Battery w/Prior Convict          25 - 45    Male   \n",
              "2                  F           Possession of Cocaine     Less than 25    Male   \n",
              "3                  F          Possession of Cannabis     Less than 25    Male   \n",
              "4                  F           arrest case no charge          25 - 45    Male   \n",
              "...              ...                             ...              ...     ...   \n",
              "7209               F                Deliver Cannabis     Less than 25    Male   \n",
              "7210               F   Leaving the Scene of Accident     Less than 25    Male   \n",
              "7211               F   Aggravated Battery / Pregnant  Greater than 45    Male   \n",
              "7212               M   Battery on Law Enforc Officer          25 - 45  Female   \n",
              "7213               F          Possession of Ethylone     Less than 25  Female   \n",
              "\n",
              "       race is_recid  \n",
              "0     Other       No  \n",
              "1     Black      Yes  \n",
              "2     Black      Yes  \n",
              "3     Black       No  \n",
              "4     Other       No  \n",
              "...     ...      ...  \n",
              "7209  Black       No  \n",
              "7210  Black       No  \n",
              "7211  Other       No  \n",
              "7212  Black       No  \n",
              "7213  Other      Yes  \n",
              "\n",
              "[7214 rows x 11 columns]"
            ],
            "text/html": [
              "\n",
              "  <div id=\"df-7d3a143f-c642-4228-9663-4fe7fafe02bd\">\n",
              "    <div class=\"colab-df-container\">\n",
              "      <div>\n",
              "<style scoped>\n",
              "    .dataframe tbody tr th:only-of-type {\n",
              "        vertical-align: middle;\n",
              "    }\n",
              "\n",
              "    .dataframe tbody tr th {\n",
              "        vertical-align: top;\n",
              "    }\n",
              "\n",
              "    .dataframe thead th {\n",
              "        text-align: right;\n",
              "    }\n",
              "</style>\n",
              "<table border=\"1\" class=\"dataframe\">\n",
              "  <thead>\n",
              "    <tr style=\"text-align: right;\">\n",
              "      <th></th>\n",
              "      <th>juv_fel_count</th>\n",
              "      <th>juv_misd_count</th>\n",
              "      <th>juv_other_count</th>\n",
              "      <th>priors_count</th>\n",
              "      <th>age</th>\n",
              "      <th>c_charge_degree</th>\n",
              "      <th>c_charge_desc</th>\n",
              "      <th>age_cat</th>\n",
              "      <th>sex</th>\n",
              "      <th>race</th>\n",
              "      <th>is_recid</th>\n",
              "    </tr>\n",
              "  </thead>\n",
              "  <tbody>\n",
              "    <tr>\n",
              "      <th>0</th>\n",
              "      <td>0</td>\n",
              "      <td>0</td>\n",
              "      <td>0</td>\n",
              "      <td>0</td>\n",
              "      <td>69</td>\n",
              "      <td>F</td>\n",
              "      <td>Aggravated Assault w/Firearm</td>\n",
              "      <td>Greater than 45</td>\n",
              "      <td>Male</td>\n",
              "      <td>Other</td>\n",
              "      <td>No</td>\n",
              "    </tr>\n",
              "    <tr>\n",
              "      <th>1</th>\n",
              "      <td>0</td>\n",
              "      <td>0</td>\n",
              "      <td>0</td>\n",
              "      <td>0</td>\n",
              "      <td>34</td>\n",
              "      <td>F</td>\n",
              "      <td>Felony Battery w/Prior Convict</td>\n",
              "      <td>25 - 45</td>\n",
              "      <td>Male</td>\n",
              "      <td>Black</td>\n",
              "      <td>Yes</td>\n",
              "    </tr>\n",
              "    <tr>\n",
              "      <th>2</th>\n",
              "      <td>0</td>\n",
              "      <td>0</td>\n",
              "      <td>1</td>\n",
              "      <td>4</td>\n",
              "      <td>24</td>\n",
              "      <td>F</td>\n",
              "      <td>Possession of Cocaine</td>\n",
              "      <td>Less than 25</td>\n",
              "      <td>Male</td>\n",
              "      <td>Black</td>\n",
              "      <td>Yes</td>\n",
              "    </tr>\n",
              "    <tr>\n",
              "      <th>3</th>\n",
              "      <td>0</td>\n",
              "      <td>1</td>\n",
              "      <td>0</td>\n",
              "      <td>1</td>\n",
              "      <td>23</td>\n",
              "      <td>F</td>\n",
              "      <td>Possession of Cannabis</td>\n",
              "      <td>Less than 25</td>\n",
              "      <td>Male</td>\n",
              "      <td>Black</td>\n",
              "      <td>No</td>\n",
              "    </tr>\n",
              "    <tr>\n",
              "      <th>4</th>\n",
              "      <td>0</td>\n",
              "      <td>0</td>\n",
              "      <td>0</td>\n",
              "      <td>2</td>\n",
              "      <td>43</td>\n",
              "      <td>F</td>\n",
              "      <td>arrest case no charge</td>\n",
              "      <td>25 - 45</td>\n",
              "      <td>Male</td>\n",
              "      <td>Other</td>\n",
              "      <td>No</td>\n",
              "    </tr>\n",
              "    <tr>\n",
              "      <th>...</th>\n",
              "      <td>...</td>\n",
              "      <td>...</td>\n",
              "      <td>...</td>\n",
              "      <td>...</td>\n",
              "      <td>...</td>\n",
              "      <td>...</td>\n",
              "      <td>...</td>\n",
              "      <td>...</td>\n",
              "      <td>...</td>\n",
              "      <td>...</td>\n",
              "      <td>...</td>\n",
              "    </tr>\n",
              "    <tr>\n",
              "      <th>7209</th>\n",
              "      <td>0</td>\n",
              "      <td>0</td>\n",
              "      <td>0</td>\n",
              "      <td>0</td>\n",
              "      <td>23</td>\n",
              "      <td>F</td>\n",
              "      <td>Deliver Cannabis</td>\n",
              "      <td>Less than 25</td>\n",
              "      <td>Male</td>\n",
              "      <td>Black</td>\n",
              "      <td>No</td>\n",
              "    </tr>\n",
              "    <tr>\n",
              "      <th>7210</th>\n",
              "      <td>0</td>\n",
              "      <td>0</td>\n",
              "      <td>0</td>\n",
              "      <td>0</td>\n",
              "      <td>23</td>\n",
              "      <td>F</td>\n",
              "      <td>Leaving the Scene of Accident</td>\n",
              "      <td>Less than 25</td>\n",
              "      <td>Male</td>\n",
              "      <td>Black</td>\n",
              "      <td>No</td>\n",
              "    </tr>\n",
              "    <tr>\n",
              "      <th>7211</th>\n",
              "      <td>0</td>\n",
              "      <td>0</td>\n",
              "      <td>0</td>\n",
              "      <td>0</td>\n",
              "      <td>57</td>\n",
              "      <td>F</td>\n",
              "      <td>Aggravated Battery / Pregnant</td>\n",
              "      <td>Greater than 45</td>\n",
              "      <td>Male</td>\n",
              "      <td>Other</td>\n",
              "      <td>No</td>\n",
              "    </tr>\n",
              "    <tr>\n",
              "      <th>7212</th>\n",
              "      <td>0</td>\n",
              "      <td>0</td>\n",
              "      <td>0</td>\n",
              "      <td>3</td>\n",
              "      <td>33</td>\n",
              "      <td>M</td>\n",
              "      <td>Battery on Law Enforc Officer</td>\n",
              "      <td>25 - 45</td>\n",
              "      <td>Female</td>\n",
              "      <td>Black</td>\n",
              "      <td>No</td>\n",
              "    </tr>\n",
              "    <tr>\n",
              "      <th>7213</th>\n",
              "      <td>0</td>\n",
              "      <td>0</td>\n",
              "      <td>0</td>\n",
              "      <td>2</td>\n",
              "      <td>23</td>\n",
              "      <td>F</td>\n",
              "      <td>Possession of Ethylone</td>\n",
              "      <td>Less than 25</td>\n",
              "      <td>Female</td>\n",
              "      <td>Other</td>\n",
              "      <td>Yes</td>\n",
              "    </tr>\n",
              "  </tbody>\n",
              "</table>\n",
              "<p>7214 rows × 11 columns</p>\n",
              "</div>\n",
              "      <button class=\"colab-df-convert\" onclick=\"convertToInteractive('df-7d3a143f-c642-4228-9663-4fe7fafe02bd')\"\n",
              "              title=\"Convert this dataframe to an interactive table.\"\n",
              "              style=\"display:none;\">\n",
              "        \n",
              "  <svg xmlns=\"http://www.w3.org/2000/svg\" height=\"24px\"viewBox=\"0 0 24 24\"\n",
              "       width=\"24px\">\n",
              "    <path d=\"M0 0h24v24H0V0z\" fill=\"none\"/>\n",
              "    <path d=\"M18.56 5.44l.94 2.06.94-2.06 2.06-.94-2.06-.94-.94-2.06-.94 2.06-2.06.94zm-11 1L8.5 8.5l.94-2.06 2.06-.94-2.06-.94L8.5 2.5l-.94 2.06-2.06.94zm10 10l.94 2.06.94-2.06 2.06-.94-2.06-.94-.94-2.06-.94 2.06-2.06.94z\"/><path d=\"M17.41 7.96l-1.37-1.37c-.4-.4-.92-.59-1.43-.59-.52 0-1.04.2-1.43.59L10.3 9.45l-7.72 7.72c-.78.78-.78 2.05 0 2.83L4 21.41c.39.39.9.59 1.41.59.51 0 1.02-.2 1.41-.59l7.78-7.78 2.81-2.81c.8-.78.8-2.07 0-2.86zM5.41 20L4 18.59l7.72-7.72 1.47 1.35L5.41 20z\"/>\n",
              "  </svg>\n",
              "      </button>\n",
              "      \n",
              "  <style>\n",
              "    .colab-df-container {\n",
              "      display:flex;\n",
              "      flex-wrap:wrap;\n",
              "      gap: 12px;\n",
              "    }\n",
              "\n",
              "    .colab-df-convert {\n",
              "      background-color: #E8F0FE;\n",
              "      border: none;\n",
              "      border-radius: 50%;\n",
              "      cursor: pointer;\n",
              "      display: none;\n",
              "      fill: #1967D2;\n",
              "      height: 32px;\n",
              "      padding: 0 0 0 0;\n",
              "      width: 32px;\n",
              "    }\n",
              "\n",
              "    .colab-df-convert:hover {\n",
              "      background-color: #E2EBFA;\n",
              "      box-shadow: 0px 1px 2px rgba(60, 64, 67, 0.3), 0px 1px 3px 1px rgba(60, 64, 67, 0.15);\n",
              "      fill: #174EA6;\n",
              "    }\n",
              "\n",
              "    [theme=dark] .colab-df-convert {\n",
              "      background-color: #3B4455;\n",
              "      fill: #D2E3FC;\n",
              "    }\n",
              "\n",
              "    [theme=dark] .colab-df-convert:hover {\n",
              "      background-color: #434B5C;\n",
              "      box-shadow: 0px 1px 3px 1px rgba(0, 0, 0, 0.15);\n",
              "      filter: drop-shadow(0px 1px 2px rgba(0, 0, 0, 0.3));\n",
              "      fill: #FFFFFF;\n",
              "    }\n",
              "  </style>\n",
              "\n",
              "      <script>\n",
              "        const buttonEl =\n",
              "          document.querySelector('#df-7d3a143f-c642-4228-9663-4fe7fafe02bd button.colab-df-convert');\n",
              "        buttonEl.style.display =\n",
              "          google.colab.kernel.accessAllowed ? 'block' : 'none';\n",
              "\n",
              "        async function convertToInteractive(key) {\n",
              "          const element = document.querySelector('#df-7d3a143f-c642-4228-9663-4fe7fafe02bd');\n",
              "          const dataTable =\n",
              "            await google.colab.kernel.invokeFunction('convertToInteractive',\n",
              "                                                     [key], {});\n",
              "          if (!dataTable) return;\n",
              "\n",
              "          const docLinkHtml = 'Like what you see? Visit the ' +\n",
              "            '<a target=\"_blank\" href=https://colab.research.google.com/notebooks/data_table.ipynb>data table notebook</a>'\n",
              "            + ' to learn more about interactive tables.';\n",
              "          element.innerHTML = '';\n",
              "          dataTable['output_type'] = 'display_data';\n",
              "          await google.colab.output.renderOutput(dataTable, element);\n",
              "          const docLink = document.createElement('div');\n",
              "          docLink.innerHTML = docLinkHtml;\n",
              "          element.appendChild(docLink);\n",
              "        }\n",
              "      </script>\n",
              "    </div>\n",
              "  </div>\n",
              "  "
            ]
          },
          "metadata": {},
          "execution_count": 9
        }
      ],
      "source": [
        "df"
      ]
    },
    {
      "cell_type": "code",
      "execution_count": 10,
      "metadata": {
        "id": "GSfvTo-nETQ6"
      },
      "outputs": [],
      "source": [
        "# Create splits\n",
        "train_df, test_df = train_test_split(df, test_size=0.30, random_state=42)\n",
        "train_df, dev_df = train_test_split(train_df, test_size=0.1, random_state=42)"
      ]
    },
    {
      "cell_type": "code",
      "execution_count": 11,
      "metadata": {
        "colab": {
          "base_uri": "https://localhost:8080/"
        },
        "id": "LwKAnWnI_cwK",
        "outputId": "8edba09c-9f1f-4af4-9205-431f0aa42a05"
      },
      "outputs": [
        {
          "output_type": "stream",
          "name": "stdout",
          "text": [
            "{'c_charge_degree': ['F', 'M'], 'c_charge_desc': ['Aiding Escape', 'Cash Item w/Intent to Defraud', 'Lewd or Lascivious Molestation', 'Attempted Burg/Convey/Unocc', 'Aggravated Assault W/o Firearm', 'Disorderly Conduct', 'Crlty Twrd Child Urge Oth Act', 'Agg Battery Grt/Bod/Harm', 'Poss Contr Subst W/o Prescript', 'Soliciting For Prostitution', 'Tresspass Struct/Conveyance', 'Unlaw Lic Use/Disply Of Others', 'Aggrav Battery w/Deadly Weapon', 'Opert With Susp DL 2ND Offense', 'Deliver Cannabis', 'Battery', 'Intoxicated/Safety Of Another', 'Fail Sex Offend Report Bylaw', 'Attempted Deliv Control Subst', 'Lewd Act Presence Child 16-', 'Violation Of Boater Safety Id', 'Del Morphine at/near Park', 'Possession of LSD', 'Possession Of Diazepam', 'Possession Of Anabolic Steroid', 'Aggravated Battery (Firearm)', 'Possession Of Carisoprodol', 'Possession Of Cocaine', 'Purchase/P/W/Int Cannabis', 'Attempt Armed Burglary Dwell', 'Cause Anoth Phone Ring Repeat', 'Sexual Performance by a Child', 'Purchase Cannabis', 'Falsely Impersonating Officer', 'False Motor Veh Insurance Card', 'Strong Armed  Robbery', 'Deliver Cannabis 1000FTSch', 'Possession of Morphine', 'Possession of Methadone', 'Alcoholic Beverage Violation-FL', 'Battery On A Person Over 65', 'Lewd/Lasc Battery Pers 12+/<16', 'Sel/Pur/Mfr/Del Control Substa', 'Sound Articles Over 100', 'Petit Theft', 'DWLS Canceled Disqul 1st Off', 'Present Proof of Invalid Insur', 'Sex Batt Faml/Cust Vict 12-17Y', 'Felony Battery w/Prior Convict', 'Use Of 2 Way Device To Fac Fel', 'Possession of Oxycodone', 'Poss Firearm W/Altered ID#', 'Neglect Child / No Bodily Harm', 'Sex Battery Deft 18+/Vict 11-', 'Poss Unlaw Issue Driver Licenc', 'Att Burgl Struc/Conv Dwel/Occp', 'Robbery W/Firearm', 'Trans/Harm/Material to a Minor', 'Lve/Scen/Acc/Veh/Prop/Damage', 'Burglary Conveyance Occupied', 'Child Abuse', 'Robbery / Weapon', 'Offer Agree Secure/Lewd Act', 'Poss/Sell/Deliver Clonazepam', 'Giving False Crime Report', 'Possession Of Buprenorphine', 'Burglary Conveyance Assault/Bat', 'Prostitution/Lewdness/Assign', 'Aggress/Panhandle/Beg/Solict', 'Tampering with a Victim', 'Crim Use Of Personal Id Info', 'Use Computer for Child Exploit', 'Possession Child Pornography', 'Uttering Forged Bills', 'Fleeing or Eluding a LEO', 'Possession of Alcohol Under 21', 'Possess/Use Weapon 1 Deg Felon', 'Battery Spouse Or Girlfriend', 'DUI- Enhanced', 'Prostitution', 'DUI - Property Damage/Personal Injury', 'Traff In Cocaine <400g>150 Kil', 'Solicit Purchase Cocaine', 'Delivery of Heroin', 'Crimin Mischief Damage $1000+', 'Unlawful Use Of Police Badges', 'Fail Register Vehicle', 'Poss Pyrrolidinobutiophenone', 'Sexual Battery / Vict 12 Yrs +', 'False Ownership Info/Pawn Item', 'Forging Bank Bills/Promis Note', 'Crim Attempt/Solic/Consp', 'Aggravated Battery / Pregnant', 'Leave Accd/Attend Veh/Less $50', 'Theft/To Deprive', 'Grand Theft (motor Vehicle)', 'Compulsory Attendance Violation', 'Murder In 2nd Degree W/firearm', 'Poss/pur/sell/deliver Cocaine', 'Criminal Mischief Damage <$200', 'Possession Of Clonazepam', 'Burglary With Assault/battery', 'Poss Counterfeit Payment Inst', 'Possession of Cannabis', 'False Info LEO During Invest', 'Dealing In Stolen Property', 'Accessory After the Fact', 'Unlawful Conveyance of Fuel', 'Delivery of 5-Fluoro PB-22', 'Battery On Fire Fighter', 'Contradict Statement', 'Possess Controlled Substance', 'Computer Pornography', 'Grand Theft in the 3rd Degree', 'Sale/Del Cannabis At/Near Scho', 'Poss of Firearm by Convic Felo', 'DOC/Cause Public Danger', 'Attempted Burg/struct/unocc', 'Principal In The First Degree', 'Resist/Obstruct W/O Violence', 'Unlaw Use False Name/Identity', 'Felony Driving While Lic Suspd', 'Possession of Cocaine', 'Deliver Cocaine 1000FT Park', 'Del Cannabis At/Near Park', 'Failure To Pay Taxi Cab Charge', 'Traffick Oxycodone     4g><14g', 'Fel Drive License Perm Revoke', 'Murder in 2nd Degree', 'Possession Of Fentanyl', 'Poss F/Arm Delinq', 'Purchasing Of Alprazolam', 'Trespass Struct/Convey Occupy', 'Poss/Sell/Del Cocaine 1000FT Sch', 'False Name By Person Arrest', 'Fail To Redeliv Hire/Leas Prop', 'Del of JWH-250 2-Methox 1-Pentyl', 'Possession Of Heroin', 'Robbery W/Deadly Weapon', 'Trespass Structure/Conveyance', 'Leaving the Scene of Accident', 'Deliver Cocaine 1000FT Store', 'Driving License Suspended', 'Carry Open/Uncov Bev In Pub', 'Criminal Attempt 3rd Deg Felon', 'Deliver Alprazolam', 'Agg Assault W/int Com Fel Dome', 'Use Scanning Device to Defraud', 'Possess Weapon On School Prop', 'Fail Register Career Offender', 'Corrupt Public Servant', 'Poss Wep Conv Felon', 'Unlicensed Telemarketing', 'Del 3,4 Methylenedioxymethcath', 'Arson in the First Degree', 'Poss Similitude of Drivers Lic', 'Grand Theft (Motor Vehicle)', 'Delivery Of Drug Paraphernalia', 'Carjacking with a Firearm', 'Poss Pyrrolidinovalerophenone W/I/D/S', 'Offn Against Intellectual Prop', 'Burglary Assault/Battery Armed', 'Theft', 'DUI Level 0.15 Or Minor In Veh', 'Neglect Child / Bodily Harm', 'Harm Public Servant Or Family', 'Poss Tetrahydrocannabinols', 'Opert With Susp DL 2nd Offens', 'Robbery Sudd Snatch No Weapon', 'Assault', 'Grand Theft of the 2nd Degree', 'Unauth C/P/S Sounds>1000/Audio', 'Viol Pretrial Release Dom Viol', 'Obstruct Fire Equipment', 'Battery on Law Enforc Officer', 'Uttering Worthless Check +$150', 'Poss Unlaw Issue Id', 'Unlaw LicTag/Sticker Attach', 'Disrupting School Function', 'Fail Obey Driv Lic Restrictions', 'Felony Committing Prostitution', 'Agg Assault Law Enforc Officer', 'Throw In Occupied Dwell', 'Aggravated Assault W/Dead Weap', 'Sale/Del Counterfeit Cont Subs', 'Felony Battery (Dom Strang)', 'Criminal Mischief', 'Possession Of 3,4Methylenediox', 'Tresspass in Structure or Conveyance', 'Traffick Amphetamine 28g><200g', 'Throw Deadly Missile Into Veh', 'Burglary Conveyance Armed', 'Possess Cannabis/20 Grams Or Less', 'Lease For Purpose Trafficking', 'Tamper With Witness/Victim/CI', 'D.U.I. Serious Bodily Injury', 'Lewd/Lasciv Molest Elder Persn', 'Possession of Benzylpiperazine', 'Violation License Restrictions', 'Issuing a Worthless Draft', 'Throw Missile Into Pub/Priv Dw', 'Pos Cannabis For Consideration', 'Attempted Robbery  No Weapon', 'Possession of Ethylone', 'Aggravated Assault w/Firearm', 'Susp Drivers Lic 1st Offense', 'Purchase Of Cocaine', 'Possess Mot Veh W/Alt Vin #', 'Viol Injunct Domestic Violence', 'Felony DUI (level 3)', 'Sell or Offer for Sale Counterfeit Goods', 'Poss 3,4 MDMA (Ecstasy)', 'Fabricating Physical Evidence', 'Possess w/I/Utter Forged Bills', 'Threat Public Servant', 'Insurance Fraud', 'Extradition/Defendants', 'Traffic Counterfeit Cred Cards', 'Petit Theft $100- $300', 'Att Burgl Unoccupied Dwel', 'Poss Cntrft Contr Sub w/Intent', 'Abuse Without Great Harm', 'arrest case no charge', 'DUI - Enhanced', 'Grand Theft Dwell Property', 'Resist Officer w/Violence', 'False 911 Call', 'Poss Pyrrolidinovalerophenone', 'Trespass Other Struct/Conve', 'Fighting/Baiting Animals', 'Possess Cannabis 1000FTSch', 'Possession of Hydromorphone', 'Grand Theft on 65 Yr or Older', 'Interfere W/Traf Cont Dev RR', 'Exhibition Weapon School Prop', 'Imperson Public Officer or Emplyee', 'Agg Fleeing and Eluding', 'Viol Injunction Protect Dom Vi', 'Traffick Hydrocodone   4g><14g', 'Refuse to Supply DNA Sample', 'Pos Methylenedioxymethcath W/I/D/S', 'Trespass Struct/Conveyance', 'Restraining Order Dating Viol', 'Tamper With Victim', 'Compulsory Sch Attnd Violation', 'Deliver Cocaine', 'Reckless Driving', 'Fail To Obey Police Officer', 'Deliver 3,4 Methylenediox', 'Contribute Delinquency Of A Minor', 'Open Carrying Of Weapon', 'Burglary Conveyance Unoccup', 'Grand Theft in the 1st Degree', 'Possession Of Amphetamine', 'Burglary Structure Assault/Batt', 'Possession of Codeine', 'Harass Witness/Victm/Informnt', 'Aggr Child Abuse-Torture,Punish', 'Poss of Vessel w/Altered ID NO', 'Carrying Concealed Firearm', 'Escape', 'Poss Meth/Diox/Meth/Amp (MDMA)', 'Aggravated Battery', 'Criminal Mischief>$200<$1000', 'Att Tamper w/Physical Evidence', 'Possession Of Methamphetamine', 'Robbery / No Weapon', 'Possession Of Alprazolam', 'Refuse Submit Blood/Breath Test', 'Trespass Structure w/Dang Weap', 'Bribery Athletic Contests', 'Felon in Pos of Firearm or Amm', 'Posses/Disply Susp/Revk/Frd DL', 'Exposes Culpable Negligence', 'Leave Acc/Attend Veh/More $50', 'Agg Abuse Elderlly/Disabled Adult', 'Interference with Custody', 'Tampering With Physical Evidence', 'Counterfeit Lic Plates/Sticker', 'Trespass On School Grounds', 'PL/Unlaw Use Credit Card', 'Possess Drug Paraphernalia', 'Cruelty Toward Child', 'Poss Oxycodone W/Int/Sell/Del', 'Exploit Elderly Person 20-100K', 'Solic to Commit Battery', 'Stalking (Aggravated)', 'Depriv LEO of Protect/Communic', 'Defrauding Innkeeper $300/More', 'Lewd/Lasc Exhib Presence <16yr', 'Prostitution/Lewd Act Assignation', 'Poss Alprazolam W/int Sell/Del', 'Poss Of RX Without RX', 'Unauthorized Interf w/Railroad', 'False Imprisonment', 'Burglary Structure Unoccup', 'Unemployment Compensatn Fraud', 'Flee/Elude LEO-Agg Flee Unsafe', 'DWI w/Inj Susp Lic / Habit Off', 'DUI/Property Damage/Persnl Inj', 'Conspiracy to Deliver Cocaine', 'Fail To Secure Load', 'Misuse Of 911 Or E911 System', 'Pos Cannabis W/Intent Sel/Del', 'Money Launder 100K or More Dols', 'Leaving Acc/Unattended Veh', 'Burglary Dwelling Armed', 'Burglary Dwelling Occupied', 'Trespassing/Construction Site', 'Culpable Negligence', 'Burgl Dwel/Struct/Convey Armed', 'Consp Traff Oxycodone  4g><14g', 'Battery Emergency Care Provide', 'Shoot In Occupied Dwell', 'Hiring with Intent to Defraud', 'Poss Of 1,4-Butanediol', 'Fraud Obtain Food or Lodging', 'License Suspended Revoked', 'Murder in the First Degree', 'Deliver Cocaine 1000FT School', 'Kidnapping / Domestic Violence', 'Attempted Robbery  Weapon', 'Aggrav Stalking After Injunctn', 'Unl/Disturb Education/Instui', 'Fleeing Or Attmp Eluding A Leo', 'Manslaughter W/Weapon/Firearm', 'Possess Tobacco Product Under 18', 'Viol Prot Injunc Repeat Viol', 'Battery On Parking Enfor Speci', 'DUI Property Damage/Injury', 'Tamper With Witness', 'Aide/Abet Prostitution Lewdness', 'Possession Of Lorazepam', 'Poss3,4 Methylenedioxymethcath', 'Burglary Unoccupied Dwelling', 'Carjacking w/o Deadly Weapon', 'Sell Cannabis', 'Sell Conterfeit Cont Substance', 'Fail To Redeliver Hire Prop', 'Attempted Robbery Firearm', 'Grand Theft Firearm', 'Consp Traff Oxycodone 28g><30k', 'Agg Fleeing/Eluding High Speed', 'Consume Alcoholic Bev Pub', 'Grand Theft of a Fire Extinquisher', 'Possession Firearm School Prop', 'Possession of Hydrocodone', 'Voyeurism', 'Deliver Cocaine 1000FT Church', 'Aggravated Battery (Firearm/Actual Possession)', 'Poss/Sell/Del/Man Amobarbital', 'Uttering Forged Credit Card', 'Grand Theft In The 3Rd Degree', 'Aggrav Child Abuse-Causes Harm', 'Poss Cocaine/Intent To Del/Sel', 'Structuring Transactions', 'Conspiracy Dealing Stolen Prop', 'Burglary Dwelling Assault/Batt', 'Expired DL More Than 6 Months', 'Fraudulent Use of Credit Card', 'Possession of Butylone', 'Offer Agree Secure For Lewd Act', 'Battery on a Person Over 65', 'Att Burgl Conv Occp', 'Felony DUI - Enhanced', 'Ride Tri-Rail Without Paying', 'Simulation of Legal Process', 'Introduce Contraband Into Jail', 'Poss Trifluoromethylphenylpipe', 'Lewdness Violation', 'Dealing in Stolen Property', 'Driving Under The Influence', 'Gambling/Gamb Paraphernalia', 'Obstruct Officer W/Violence', 'Assault Law Enforcement Officer', 'Violation of Injunction Order/Stalking/Cyberstalking', 'Manufacture Cannabis', 'Crim Use of Personal ID Info', 'Aggravated Battery On 65/Older', 'Carrying A Concealed Weapon', 'Attempt Burglary (Struct)', 'Del Cannabis For Consideration', 'Unauth Poss ID Card or DL', 'Solicit Deliver Cocaine', 'Poss Drugs W/O A Prescription', 'Sel Etc/Pos/w/Int Contrft Schd', 'Obtain Control Substance By Fraud', 'Burglary Structure Occupied', 'Sex Offender Fail Comply W/Law', 'Retail Theft $300 1st Offense', 'Uttering a Forged Instrument', 'Cruelty to Animals', 'Felony Batt(Great Bodily Harm)', 'Oper Motorcycle W/O Valid DL', 'Trespass Property w/Dang Weap', 'Possession Burglary Tools', 'Disorderly Intoxication', 'Stalking', 'Aggravated Assault W/dead Weap', 'Video Voyeur-<24Y on Child >16', 'Poss of Cocaine W/I/D/S 1000FT Park', 'False Bomb Report', 'Operating W/O Valid License', 'Neglect/Abuse Elderly Person', 'Felony Battery', 'Littering', 'Possession Of Phentermine', 'Shoot Into Vehicle', 'Sell/Man/Del Pos/w/int Heroin', 'Felony/Driving Under Influence', 'Retail Theft $300 2nd Offense', 'Prowling/Loitering', 'Possession of XLR11', 'Solicit To Deliver Cocaine', 'Possession Of Paraphernalia', 'Crim Attempt/Solicit/Consp', 'DUI Blood Alcohol Above 0.20', 'Driving While License Revoked', 'Possess Countrfeit Credit Card', 'Poss Anti-Shoplifting Device', 'Felony Petit Theft', 'Failure To Return Hired Vehicle', 'Use of Anti-Shoplifting Device', 'Trespass Private Property', 'Aggravated Assault', 'Poss of Methylethcathinone', 'Manage Busn W/O City Occup Lic', 'DWLS Susp/Cancel Revoked', 'Drivg While Lic Suspd/Revk/Can', 'Poss Of Controlled Substance', 'Armed Trafficking in Cannabis', 'Defrauding Innkeeper', 'Live on Earnings of Prostitute', 'Aggrav Child Abuse-Agg Battery', 'Solicitation On Felony 3 Deg', 'Discharge Firearm From Vehicle', 'Arson II (Vehicle)'], 'age_cat': ['Less than 25', '25 - 45', 'Greater than 45'], 'sex': ['Male', 'Female'], 'race': ['Black', 'White', 'Other'], 'is_recid': ['Yes', 'No']}\n"
          ]
        }
      ],
      "source": [
        "cat_cols = train_df.select_dtypes(include='category').columns\n",
        "vocab_dict = {}\n",
        "for col in cat_cols:\n",
        "  vocab_dict[col] = list(set(train_df[col].cat.categories))\n",
        "print(vocab_dict)"
      ]
    },
    {
      "cell_type": "code",
      "execution_count": 12,
      "metadata": {
        "colab": {
          "base_uri": "https://localhost:8080/"
        },
        "id": "c6Wines_WXoX",
        "outputId": "07341a81-7f8b-4612-e3b8-f58cc71d7011"
      },
      "outputs": [
        {
          "output_type": "stream",
          "name": "stdout",
          "text": [
            "{'juv_fel_count': [0.0721830985915493, 0.5187066204966256], 'juv_misd_count': [0.09793133802816902, 0.5348148993571356], 'juv_other_count': [0.10629401408450705, 0.47329289176000755], 'priors_count': [3.504181338028169, 4.9829540064651585], 'age': [34.875220070422536, 11.929411671055068]}\n"
          ]
        }
      ],
      "source": [
        "temp_dict = train_df.describe().to_dict()\n",
        "mean_std_dict = {}\n",
        "for key, value in temp_dict.items():\n",
        "  mean_std_dict[key] = [value['mean'],value['std']]\n",
        "print(mean_std_dict)"
      ]
    },
    {
      "cell_type": "code",
      "execution_count": 13,
      "metadata": {
        "id": "p8IMX1_sho20"
      },
      "outputs": [],
      "source": [
        "def preprocessing(tmp_df):\n",
        "    features = {}\n",
        "    # Normalize numberiacal columns\n",
        "    for col_name in mean_std_dict.keys():\n",
        "        _mean, _std = mean_std_dict[col_name]\n",
        "        features[col_name] = ((tmp_df[col_name]-_mean)/_std)\n",
        "    # Encode categorical columns as indices\n",
        "    for col_name in vocab_dict.keys():\n",
        "        features[col_name] = tmp_df[col_name].map(\n",
        "            {\n",
        "                j:i for i,j in enumerate(vocab_dict[col_name])\n",
        "            }\n",
        "        )\n",
        "    # One-hot encoding categorical features\n",
        "    for col_name in [\"c_charge_degree\", \"c_charge_desc\", \"age_cat\"]:\n",
        "        features[col_name] = pd.get_dummies(features[col_name], prefix=col_name)\n",
        "    return pd.concat(features.values(), axis=1)"
      ]
    },
    {
      "cell_type": "code",
      "execution_count": 14,
      "metadata": {
        "id": "PINWfT9pwWR-"
      },
      "outputs": [],
      "source": [
        "train_df = preprocessing(train_df)\n",
        "dev_df =  preprocessing(dev_df)\n",
        "test_df = preprocessing(test_df)"
      ]
    },
    {
      "cell_type": "code",
      "execution_count": 15,
      "metadata": {
        "id": "Tvji_PCyXza-"
      },
      "outputs": [],
      "source": [
        "train_df.to_pickle(os.path.join(dataset_base_dir, \"train.pkl\"))\n",
        "dev_df.to_pickle(os.path.join(dataset_base_dir, \"dev.pkl\"))\n",
        "test_df.to_pickle(os.path.join(dataset_base_dir, \"test.pkl\"))"
      ]
    },
    {
      "cell_type": "code",
      "execution_count": 16,
      "metadata": {
        "id": "3qOYUt8eUDT2"
      },
      "outputs": [],
      "source": [
        "from fairlib import networks, BaseOptions, dataloaders\n",
        "import torch"
      ]
    },
    {
      "cell_type": "code",
      "execution_count": 17,
      "metadata": {
        "id": "WIQgZgVgUDT2"
      },
      "outputs": [],
      "source": [
        "Shared_options = {\n",
        "    # The name of the dataset, correponding dataloader will be used,\n",
        "    \"dataset\":  \"COMPAS\",\n",
        "\n",
        "    # Specifiy the path to the input data\n",
        "    \"data_dir\": \"./data\",\n",
        "\n",
        "    # Device for computing, -1 is the cpu\n",
        "    \"device_id\": -1,\n",
        "\n",
        "    # The default path for saving experimental results\n",
        "    \"results_dir\":  r\"results\",\n",
        "\n",
        "    # The same as the dataset\n",
        "    \"project_dir\":  r\"dev\",\n",
        "\n",
        "    # We will focusing on TPR GAP, implying the Equalized Odds for binay classification.\n",
        "    \"GAP_metric_name\":  \"TPR_GAP\",\n",
        "\n",
        "    # The overall performance will be measured as accuracy\n",
        "    \"Performance_metric_name\":  \"accuracy\",\n",
        "\n",
        "    # Model selections are based on DTO\n",
        "    \"selection_criterion\":  \"DTO\",\n",
        "\n",
        "    # Default dirs for saving checkpoints\n",
        "    \"checkpoint_dir\":   \"models\",\n",
        "    \"checkpoint_name\":  \"checkpoint_epoch\",\n",
        "\n",
        "\n",
        "    \"n_jobs\":   1,\n",
        "}"
      ]
    },
    {
      "cell_type": "code",
      "execution_count": 18,
      "metadata": {
        "colab": {
          "base_uri": "https://localhost:8080/"
        },
        "id": "-fAarStJUDT2",
        "outputId": "b8f25d48-ae5d-4ae2-887a-467015cf9728"
      },
      "outputs": [
        {
          "output_type": "stream",
          "name": "stderr",
          "text": [
            "INFO:root:Unexpected args: ['-f', '/root/.local/share/jupyter/runtime/kernel-2b94b31d-201f-46ea-842f-e5f6c625b168.json']\n",
            "INFO:root:Logging to ./results/dev/COMPAS/vanilla/output.log\n"
          ]
        },
        {
          "output_type": "stream",
          "name": "stdout",
          "text": [
            "2022-04-08 15:10:45 [INFO ]  ======================================== 2022-04-08 15:10:45 ========================================\n",
            "2022-04-08 15:10:45 [INFO ]  Base directory is ./results/dev/COMPAS/vanilla\n",
            "Not implemented\n",
            "2022-04-08 15:10:45 [INFO ]  dataloaders need to be initialized!\n"
          ]
        }
      ],
      "source": [
        "args = {\n",
        "    \"dataset\":Shared_options[\"dataset\"], \n",
        "    \"data_dir\":Shared_options[\"data_dir\"],\n",
        "    \"device_id\":Shared_options[\"device_id\"],\n",
        "\n",
        "    # Give a name to the exp, which will be used in the path\n",
        "    \"exp_id\":\"vanilla\",\n",
        "\n",
        "    \"emb_size\": 450-3,\n",
        "    \"lr\": 0.001,\n",
        "    \"batch_size\": 128,\n",
        "    \"hidden_size\": 32,\n",
        "    \"n_hidden\": 1,\n",
        "    \"activation_function\": \"ReLu\",\n",
        "\n",
        "    \"num_classes\": 2,\n",
        "    \"num_groups\": 3, # Balck; White; and Other\n",
        "}\n",
        "\n",
        "# Init the argument\n",
        "options = BaseOptions()\n",
        "state = options.get_state(args=args, silence=True)"
      ]
    },
    {
      "cell_type": "code",
      "execution_count": 19,
      "metadata": {
        "id": "1L9WAC7jUDT3"
      },
      "outputs": [],
      "source": [
        "class CustomizedDataset(dataloaders.utils.BaseDataset):\n",
        "\n",
        "    def load_data(self):\n",
        "\n",
        "        self.data_dir = os.path.join(self.args.data_dir, \"{}.pkl\".format(self.split))\n",
        "\n",
        "        data = pd.read_pickle(self.data_dir)\n",
        "\n",
        "        self.X = data.drop(['sex', 'race', 'is_recid'], axis=1).to_numpy().astype(np.float32)\n",
        "        self.y = list(data[\"is_recid\"])\n",
        "        self.protected_label = list(data[\"race\"])"
      ]
    },
    {
      "cell_type": "code",
      "execution_count": 20,
      "metadata": {
        "colab": {
          "base_uri": "https://localhost:8080/"
        },
        "id": "xXc659mpUDT3",
        "outputId": "f31fccda-1ad6-4130-90f1-5a5c61225512"
      },
      "outputs": [
        {
          "output_type": "stream",
          "name": "stdout",
          "text": [
            "Loaded data shapes: (4544, 447), (4544,), (4544,)\n",
            "Loaded data shapes: (505, 447), (505,), (505,)\n",
            "Loaded data shapes: (2165, 447), (2165,), (2165,)\n"
          ]
        }
      ],
      "source": [
        "customized_train_data = CustomizedDataset(args=state, split=\"train\")\n",
        "customized_dev_data = CustomizedDataset(args=state, split=\"dev\")\n",
        "customized_test_data = CustomizedDataset(args=state, split=\"test\")\n",
        "\n",
        "# DataLoader Parameters\n",
        "tran_dataloader_params = {\n",
        "        'batch_size': state.batch_size,\n",
        "        'shuffle': True,\n",
        "        'num_workers': state.num_workers}\n",
        "\n",
        "eval_dataloader_params = {\n",
        "        'batch_size': state.test_batch_size,\n",
        "        'shuffle': False,\n",
        "        'num_workers': state.num_workers}\n",
        "\n",
        "# init dataloader\n",
        "customized_training_generator = torch.utils.data.DataLoader(customized_train_data, **tran_dataloader_params)\n",
        "customized_validation_generator = torch.utils.data.DataLoader(customized_dev_data, **eval_dataloader_params)\n",
        "customized_test_generator = torch.utils.data.DataLoader(customized_test_data, **eval_dataloader_params)"
      ]
    },
    {
      "cell_type": "code",
      "execution_count": 21,
      "metadata": {
        "colab": {
          "base_uri": "https://localhost:8080/"
        },
        "id": "SGfihIUqUDT3",
        "outputId": "a39227bb-70f9-4dfe-d4e5-ccf1ddd2e123"
      },
      "outputs": [
        {
          "output_type": "stream",
          "name": "stdout",
          "text": [
            "2022-04-08 15:10:53 [INFO ]  MLP( \n",
            "2022-04-08 15:10:53 [INFO ]    (output_layer): Linear(in_features=32, out_features=2, bias=True)\n",
            "2022-04-08 15:10:53 [INFO ]    (AF): ReLU()\n",
            "2022-04-08 15:10:53 [INFO ]    (hidden_layers): ModuleList(\n",
            "2022-04-08 15:10:53 [INFO ]      (0): Linear(in_features=447, out_features=32, bias=True)\n",
            "2022-04-08 15:10:53 [INFO ]      (1): ReLU()\n",
            "2022-04-08 15:10:53 [INFO ]    )\n",
            "2022-04-08 15:10:53 [INFO ]    (criterion): CrossEntropyLoss()\n",
            "2022-04-08 15:10:53 [INFO ]  )\n",
            "2022-04-08 15:10:53 [INFO ]  Total number of parameters: 14402 \n",
            "\n"
          ]
        }
      ],
      "source": [
        "model = networks.classifier.MLP(state)"
      ]
    },
    {
      "cell_type": "code",
      "execution_count": 22,
      "metadata": {
        "colab": {
          "base_uri": "https://localhost:8080/"
        },
        "id": "BzHN7paxUDT4",
        "outputId": "8cabc3fd-51c8-461c-8e24-fe870bba1942"
      },
      "outputs": [
        {
          "output_type": "stream",
          "name": "stdout",
          "text": [
            "2022-04-08 15:10:56 [INFO ]  Epoch:    0 [      0/   4544 ( 0%)]\tLoss: 0.6934\t Data Time: 0.05s\tTrain Time: 0.18s\n",
            "2022-04-08 15:10:56 [INFO ]  Evaluation at Epoch 0\n",
            "2022-04-08 15:10:56 [INFO ]  Validation accuracy: 65.35\tmacro_fscore: 64.74\tmicro_fscore: 65.35\tTPR_GAP: 29.34\tFPR_GAP: 29.34\tPPR_GAP: 31.29\t\n",
            "2022-04-08 15:10:56 [INFO ]  Test accuracy: 67.16\tmacro_fscore: 66.42\tmicro_fscore: 67.16\tTPR_GAP: 30.35\tFPR_GAP: 30.35\tPPR_GAP: 35.61\t\n",
            "2022-04-08 15:10:56 [INFO ]  Epoch:    1 [      0/   4544 ( 0%)]\tLoss: 0.6347\t Data Time: 0.00s\tTrain Time: 0.00s\n",
            "2022-04-08 15:10:56 [INFO ]  Evaluation at Epoch 1\n",
            "2022-04-08 15:10:56 [INFO ]  Validation accuracy: 66.53\tmacro_fscore: 66.34\tmicro_fscore: 66.53\tTPR_GAP: 28.61\tFPR_GAP: 28.61\tPPR_GAP: 31.18\t\n",
            "2022-04-08 15:10:56 [INFO ]  Test accuracy: 67.39\tmacro_fscore: 67.07\tmicro_fscore: 67.39\tTPR_GAP: 31.21\tFPR_GAP: 31.21\tPPR_GAP: 36.49\t\n",
            "2022-04-08 15:10:56 [INFO ]  Epoch:    2 [      0/   4544 ( 0%)]\tLoss: 0.5875\t Data Time: 0.00s\tTrain Time: 0.00s\n",
            "2022-04-08 15:10:57 [INFO ]  Evaluation at Epoch 2\n",
            "2022-04-08 15:10:57 [INFO ]  Validation accuracy: 66.53\tmacro_fscore: 66.42\tmicro_fscore: 66.53\tTPR_GAP: 30.15\tFPR_GAP: 30.15\tPPR_GAP: 32.84\t\n",
            "2022-04-08 15:10:57 [INFO ]  Test accuracy: 68.73\tmacro_fscore: 68.44\tmicro_fscore: 68.73\tTPR_GAP: 32.73\tFPR_GAP: 32.73\tPPR_GAP: 38.85\t\n",
            "2022-04-08 15:10:57 [INFO ]  Epoch:    3 [      0/   4544 ( 0%)]\tLoss: 0.6307\t Data Time: 0.00s\tTrain Time: 0.00s\n",
            "2022-04-08 15:10:57 [INFO ]  Epochs since last improvement: 1\n",
            "2022-04-08 15:10:57 [INFO ]  Evaluation at Epoch 3\n",
            "2022-04-08 15:10:57 [INFO ]  Validation accuracy: 64.95\tmacro_fscore: 64.75\tmicro_fscore: 64.95\tTPR_GAP: 30.37\tFPR_GAP: 30.37\tPPR_GAP: 32.78\t\n",
            "2022-04-08 15:10:57 [INFO ]  Test accuracy: 68.96\tmacro_fscore: 68.58\tmicro_fscore: 68.96\tTPR_GAP: 32.78\tFPR_GAP: 32.78\tPPR_GAP: 38.32\t\n",
            "2022-04-08 15:10:57 [INFO ]  Epoch:    4 [      0/   4544 ( 0%)]\tLoss: 0.5862\t Data Time: 0.00s\tTrain Time: 0.00s\n",
            "2022-04-08 15:10:57 [INFO ]  Epochs since last improvement: 2\n",
            "2022-04-08 15:10:57 [INFO ]  Evaluation at Epoch 4\n",
            "2022-04-08 15:10:57 [INFO ]  Validation accuracy: 65.54\tmacro_fscore: 65.52\tmicro_fscore: 65.54\tTPR_GAP: 35.21\tFPR_GAP: 35.21\tPPR_GAP: 38.30\t\n",
            "2022-04-08 15:10:57 [INFO ]  Test accuracy: 68.87\tmacro_fscore: 68.76\tmicro_fscore: 68.87\tTPR_GAP: 33.56\tFPR_GAP: 33.56\tPPR_GAP: 40.54\t\n",
            "2022-04-08 15:10:57 [INFO ]  Epoch:    5 [      0/   4544 ( 0%)]\tLoss: 0.5576\t Data Time: 0.00s\tTrain Time: 0.00s\n",
            "2022-04-08 15:10:57 [INFO ]  Epochs since last improvement: 3\n",
            "2022-04-08 15:10:57 [INFO ]  Evaluation at Epoch 5\n",
            "2022-04-08 15:10:57 [INFO ]  Validation accuracy: 65.94\tmacro_fscore: 65.67\tmicro_fscore: 65.94\tTPR_GAP: 33.95\tFPR_GAP: 33.95\tPPR_GAP: 37.23\t\n",
            "2022-04-08 15:10:57 [INFO ]  Test accuracy: 68.91\tmacro_fscore: 68.41\tmicro_fscore: 68.91\tTPR_GAP: 29.95\tFPR_GAP: 29.95\tPPR_GAP: 35.99\t\n",
            "2022-04-08 15:10:57 [INFO ]  Epoch:    6 [      0/   4544 ( 0%)]\tLoss: 0.5662\t Data Time: 0.00s\tTrain Time: 0.00s\n",
            "2022-04-08 15:10:57 [INFO ]  Epochs since last improvement: 4\n",
            "2022-04-08 15:10:57 [INFO ]  Evaluation at Epoch 6\n",
            "2022-04-08 15:10:57 [INFO ]  Validation accuracy: 64.75\tmacro_fscore: 64.62\tmicro_fscore: 64.75\tTPR_GAP: 35.02\tFPR_GAP: 35.02\tPPR_GAP: 37.66\t\n",
            "2022-04-08 15:10:57 [INFO ]  Test accuracy: 68.91\tmacro_fscore: 68.66\tmicro_fscore: 68.91\tTPR_GAP: 30.55\tFPR_GAP: 30.55\tPPR_GAP: 37.57\t\n",
            "2022-04-08 15:10:57 [INFO ]  Epoch:    7 [      0/   4544 ( 0%)]\tLoss: 0.6291\t Data Time: 0.00s\tTrain Time: 0.00s\n",
            "2022-04-08 15:10:57 [INFO ]  Epochs since last improvement: 5\n",
            "2022-04-08 15:10:57 [INFO ]  Evaluation at Epoch 7\n",
            "2022-04-08 15:10:57 [INFO ]  Validation accuracy: 65.15\tmacro_fscore: 65.13\tmicro_fscore: 65.15\tTPR_GAP: 33.15\tFPR_GAP: 33.15\tPPR_GAP: 36.60\t\n",
            "2022-04-08 15:10:57 [INFO ]  Test accuracy: 68.73\tmacro_fscore: 68.63\tmicro_fscore: 68.73\tTPR_GAP: 30.15\tFPR_GAP: 30.15\tPPR_GAP: 37.46\t\n"
          ]
        }
      ],
      "source": [
        "model.train_self(\n",
        "    train_generator = customized_training_generator,\n",
        "    dev_generator = customized_validation_generator,\n",
        "    test_generator = customized_test_generator,\n",
        ")"
      ]
    },
    {
      "cell_type": "code",
      "execution_count": 23,
      "metadata": {
        "colab": {
          "base_uri": "https://localhost:8080/"
        },
        "id": "xmqdlUG6UDT4",
        "outputId": "7aca4f3b-426a-4273-ef76-eef5a82b2234"
      },
      "outputs": [
        {
          "output_type": "stream",
          "name": "stdout",
          "text": [
            "2022-04-08 15:11:04 [INFO ]  Unexpected args: ['-f', '/root/.local/share/jupyter/runtime/kernel-2b94b31d-201f-46ea-842f-e5f6c625b168.json']\n",
            "2022-04-08 15:11:04 [INFO ]  Logging to ./results/dev/COMPAS/BT_Adv/output.log\n",
            "2022-04-08 15:11:04 [INFO ]  ======================================== 2022-04-08 15:11:04 ========================================\n",
            "2022-04-08 15:11:04 [INFO ]  Base directory is ./results/dev/COMPAS/BT_Adv\n",
            "Not implemented\n",
            "2022-04-08 15:11:04 [INFO ]  dataloaders need to be initialized!\n",
            "2022-04-08 15:11:04 [INFO ]  SubDiscriminator( \n",
            "2022-04-08 15:11:04 [INFO ]    (grad_rev): GradientReversal()\n",
            "2022-04-08 15:11:04 [INFO ]    (output_layer): Linear(in_features=300, out_features=3, bias=True)\n",
            "2022-04-08 15:11:04 [INFO ]    (AF): ReLU()\n",
            "2022-04-08 15:11:04 [INFO ]    (hidden_layers): ModuleList(\n",
            "2022-04-08 15:11:04 [INFO ]      (0): Linear(in_features=32, out_features=300, bias=True)\n",
            "2022-04-08 15:11:04 [INFO ]      (1): ReLU()\n",
            "2022-04-08 15:11:04 [INFO ]      (2): Linear(in_features=300, out_features=300, bias=True)\n",
            "2022-04-08 15:11:04 [INFO ]      (3): ReLU()\n",
            "2022-04-08 15:11:04 [INFO ]    )\n",
            "2022-04-08 15:11:04 [INFO ]    (criterion): CrossEntropyLoss()\n",
            "2022-04-08 15:11:04 [INFO ]  )\n",
            "2022-04-08 15:11:04 [INFO ]  Total number of parameters: 101103 \n",
            "\n",
            "2022-04-08 15:11:04 [INFO ]  Discriminator built!\n",
            "Loaded data shapes: (2001, 447), (2001,), (2001,)\n",
            "Loaded data shapes: (252, 447), (252,), (252,)\n",
            "Loaded data shapes: (939, 447), (939,), (939,)\n",
            "2022-04-08 15:11:04 [INFO ]  MLP( \n",
            "2022-04-08 15:11:04 [INFO ]    (output_layer): Linear(in_features=32, out_features=2, bias=True)\n",
            "2022-04-08 15:11:04 [INFO ]    (AF): ReLU()\n",
            "2022-04-08 15:11:04 [INFO ]    (hidden_layers): ModuleList(\n",
            "2022-04-08 15:11:04 [INFO ]      (0): Linear(in_features=447, out_features=32, bias=True)\n",
            "2022-04-08 15:11:04 [INFO ]      (1): ReLU()\n",
            "2022-04-08 15:11:04 [INFO ]    )\n",
            "2022-04-08 15:11:04 [INFO ]    (criterion): CrossEntropyLoss()\n",
            "2022-04-08 15:11:04 [INFO ]  )\n",
            "2022-04-08 15:11:04 [INFO ]  Total number of parameters: 14402 \n",
            "\n"
          ]
        }
      ],
      "source": [
        "debiasing_args = {\n",
        "    \"dataset\":Shared_options[\"dataset\"], \n",
        "    \"data_dir\":Shared_options[\"data_dir\"],\n",
        "    \"device_id\":Shared_options[\"device_id\"],\n",
        "\n",
        "    # Give a name to the exp, which will be used in the path\n",
        "    \"exp_id\":\"BT_Adv\",\n",
        "\n",
        "    \"emb_size\": 450-3,\n",
        "    \"lr\": 0.001,\n",
        "    \"batch_size\": 128,\n",
        "    \"hidden_size\": 32,\n",
        "    \"n_hidden\": 1,\n",
        "    \"activation_function\": \"ReLu\",\n",
        "\n",
        "    \"num_classes\": 2,\n",
        "    \"num_groups\": 3, # Balck; White; and Other\n",
        "\n",
        "    # Perform adversarial training if True\n",
        "    \"adv_debiasing\":True,\n",
        "\n",
        "    # Specify the hyperparameters for Balanced Training\n",
        "    \"BT\":\"Resampling\",\n",
        "    \"BTObj\":\"EO\",\n",
        "}\n",
        "\n",
        "# Init the argument\n",
        "debias_options = BaseOptions()\n",
        "debias_state = debias_options.get_state(args=debiasing_args, silence=True)\n",
        "\n",
        "customized_train_data = CustomizedDataset(args=debias_state, split=\"train\")\n",
        "customized_dev_data = CustomizedDataset(args=debias_state, split=\"dev\")\n",
        "customized_test_data = CustomizedDataset(args=debias_state, split=\"test\")\n",
        "\n",
        "# DataLoader Parameters\n",
        "tran_dataloader_params = {\n",
        "        'batch_size': state.batch_size,\n",
        "        'shuffle': True,\n",
        "        'num_workers': state.num_workers}\n",
        "\n",
        "eval_dataloader_params = {\n",
        "        'batch_size': state.test_batch_size,\n",
        "        'shuffle': False,\n",
        "        'num_workers': state.num_workers}\n",
        "\n",
        "# init dataloader\n",
        "customized_training_generator = torch.utils.data.DataLoader(customized_train_data, **tran_dataloader_params)\n",
        "customized_validation_generator = torch.utils.data.DataLoader(customized_dev_data, **eval_dataloader_params)\n",
        "customized_test_generator = torch.utils.data.DataLoader(customized_test_data, **eval_dataloader_params)\n",
        "\n",
        "debias_model = networks.classifier.MLP(debias_state)"
      ]
    },
    {
      "cell_type": "code",
      "execution_count": 24,
      "metadata": {
        "colab": {
          "base_uri": "https://localhost:8080/"
        },
        "id": "jLJQQzilUDT4",
        "outputId": "b16f7118-38a4-4d70-bd26-a956173ec505"
      },
      "outputs": [
        {
          "output_type": "stream",
          "name": "stdout",
          "text": [
            "2022-04-08 15:11:07 [INFO ]  Epoch:    0 [      0/   2001 ( 0%)]\tLoss: -0.3949\t Data Time: 0.01s\tTrain Time: 0.04s\n",
            "2022-04-08 15:11:08 [INFO ]  Evaluation at Epoch 0\n",
            "2022-04-08 15:11:08 [INFO ]  Validation accuracy: 55.16\tmacro_fscore: 43.87\tmicro_fscore: 55.16\tTPR_GAP: 9.77\tFPR_GAP: 9.77\tPPR_GAP: 8.73\t\n",
            "2022-04-08 15:11:08 [INFO ]  Test accuracy: 66.24\tmacro_fscore: 47.19\tmicro_fscore: 66.24\tTPR_GAP: 7.53\tFPR_GAP: 7.53\tPPR_GAP: 5.11\t\n",
            "2022-04-08 15:11:08 [INFO ]  Epoch:    1 [      0/   2001 ( 0%)]\tLoss: -0.4219\t Data Time: 0.00s\tTrain Time: 0.01s\n",
            "2022-04-08 15:11:08 [INFO ]  Evaluation at Epoch 1\n",
            "2022-04-08 15:11:08 [INFO ]  Validation accuracy: 55.95\tmacro_fscore: 45.35\tmicro_fscore: 55.95\tTPR_GAP: 7.64\tFPR_GAP: 7.64\tPPR_GAP: 7.14\t\n",
            "2022-04-08 15:11:08 [INFO ]  Test accuracy: 66.67\tmacro_fscore: 48.27\tmicro_fscore: 66.67\tTPR_GAP: 10.50\tFPR_GAP: 10.50\tPPR_GAP: 6.18\t\n",
            "2022-04-08 15:11:08 [INFO ]  Epoch:    2 [      0/   2001 ( 0%)]\tLoss: -0.4536\t Data Time: 0.00s\tTrain Time: 0.01s\n",
            "2022-04-08 15:11:08 [INFO ]  Evaluation at Epoch 2\n",
            "2022-04-08 15:11:08 [INFO ]  Validation accuracy: 58.73\tmacro_fscore: 50.64\tmicro_fscore: 58.73\tTPR_GAP: 19.20\tFPR_GAP: 19.20\tPPR_GAP: 16.67\t\n",
            "2022-04-08 15:11:08 [INFO ]  Test accuracy: 67.52\tmacro_fscore: 51.29\tmicro_fscore: 67.52\tTPR_GAP: 13.91\tFPR_GAP: 13.91\tPPR_GAP: 8.09\t\n",
            "2022-04-08 15:11:08 [INFO ]  Epoch:    3 [      0/   2001 ( 0%)]\tLoss: -0.4428\t Data Time: 0.00s\tTrain Time: 0.02s\n",
            "2022-04-08 15:11:09 [INFO ]  Evaluation at Epoch 3\n",
            "2022-04-08 15:11:09 [INFO ]  Validation accuracy: 59.13\tmacro_fscore: 52.36\tmicro_fscore: 59.13\tTPR_GAP: 22.48\tFPR_GAP: 22.48\tPPR_GAP: 20.63\t\n",
            "2022-04-08 15:11:09 [INFO ]  Test accuracy: 68.37\tmacro_fscore: 54.69\tmicro_fscore: 68.37\tTPR_GAP: 15.95\tFPR_GAP: 15.95\tPPR_GAP: 10.86\t\n",
            "2022-04-08 15:11:09 [INFO ]  Epoch:    4 [      0/   2001 ( 0%)]\tLoss: -0.4942\t Data Time: 0.00s\tTrain Time: 0.01s\n",
            "2022-04-08 15:11:09 [INFO ]  Evaluation at Epoch 4\n",
            "2022-04-08 15:11:09 [INFO ]  Validation accuracy: 61.11\tmacro_fscore: 56.25\tmicro_fscore: 61.11\tTPR_GAP: 24.95\tFPR_GAP: 24.95\tPPR_GAP: 23.81\t\n",
            "2022-04-08 15:11:09 [INFO ]  Test accuracy: 69.22\tmacro_fscore: 57.71\tmicro_fscore: 69.22\tTPR_GAP: 22.75\tFPR_GAP: 22.75\tPPR_GAP: 14.27\t\n",
            "2022-04-08 15:11:09 [INFO ]  Epoch:    5 [      0/   2001 ( 0%)]\tLoss: -0.4361\t Data Time: 0.00s\tTrain Time: 0.01s\n",
            "2022-04-08 15:11:09 [INFO ]  Evaluation at Epoch 5\n",
            "2022-04-08 15:11:09 [INFO ]  Validation accuracy: 61.51\tmacro_fscore: 57.77\tmicro_fscore: 61.51\tTPR_GAP: 31.73\tFPR_GAP: 31.73\tPPR_GAP: 30.95\t\n",
            "2022-04-08 15:11:09 [INFO ]  Test accuracy: 69.54\tmacro_fscore: 59.98\tmicro_fscore: 69.54\tTPR_GAP: 23.34\tFPR_GAP: 23.34\tPPR_GAP: 15.34\t\n",
            "2022-04-08 15:11:09 [INFO ]  Epoch:    6 [      0/   2001 ( 0%)]\tLoss: -0.4565\t Data Time: 0.00s\tTrain Time: 0.01s\n",
            "2022-04-08 15:11:10 [INFO ]  Epochs since last improvement: 1\n",
            "2022-04-08 15:11:10 [INFO ]  Evaluation at Epoch 6\n",
            "2022-04-08 15:11:10 [INFO ]  Validation accuracy: 62.70\tmacro_fscore: 59.38\tmicro_fscore: 62.70\tTPR_GAP: 31.73\tFPR_GAP: 31.73\tPPR_GAP: 30.95\t\n",
            "2022-04-08 15:11:10 [INFO ]  Test accuracy: 69.54\tmacro_fscore: 60.41\tmicro_fscore: 69.54\tTPR_GAP: 23.16\tFPR_GAP: 23.16\tPPR_GAP: 16.19\t\n",
            "2022-04-08 15:11:10 [INFO ]  Epoch:    7 [      0/   2001 ( 0%)]\tLoss: -0.5079\t Data Time: 0.01s\tTrain Time: 0.03s\n",
            "2022-04-08 15:11:10 [INFO ]  Evaluation at Epoch 7\n",
            "2022-04-08 15:11:10 [INFO ]  Validation accuracy: 64.68\tmacro_fscore: 62.17\tmicro_fscore: 64.68\tTPR_GAP: 33.00\tFPR_GAP: 33.00\tPPR_GAP: 32.54\t\n",
            "2022-04-08 15:11:10 [INFO ]  Test accuracy: 70.18\tmacro_fscore: 62.32\tmicro_fscore: 70.18\tTPR_GAP: 26.50\tFPR_GAP: 26.50\tPPR_GAP: 19.17\t\n",
            "2022-04-08 15:11:10 [INFO ]  Epoch:    8 [      0/   2001 ( 0%)]\tLoss: -0.5115\t Data Time: 0.00s\tTrain Time: 0.03s\n",
            "2022-04-08 15:11:11 [INFO ]  Evaluation at Epoch 8\n",
            "2022-04-08 15:11:11 [INFO ]  Validation accuracy: 65.08\tmacro_fscore: 62.83\tmicro_fscore: 65.08\tTPR_GAP: 33.30\tFPR_GAP: 33.30\tPPR_GAP: 32.54\t\n",
            "2022-04-08 15:11:11 [INFO ]  Test accuracy: 70.07\tmacro_fscore: 62.94\tmicro_fscore: 70.07\tTPR_GAP: 27.85\tFPR_GAP: 27.85\tPPR_GAP: 18.74\t\n",
            "2022-04-08 15:11:11 [INFO ]  Epoch:    9 [      0/   2001 ( 0%)]\tLoss: -0.5244\t Data Time: 0.01s\tTrain Time: 0.02s\n",
            "2022-04-08 15:11:11 [INFO ]  Epochs since last improvement: 1\n",
            "2022-04-08 15:11:11 [INFO ]  Evaluation at Epoch 9\n",
            "2022-04-08 15:11:11 [INFO ]  Validation accuracy: 65.48\tmacro_fscore: 63.17\tmicro_fscore: 65.48\tTPR_GAP: 33.92\tFPR_GAP: 33.92\tPPR_GAP: 33.33\t\n",
            "2022-04-08 15:11:11 [INFO ]  Test accuracy: 70.29\tmacro_fscore: 63.03\tmicro_fscore: 70.29\tTPR_GAP: 25.90\tFPR_GAP: 25.90\tPPR_GAP: 18.32\t\n",
            "2022-04-08 15:11:11 [INFO ]  Epoch:   10 [      0/   2001 ( 0%)]\tLoss: -0.5170\t Data Time: 0.00s\tTrain Time: 0.03s\n",
            "2022-04-08 15:11:11 [INFO ]  Epochs since last improvement: 2\n",
            "2022-04-08 15:11:11 [INFO ]  Evaluation at Epoch 10\n",
            "2022-04-08 15:11:11 [INFO ]  Validation accuracy: 64.68\tmacro_fscore: 62.33\tmicro_fscore: 64.68\tTPR_GAP: 32.35\tFPR_GAP: 32.35\tPPR_GAP: 30.95\t\n",
            "2022-04-08 15:11:11 [INFO ]  Test accuracy: 70.18\tmacro_fscore: 62.86\tmicro_fscore: 70.18\tTPR_GAP: 26.16\tFPR_GAP: 26.16\tPPR_GAP: 17.89\t\n",
            "2022-04-08 15:11:11 [INFO ]  Epoch:   11 [      0/   2001 ( 0%)]\tLoss: -0.4809\t Data Time: 0.00s\tTrain Time: 0.01s\n",
            "2022-04-08 15:11:11 [INFO ]  Epochs since last improvement: 3\n",
            "2022-04-08 15:11:11 [INFO ]  Evaluation at Epoch 11\n",
            "2022-04-08 15:11:11 [INFO ]  Validation accuracy: 65.48\tmacro_fscore: 63.33\tmicro_fscore: 65.48\tTPR_GAP: 35.23\tFPR_GAP: 35.23\tPPR_GAP: 34.13\t\n",
            "2022-04-08 15:11:11 [INFO ]  Test accuracy: 69.86\tmacro_fscore: 62.85\tmicro_fscore: 69.86\tTPR_GAP: 26.16\tFPR_GAP: 26.16\tPPR_GAP: 17.89\t\n",
            "2022-04-08 15:11:11 [INFO ]  Epoch:   12 [      0/   2001 ( 0%)]\tLoss: -0.5162\t Data Time: 0.00s\tTrain Time: 0.01s\n",
            "2022-04-08 15:11:12 [INFO ]  Epochs since last improvement: 4\n",
            "2022-04-08 15:11:12 [INFO ]  Evaluation at Epoch 12\n",
            "2022-04-08 15:11:12 [INFO ]  Validation accuracy: 64.29\tmacro_fscore: 61.98\tmicro_fscore: 64.29\tTPR_GAP: 33.67\tFPR_GAP: 33.67\tPPR_GAP: 32.54\t\n",
            "2022-04-08 15:11:12 [INFO ]  Test accuracy: 69.65\tmacro_fscore: 62.75\tmicro_fscore: 69.65\tTPR_GAP: 26.87\tFPR_GAP: 26.87\tPPR_GAP: 17.68\t\n",
            "2022-04-08 15:11:12 [INFO ]  Epoch:   13 [      0/   2001 ( 0%)]\tLoss: -0.4658\t Data Time: 0.00s\tTrain Time: 0.01s\n",
            "2022-04-08 15:11:12 [INFO ]  Epochs since last improvement: 5\n",
            "2022-04-08 15:11:12 [INFO ]  Evaluation at Epoch 13\n",
            "2022-04-08 15:11:12 [INFO ]  Validation accuracy: 63.89\tmacro_fscore: 61.64\tmicro_fscore: 63.89\tTPR_GAP: 34.87\tFPR_GAP: 34.87\tPPR_GAP: 34.13\t\n",
            "2022-04-08 15:11:12 [INFO ]  Test accuracy: 69.01\tmacro_fscore: 62.31\tmicro_fscore: 69.01\tTPR_GAP: 26.53\tFPR_GAP: 26.53\tPPR_GAP: 17.89\t\n"
          ]
        }
      ],
      "source": [
        "debias_model.train_self(\n",
        "    train_generator = customized_training_generator,\n",
        "    dev_generator = customized_validation_generator,\n",
        "    test_generator = customized_test_generator,\n",
        ")"
      ]
    },
    {
      "cell_type": "code",
      "source": [
        ""
      ],
      "metadata": {
        "id": "ET9kP_CYuqBa"
      },
      "execution_count": null,
      "outputs": []
    }
  ],
  "metadata": {
    "colab": {
      "collapsed_sections": [],
      "name": "COMPAS.ipynb",
      "provenance": []
    },
    "interpreter": {
      "hash": "086b6e2ac5931a4f7a51b812f0475290a145e7d51f3e22b53c52adf5c273fe30"
    },
    "kernelspec": {
      "display_name": "Python 3.7.12 ('py37')",
      "language": "python",
      "name": "python3"
    },
    "language_info": {
      "codemirror_mode": {
        "name": "ipython",
        "version": 3
      },
      "file_extension": ".py",
      "mimetype": "text/x-python",
      "name": "python",
      "nbconvert_exporter": "python",
      "pygments_lexer": "ipython3",
      "version": "3.7.12"
    },
    "orig_nbformat": 4
  },
  "nbformat": 4,
  "nbformat_minor": 0
}