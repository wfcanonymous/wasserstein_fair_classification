{
  "cells": [
    {
      "cell_type": "markdown",
      "metadata": {
        "id": "rvpBDcdS5TSR"
      },
      "source": [
        "# *fairlib*: A Unified Framework for Assessing and Improving Fairness\n",
        "\n",
        "Xudong Han$^{1}$, &nbsp; Aili Shen$^{1,2, a}$, &nbsp; Yitong Li$^{3}$, &nbsp; Lea Frermann$^{1}$, &nbsp; Timothy Baldwin$^{1,4}$, &nbsp; and &nbsp; Trevor Cohn$^{1}$  \n",
        "\n",
        "$^{1}$ The University of Melbourne\n",
        "\n",
        "$^{2}$ Alexa AI, Amazon\n",
        "\n",
        "$^{3}$ Huawei Technologies Co., Ltd.\n",
        "\n",
        "$^{4}$ MBZUAI\n",
        "\n",
        "<img src=\"https://upload.wikimedia.org/wikipedia/en/thumb/e/ed/Logo_of_the_University_of_Melbourne.svg/330px-Logo_of_the_University_of_Melbourne.svg.png\" height=\"100\"/> &nbsp; &nbsp; &nbsp; &nbsp;\n",
        "<img src=\"https://2019.emnlp.org/assets/images/logos/huawei-logo.png\" height=\"100\"/> &nbsp; &nbsp; &nbsp; &nbsp;\n",
        "<img src=\"https://upload.wikimedia.org/wikipedia/en/5/55/Mohamed_bin_Zayed_University_of_Artificial_Intelligence_logo.png\" height=\"100\"/>\n",
        "\n",
        "---\n",
        "- $^a$ Work carried out at The University of Melbourne\n",
        "- *fairlib* is licensed under the **Apache License 2.0**\n",
        "\n",
        "[GitHub](https://github.com/HanXudong/fairlib), [Docs](https://hanxudong.github.io/fairlib/), [PyPI](https://pypi.org/project/fairlib/)"
      ]
    },
    {
      "cell_type": "markdown",
      "metadata": {
        "id": "uwB4au4ievWx"
      },
      "source": [
        "[![Open In Colab](https://colab.research.google.com/assets/colab-badge.svg)](https://colab.research.google.com/github/HanXudong/fairlib/blob/main/tutorial/fairlib_demo.ipynb)\n",
        "\n",
        "In this video, we will demostrate how to:\n",
        "1.   Install *fairlib*\n",
        "2.   Access fairness benchmark datasets\n",
        "3.   Train a vanilla model without debiasing, and measure fairness\n",
        "4.   Improve fairness with most recent debiasing methods\n",
        "5.   Analyze the results, such as creating tables and figures"
      ]
    },
    {
      "cell_type": "markdown",
      "metadata": {
        "id": "h_KbD9-Xg36Q"
      },
      "source": [
        "## 1. Installation\n",
        "\n",
        "The most straightforward way to install *fairlib* is with pip:"
      ]
    },
    {
      "cell_type": "code",
      "execution_count": 1,
      "metadata": {
        "id": "qS-dfmaWhcqT"
      },
      "outputs": [],
      "source": [
        "!pip install -q fairlib"
      ]
    },
    {
      "cell_type": "markdown",
      "metadata": {
        "id": "HsYTyYGXnuA5"
      },
      "source": [
        "Check out *fairlib* [documents](https://hanxudong.github.io/fairlib/README.html) for other installation options. \n",
        "\n",
        "After installation, let's import *fairlib*."
      ]
    },
    {
      "cell_type": "code",
      "execution_count": 2,
      "metadata": {
        "id": "xIzDL6q3hm2b"
      },
      "outputs": [],
      "source": [
        "import fairlib"
      ]
    },
    {
      "cell_type": "markdown",
      "metadata": {
        "id": "4CyKAiw8g_4X"
      },
      "source": [
        "## 2. Build a dataset"
      ]
    },
    {
      "cell_type": "markdown",
      "metadata": {
        "id": "aG9Jntejh2yF"
      },
      "source": [
        "*fairlib* provides simple APIs to access fairness benchmark datasets that are publicly available and under strict ethical guidelines.\n",
        "\n",
        "In this video, we will be using the preprocessed [Moji](https://github.com/shauli-ravfogel/nullspace_projection/blob/master/download_data.sh) dataset, where each tweet is annotated with a binary sentiment label (happy vs sad) and a binary race label (AAE vs SAE).\n",
        "Original tweets are encoded with the pre-trained [DeepMoji model](https://github.com/bfelbo/DeepMoji) as 2304d vectors.\n",
        "\n",
        "Followings are random examples from the Moji dataset.\n",
        "\n",
        "| Text | Sentiment | Race |\n",
        "| ---- | --------- | ---- |\n",
        "| Dfl somebody said to me yesterday that how can u u have a iPhone or an S3 an ur phone off dfl | Positive | AAE|\n",
        "| smh I bet maybe u just don't care bout poor boo no more | Negative | AAE |\n",
        "| I actually put jeans on today and I already wanna go put on leggings or yogas | Positive | SAE |\n",
        "| I'm sitting next to the most awkward couple on the plane like they are making out and holding hands , I just can't | Negative | SAE |\n",
        "\n",
        "See [here](https://github.com/HanXudong/fairlib/tree/main/fairlib/datasets) for other avaliable datasets, including texts, images, and structured inputs.\n"
      ]
    },
    {
      "cell_type": "code",
      "execution_count": 3,
      "metadata": {
        "id": "pfcw07UCiMqj"
      },
      "outputs": [],
      "source": [
        "from fairlib import datasets"
      ]
    },
    {
      "cell_type": "code",
      "execution_count": 4,
      "metadata": {
        "colab": {
          "base_uri": "https://localhost:8080/",
          "height": 214,
          "referenced_widgets": [
            "37c4e040cfea4f8c948c358014f0cd00",
            "74be6f341a894c7682aad6de3b63c4cc",
            "b9a94eeed9d241a4be13e1ab3b2540d8",
            "88d78f31f08b48608809cd0a211a1fdb",
            "155d359ac2d749169a0d52c591f0d8ea",
            "79aacc7e95bd41d1a7491d300ce44408",
            "a993fd47b6a24182a0769207fe5896ff",
            "05c0c0bae60a4c958f6571576dfcd470",
            "08b65a34ffbf43fa94aa81bdfa88a839",
            "a99b784af7c747cb92b304e024cb45e7",
            "a826fe75b14e466d9fbff54cd4fd78c7",
            "686ff88b3e02409db49eef590197e51f",
            "5ae45a0c9008496fb0e4347da96546d5",
            "9dd2932943e24383a4cff1cc6df0fad4",
            "c9f3ba4aa2c2405faf9ecb026b233379",
            "0f5858dbd88d4a8f95d74f8c2f3df4ab",
            "a43ba65c1600446f899efa4e5372f0ad",
            "c2d89f3eb92e40b684686fac9636537a",
            "2821e713f31b46efa2e90d699e0dc83c",
            "07824111751947f1af0e3f3409cf8897",
            "54535b16f2d3462bad55b950d081f572",
            "be8088868f094bee8ad0ca7a1e74e122",
            "b5e8af5d11954cdbbdb77bdb205e31ec",
            "7041c8004d7f4c2b9f22b200f60394bd",
            "0598af4dcad946c3b5b27dc73dafda3a",
            "2980b492e74549938e9f0fb78237923d",
            "3c29777eb0e64033896044125f33ca3b",
            "842e1f5c6d43472b9cb8690e3d2b6bc0",
            "76c8de3762d948679a2241e3651476a5",
            "101c33c843274092888ae0b593e11084",
            "267c639152c247bfbb01672e66107207",
            "5456c00ca1a44bf3b7bece88b94250d3",
            "f490accfcad641b19c214d9ea5bc422d",
            "1f572cf5213c400f86b91e4cb9c5ab03",
            "223a07676d284ddc9f88eb557535be33",
            "6d8e56dae7c74b51870b8f205f9c2a51",
            "30564c39e4fc42f9a62391eb4ccbeef5",
            "5cf1fb49370f458aa4b34f1d4654c3c0",
            "9f28af0718b04e7489b8d81c554b8f0a",
            "56054bc9fdae4f4aa8d1dd3b2230349e",
            "c8f1fe9931524c4cb344fd8551e8d918",
            "c3ad77793bd342308f942eeaf7c6db5e",
            "7bc47b609afe4320a0c754fde01ba508",
            "29a861a0df0549bcba58054ef6558903"
          ]
        },
        "id": "w4Rzy0Plh8Wc",
        "outputId": "a029a396-9a15-42c5-c072-d4e8c4297f73"
      },
      "outputs": [
        {
          "name": "stdout",
          "output_type": "stream",
          "text": [
            "saving to /content/data/deepmoji/pos_pos.npy\n"
          ]
        },
        {
          "data": {
            "application/vnd.jupyter.widget-view+json": {
              "model_id": "37c4e040cfea4f8c948c358014f0cd00",
              "version_major": 2,
              "version_minor": 0
            },
            "text/plain": [
              "  0%|          | 0/39 [00:00<?, ?it/s]"
            ]
          },
          "metadata": {},
          "output_type": "display_data"
        },
        {
          "name": "stdout",
          "output_type": "stream",
          "text": [
            "saving to /content/data/deepmoji/pos_neg.npy\n"
          ]
        },
        {
          "data": {
            "application/vnd.jupyter.widget-view+json": {
              "model_id": "686ff88b3e02409db49eef590197e51f",
              "version_major": 2,
              "version_minor": 0
            },
            "text/plain": [
              "  0%|          | 0/39 [00:00<?, ?it/s]"
            ]
          },
          "metadata": {},
          "output_type": "display_data"
        },
        {
          "name": "stdout",
          "output_type": "stream",
          "text": [
            "saving to /content/data/deepmoji/neg_pos.npy\n"
          ]
        },
        {
          "data": {
            "application/vnd.jupyter.widget-view+json": {
              "model_id": "b5e8af5d11954cdbbdb77bdb205e31ec",
              "version_major": 2,
              "version_minor": 0
            },
            "text/plain": [
              "  0%|          | 0/39 [00:00<?, ?it/s]"
            ]
          },
          "metadata": {},
          "output_type": "display_data"
        },
        {
          "name": "stdout",
          "output_type": "stream",
          "text": [
            "saving to /content/data/deepmoji/neg_neg.npy\n"
          ]
        },
        {
          "data": {
            "application/vnd.jupyter.widget-view+json": {
              "model_id": "1f572cf5213c400f86b91e4cb9c5ab03",
              "version_major": 2,
              "version_minor": 0
            },
            "text/plain": [
              "  0%|          | 0/39 [00:00<?, ?it/s]"
            ]
          },
          "metadata": {},
          "output_type": "display_data"
        }
      ],
      "source": [
        "datasets.prepare_dataset(\"moji\", \"data/deepmoji\")"
      ]
    },
    {
      "cell_type": "markdown",
      "metadata": {
        "id": "QGz09F1ZKbtp"
      },
      "source": [
        "Datasets will be downloaded and saved to `data/deepmoji`, and then be used to create training, validation, and test splits as previous work."
      ]
    },
    {
      "cell_type": "code",
      "execution_count": 5,
      "metadata": {
        "colab": {
          "base_uri": "https://localhost:8080/"
        },
        "id": "rskM4wIGcUYs",
        "outputId": "b9059471-80e3-4688-8b84-4d5d82ec612f"
      },
      "outputs": [
        {
          "data": {
            "text/plain": [
              "dict_keys(['moji', 'bios', 'coloredmnist', 'compas', 'tp_pos', 'adult', 'coco', 'imsitu'])"
            ]
          },
          "execution_count": 5,
          "metadata": {},
          "output_type": "execute_result"
        }
      ],
      "source": [
        "datasets.name2class.keys()"
      ]
    },
    {
      "cell_type": "markdown",
      "metadata": {
        "id": "63FOrgLqg_16"
      },
      "source": [
        "## 3. Train a vanilla model without debiasing"
      ]
    },
    {
      "cell_type": "markdown",
      "metadata": {
        "id": "XVwBSSg9nWKj"
      },
      "source": [
        "### Specify hyperparameters\n",
        "\n",
        "By default, *fairlib* trains `vanilla` models without debiasing. \n",
        "\n",
        "Here we specify the experiment id (`exp_id = vanilla`), which identify the directory for saving experimental results."
      ]
    },
    {
      "cell_type": "code",
      "execution_count": 6,
      "metadata": {
        "colab": {
          "base_uri": "https://localhost:8080/"
        },
        "id": "DFMtY4SUn8Kh",
        "outputId": "554c40f9-58bd-40f1-854d-80c73edae323"
      },
      "outputs": [
        {
          "name": "stderr",
          "output_type": "stream",
          "text": [
            "INFO:root:Unexpected args: ['-f', '/root/.local/share/jupyter/runtime/kernel-8eb44448-ab67-4429-be7a-d5fc3fe3b2ce.json']\n",
            "INFO:root:Logging to ./results/dev/Moji/vanilla/output.log\n"
          ]
        },
        {
          "name": "stdout",
          "output_type": "stream",
          "text": [
            "2022-07-21 06:53:09 [INFO ]  ======================================== 2022-07-21 06:53:09 ========================================\n",
            "2022-07-21 06:53:09 [INFO ]  Base directory is ./results/dev/Moji/vanilla\n",
            "Loaded data shapes: (99998, 2304), (99998,), (99998,)\n",
            "Loaded data shapes: (8000, 2304), (8000,), (8000,)\n",
            "Loaded data shapes: (7998, 2304), (7998,), (7998,)\n"
          ]
        }
      ],
      "source": [
        "args = {\n",
        "    # The name of the dataset, corresponding dataloader will be used,\n",
        "    \"dataset\":  \"Moji\",\n",
        "\n",
        "    # Specifiy the path to the input data\n",
        "    \"data_dir\": \"data/deepmoji\",\n",
        "\n",
        "    # Device for computing, -1 is the cpu; non-negative numbers indicate GPU id.\n",
        "    \"device_id\":    -1,\n",
        "\n",
        "    # Give a name to the exp, which will be used in the path\n",
        "    \"exp_id\":\"vanilla\",\n",
        "}\n",
        "\n",
        "# Init the argument\n",
        "options = fairlib.BaseOptions()\n",
        "state = options.get_state(args=args, silence=True)"
      ]
    },
    {
      "cell_type": "markdown",
      "metadata": {
        "id": "dbsNCVU9oWjJ"
      },
      "source": [
        "`state` contains a list of hyperparameters for experiments. Besides, other components that are needed, such as dataloaders, will also automatically be initialized "
      ]
    },
    {
      "cell_type": "markdown",
      "metadata": {
        "id": "cy2iQa1DWrjP"
      },
      "source": [
        "### Initialize a model\n",
        "\n",
        "The default architecutre is a 3-layer MLP classifier with Tanh activation functions in between: "
      ]
    },
    {
      "cell_type": "code",
      "execution_count": 7,
      "metadata": {
        "colab": {
          "base_uri": "https://localhost:8080/"
        },
        "id": "wzoC4A7kNP2D",
        "outputId": "602573e8-10dd-4d49-e50d-e303e1ffd005"
      },
      "outputs": [
        {
          "name": "stdout",
          "output_type": "stream",
          "text": [
            "300 2 Tanh\n"
          ]
        }
      ],
      "source": [
        "print(state.hidden_size, state.n_hidden, state.activation_function)"
      ]
    },
    {
      "cell_type": "markdown",
      "metadata": {
        "id": "rqKsSFC8Ngn8"
      },
      "source": [
        "Users can easily specify model architecutres in the option. \n",
        "Please see the [model architecture section](https://github.com/HanXudong/fairlib/blob/main/docs/usage.md#basic-operation) for more details about the hyperparameters corresponding to the model architecture."
      ]
    },
    {
      "cell_type": "code",
      "execution_count": 8,
      "metadata": {
        "colab": {
          "base_uri": "https://localhost:8080/"
        },
        "id": "b-uucdt3oWSD",
        "outputId": "a70a4288-e667-4ff1-b725-fd5e33072a48"
      },
      "outputs": [
        {
          "name": "stdout",
          "output_type": "stream",
          "text": [
            "2022-07-21 06:53:10 [INFO ]  MLP( \n",
            "2022-07-21 06:53:10 [INFO ]    (output_layer): Linear(in_features=300, out_features=2, bias=True)\n",
            "2022-07-21 06:53:10 [INFO ]    (AF): Tanh()\n",
            "2022-07-21 06:53:10 [INFO ]    (hidden_layers): ModuleList(\n",
            "2022-07-21 06:53:10 [INFO ]      (0): Linear(in_features=2304, out_features=300, bias=True)\n",
            "2022-07-21 06:53:10 [INFO ]      (1): Tanh()\n",
            "2022-07-21 06:53:10 [INFO ]      (2): Linear(in_features=300, out_features=300, bias=True)\n",
            "2022-07-21 06:53:10 [INFO ]      (3): Tanh()\n",
            "2022-07-21 06:53:10 [INFO ]    )\n",
            "2022-07-21 06:53:10 [INFO ]    (criterion): CrossEntropyLoss()\n",
            "2022-07-21 06:53:10 [INFO ]  )\n",
            "2022-07-21 06:53:10 [INFO ]  Total number of parameters: 782402 \n",
            "\n"
          ]
        }
      ],
      "source": [
        "fairlib.utils.seed_everything(2022)\n",
        "\n",
        "# Init Model\n",
        "model = fairlib.networks.get_main_model(state)"
      ]
    },
    {
      "cell_type": "markdown",
      "metadata": {
        "id": "J25rggXyodtP"
      },
      "source": [
        "### Train a model\n",
        "\n",
        "\n",
        "A list of hyperparameters has been predefined in *fairlib*, so we can now directly train a model with the model class's built-in `train_self` method.\n",
        "\n",
        "Please see the [link](https://github.com/HanXudong/fairlib/blob/23a32a6f4b3db00134bd651a6e0aa0747ba0adc2/fairlib/src/base_options.py#L162-L200) for all hyperparameters associated with model training."
      ]
    },
    {
      "cell_type": "code",
      "execution_count": 9,
      "metadata": {
        "colab": {
          "base_uri": "https://localhost:8080/"
        },
        "id": "xcYyppDKobnS",
        "outputId": "7f5ea929-82bf-447e-f571-416465b0b63d"
      },
      "outputs": [
        {
          "name": "stdout",
          "output_type": "stream",
          "text": [
            "2022-07-21 06:53:10 [INFO ]  Epoch:    0 [      0/  99998 ( 0%)]\tLoss: 0.6907\t Data Time: 0.06s\tTrain Time: 0.18s\n",
            "2022-07-21 06:53:14 [INFO ]  Epoch:    0 [  51200/  99998 (51%)]\tLoss: 0.4075\t Data Time: 0.44s\tTrain Time: 3.34s\n",
            "2022-07-21 06:53:18 [INFO ]  Evaluation at Epoch 0\n",
            "2022-07-21 06:53:18 [INFO ]  Validation accuracy: 71.44\tmacro_fscore: 71.35\tmicro_fscore: 71.44\tTPR_GAP: 39.59\tFPR_GAP: 39.59\tPPR_GAP: 38.67\t\n",
            "2022-07-21 06:53:18 [INFO ]  Test accuracy: 71.21\tmacro_fscore: 71.12\tmicro_fscore: 71.21\tTPR_GAP: 39.42\tFPR_GAP: 39.42\tPPR_GAP: 38.49\t\n",
            "2022-07-21 06:53:18 [INFO ]  Epoch:    1 [      0/  99998 ( 0%)]\tLoss: 0.4195\t Data Time: 0.01s\tTrain Time: 0.07s\n",
            "2022-07-21 06:53:22 [INFO ]  Epoch:    1 [  51200/  99998 (51%)]\tLoss: 0.3780\t Data Time: 0.42s\tTrain Time: 3.29s\n",
            "2022-07-21 06:53:26 [INFO ]  Evaluation at Epoch 1\n",
            "2022-07-21 06:53:26 [INFO ]  Validation accuracy: 72.10\tmacro_fscore: 72.06\tmicro_fscore: 72.10\tTPR_GAP: 37.69\tFPR_GAP: 37.69\tPPR_GAP: 37.00\t\n",
            "2022-07-21 06:53:26 [INFO ]  Test accuracy: 71.72\tmacro_fscore: 71.68\tmicro_fscore: 71.72\tTPR_GAP: 37.11\tFPR_GAP: 37.11\tPPR_GAP: 36.41\t\n",
            "2022-07-21 06:53:27 [INFO ]  Epoch:    2 [      0/  99998 ( 0%)]\tLoss: 0.3608\t Data Time: 0.01s\tTrain Time: 0.07s\n",
            "2022-07-21 06:53:30 [INFO ]  Epoch:    2 [  51200/  99998 (51%)]\tLoss: 0.3567\t Data Time: 0.42s\tTrain Time: 3.29s\n",
            "2022-07-21 06:53:34 [INFO ]  Epochs since last improvement: 1\n",
            "2022-07-21 06:53:34 [INFO ]  Evaluation at Epoch 2\n",
            "2022-07-21 06:53:34 [INFO ]  Validation accuracy: 71.53\tmacro_fscore: 71.44\tmicro_fscore: 71.53\tTPR_GAP: 39.40\tFPR_GAP: 39.40\tPPR_GAP: 38.40\t\n",
            "2022-07-21 06:53:34 [INFO ]  Test accuracy: 71.38\tmacro_fscore: 71.28\tmicro_fscore: 71.38\tTPR_GAP: 39.07\tFPR_GAP: 39.07\tPPR_GAP: 37.99\t\n",
            "2022-07-21 06:53:35 [INFO ]  Epoch:    3 [      0/  99998 ( 0%)]\tLoss: 0.3584\t Data Time: 0.01s\tTrain Time: 0.07s\n",
            "2022-07-21 06:53:38 [INFO ]  Epoch:    3 [  51200/  99998 (51%)]\tLoss: 0.3430\t Data Time: 0.42s\tTrain Time: 3.28s\n",
            "2022-07-21 06:53:42 [INFO ]  Epochs since last improvement: 2\n",
            "2022-07-21 06:53:42 [INFO ]  Evaluation at Epoch 3\n",
            "2022-07-21 06:53:43 [INFO ]  Validation accuracy: 71.08\tmacro_fscore: 70.73\tmicro_fscore: 71.08\tTPR_GAP: 41.08\tFPR_GAP: 41.08\tPPR_GAP: 38.75\t\n",
            "2022-07-21 06:53:43 [INFO ]  Test accuracy: 70.87\tmacro_fscore: 70.49\tmicro_fscore: 70.87\tTPR_GAP: 40.67\tFPR_GAP: 40.67\tPPR_GAP: 38.42\t\n",
            "2022-07-21 06:53:43 [INFO ]  Epoch:    4 [      0/  99998 ( 0%)]\tLoss: 0.3578\t Data Time: 0.02s\tTrain Time: 0.07s\n",
            "2022-07-21 06:53:46 [INFO ]  Epoch:    4 [  51200/  99998 (51%)]\tLoss: 0.3881\t Data Time: 0.44s\tTrain Time: 3.36s\n",
            "2022-07-21 06:53:50 [INFO ]  Epochs since last improvement: 3\n",
            "2022-07-21 06:53:50 [INFO ]  Evaluation at Epoch 4\n",
            "2022-07-21 06:53:51 [INFO ]  Validation accuracy: 72.06\tmacro_fscore: 71.96\tmicro_fscore: 72.06\tTPR_GAP: 38.04\tFPR_GAP: 38.04\tPPR_GAP: 36.87\t\n",
            "2022-07-21 06:53:51 [INFO ]  Test accuracy: 71.72\tmacro_fscore: 71.61\tmicro_fscore: 71.72\tTPR_GAP: 38.09\tFPR_GAP: 38.09\tPPR_GAP: 36.96\t\n",
            "2022-07-21 06:53:51 [INFO ]  Epoch:    5 [      0/  99998 ( 0%)]\tLoss: 0.4008\t Data Time: 0.02s\tTrain Time: 0.07s\n",
            "2022-07-21 06:53:54 [INFO ]  Epoch:    5 [  51200/  99998 (51%)]\tLoss: 0.3393\t Data Time: 0.43s\tTrain Time: 3.29s\n",
            "2022-07-21 06:53:58 [INFO ]  Epochs since last improvement: 4\n",
            "2022-07-21 06:53:58 [INFO ]  Evaluation at Epoch 5\n",
            "2022-07-21 06:53:59 [INFO ]  Validation accuracy: 71.44\tmacro_fscore: 71.41\tmicro_fscore: 71.44\tTPR_GAP: 40.50\tFPR_GAP: 40.50\tPPR_GAP: 39.97\t\n",
            "2022-07-21 06:53:59 [INFO ]  Test accuracy: 71.13\tmacro_fscore: 71.11\tmicro_fscore: 71.13\tTPR_GAP: 39.69\tFPR_GAP: 39.69\tPPR_GAP: 39.19\t\n",
            "2022-07-21 06:53:59 [INFO ]  Epoch:    6 [      0/  99998 ( 0%)]\tLoss: 0.3890\t Data Time: 0.01s\tTrain Time: 0.07s\n",
            "2022-07-21 06:54:03 [INFO ]  Epoch:    6 [  51200/  99998 (51%)]\tLoss: 0.3668\t Data Time: 0.44s\tTrain Time: 3.32s\n",
            "2022-07-21 06:54:07 [INFO ]  Epochs since last improvement: 5\n",
            "2022-07-21 06:54:07 [INFO ]  Evaluation at Epoch 6\n",
            "2022-07-21 06:54:07 [INFO ]  Validation accuracy: 71.96\tmacro_fscore: 71.92\tmicro_fscore: 71.96\tTPR_GAP: 37.52\tFPR_GAP: 37.52\tPPR_GAP: 36.82\t\n",
            "2022-07-21 06:54:07 [INFO ]  Test accuracy: 72.04\tmacro_fscore: 72.00\tmicro_fscore: 72.04\tTPR_GAP: 36.75\tFPR_GAP: 36.75\tPPR_GAP: 36.01\t\n"
          ]
        }
      ],
      "source": [
        "model.train_self()"
      ]
    },
    {
      "cell_type": "markdown",
      "metadata": {
        "id": "S5R16F_ro1mp"
      },
      "source": [
        "After each iteration, a subset of evaluation results over the validation set and test set will be logged, including metrics for both performance and fairness.\n",
        "\n",
        "It can be seen that the vanilla model achieves around 40\\% TPR GAP."
      ]
    },
    {
      "cell_type": "markdown",
      "metadata": {
        "id": "jImF3cBEg_t7"
      },
      "source": [
        "## 4. Improve Fairness\n",
        "\n",
        "To mitigate bias, we show an example of employing BTEO ([Han et al., 2021a](https://arxiv.org/abs/2109.08253)) and adversarial training ([Li et al., 2018](https://arxiv.org/abs/1805.06093)) simultaneously.\n"
      ]
    },
    {
      "cell_type": "markdown",
      "metadata": {
        "id": "m_f6oMDMpq0r"
      },
      "source": [
        "### Enable debiasing\n",
        "\n",
        "The only difference for debebiasing is to specify corresponding arguments, as shown in the following cell. Everything else are identical to the standard training.\n",
        "\n",
        "- A list of supported bias mitigation methods is shown [here](https://github.com/HanXudong/fairlib/blob/main/docs/supported_bias_mitigation_algorithms.md).\n",
        "- The [usage](https://hanxudong.github.io/fairlib/tutorial_usage.html) introduces further options associated with each debiasing method."
      ]
    },
    {
      "cell_type": "code",
      "execution_count": 10,
      "metadata": {
        "colab": {
          "base_uri": "https://localhost:8080/"
        },
        "id": "7piRv-qrpvdn",
        "outputId": "02b2a3d9-6fa6-4fb7-ac4c-6826971196f6"
      },
      "outputs": [
        {
          "name": "stdout",
          "output_type": "stream",
          "text": [
            "2022-07-21 06:54:07 [INFO ]  Unexpected args: ['-f', '/root/.local/share/jupyter/runtime/kernel-8eb44448-ab67-4429-be7a-d5fc3fe3b2ce.json']\n",
            "2022-07-21 06:54:07 [INFO ]  Logging to ./results/dev/Moji/BT_Adv/output.log\n",
            "2022-07-21 06:54:07 [INFO ]  ======================================== 2022-07-21 06:54:07 ========================================\n",
            "2022-07-21 06:54:07 [INFO ]  Base directory is ./results/dev/Moji/BT_Adv\n",
            "Loaded data shapes: (39996, 2304), (39996,), (39996,)\n",
            "Loaded data shapes: (8000, 2304), (8000,), (8000,)\n",
            "Loaded data shapes: (7998, 2304), (7998,), (7998,)\n",
            "2022-07-21 06:54:16 [INFO ]  SubDiscriminator( \n",
            "2022-07-21 06:54:16 [INFO ]    (grad_rev): GradientReversal()\n",
            "2022-07-21 06:54:16 [INFO ]    (output_layer): Linear(in_features=300, out_features=2, bias=True)\n",
            "2022-07-21 06:54:16 [INFO ]    (AF): ReLU()\n",
            "2022-07-21 06:54:16 [INFO ]    (hidden_layers): ModuleList(\n",
            "2022-07-21 06:54:16 [INFO ]      (0): Linear(in_features=300, out_features=300, bias=True)\n",
            "2022-07-21 06:54:16 [INFO ]      (1): ReLU()\n",
            "2022-07-21 06:54:16 [INFO ]      (2): Linear(in_features=300, out_features=300, bias=True)\n",
            "2022-07-21 06:54:16 [INFO ]      (3): ReLU()\n",
            "2022-07-21 06:54:16 [INFO ]    )\n",
            "2022-07-21 06:54:16 [INFO ]    (criterion): CrossEntropyLoss()\n",
            "2022-07-21 06:54:16 [INFO ]  )\n",
            "2022-07-21 06:54:16 [INFO ]  Total number of parameters: 181202 \n",
            "\n",
            "2022-07-21 06:54:16 [INFO ]  Discriminator built!\n",
            "2022-07-21 06:54:16 [INFO ]  MLP( \n",
            "2022-07-21 06:54:16 [INFO ]    (output_layer): Linear(in_features=300, out_features=2, bias=True)\n",
            "2022-07-21 06:54:16 [INFO ]    (AF): Tanh()\n",
            "2022-07-21 06:54:16 [INFO ]    (hidden_layers): ModuleList(\n",
            "2022-07-21 06:54:16 [INFO ]      (0): Linear(in_features=2304, out_features=300, bias=True)\n",
            "2022-07-21 06:54:16 [INFO ]      (1): Tanh()\n",
            "2022-07-21 06:54:16 [INFO ]      (2): Linear(in_features=300, out_features=300, bias=True)\n",
            "2022-07-21 06:54:16 [INFO ]      (3): Tanh()\n",
            "2022-07-21 06:54:16 [INFO ]    )\n",
            "2022-07-21 06:54:16 [INFO ]    (criterion): CrossEntropyLoss()\n",
            "2022-07-21 06:54:16 [INFO ]  )\n",
            "2022-07-21 06:54:16 [INFO ]  Total number of parameters: 782402 \n",
            "\n"
          ]
        }
      ],
      "source": [
        "debiasing_args = args.copy()\n",
        "\n",
        "# Update the experiment name\n",
        "debiasing_args[\"exp_id\"] = \"BT_Adv\"\n",
        "\n",
        "# Perform adversarial training if True\n",
        "debiasing_args[\"adv_debiasing\"] = True\n",
        "\n",
        "# Specify the hyperparameters for Balanced Training\n",
        "debiasing_args[\"BT\"] = \"Downsampling\"\n",
        "debiasing_args[\"BTObj\"] = \"EO\"\n",
        "\n",
        "debias_options = fairlib.BaseOptions()\n",
        "debias_state = debias_options.get_state(args=debiasing_args, silence=True)\n",
        "\n",
        "fairlib.utils.seed_everything(2022)\n",
        "\n",
        "debias_model = fairlib.networks.get_main_model(debias_state)"
      ]
    },
    {
      "cell_type": "markdown",
      "metadata": {
        "id": "sZESs_zIp4X1"
      },
      "source": [
        "It can be seen from the last cell that the training dataset size is smaller than before (40k verse 100k) due to the downsampling for balanced training, and an MLP adversary is initialized for adversarial debiasing."
      ]
    },
    {
      "cell_type": "markdown",
      "metadata": {
        "id": "dknbUzmjYMbm"
      },
      "source": [
        "### Mitigate bias"
      ]
    },
    {
      "cell_type": "code",
      "execution_count": 11,
      "metadata": {
        "colab": {
          "base_uri": "https://localhost:8080/"
        },
        "id": "Nnb8e-Zkp2Wd",
        "outputId": "713e3ae0-2dfe-47fb-b166-d347e7e44f18"
      },
      "outputs": [
        {
          "name": "stdout",
          "output_type": "stream",
          "text": [
            "2022-07-21 06:54:17 [INFO ]  Epoch:    0 [      0/  39996 ( 0%)]\tLoss: 0.0003\t Data Time: 0.02s\tTrain Time: 0.22s\n",
            "2022-07-21 06:54:25 [INFO ]  Evaluation at Epoch 0\n",
            "2022-07-21 06:54:26 [INFO ]  Validation accuracy: 73.72\tmacro_fscore: 73.08\tmicro_fscore: 73.72\tTPR_GAP: 19.20\tFPR_GAP: 19.20\tPPR_GAP: 16.80\t\n",
            "2022-07-21 06:54:26 [INFO ]  Test accuracy: 73.59\tmacro_fscore: 72.98\tmicro_fscore: 73.59\tTPR_GAP: 20.70\tFPR_GAP: 20.70\tPPR_GAP: 17.86\t\n",
            "2022-07-21 06:54:26 [INFO ]  Epoch:    1 [      0/  39996 ( 0%)]\tLoss: -0.1368\t Data Time: 0.01s\tTrain Time: 0.20s\n",
            "2022-07-21 06:54:34 [INFO ]  Epochs since last improvement: 1\n",
            "2022-07-21 06:54:34 [INFO ]  Evaluation at Epoch 1\n",
            "2022-07-21 06:54:35 [INFO ]  Validation accuracy: 68.96\tmacro_fscore: 67.36\tmicro_fscore: 68.96\tTPR_GAP: 10.57\tFPR_GAP: 10.57\tPPR_GAP: 4.67\t\n",
            "2022-07-21 06:54:35 [INFO ]  Test accuracy: 68.89\tmacro_fscore: 67.33\tmicro_fscore: 68.89\tTPR_GAP: 11.46\tFPR_GAP: 11.46\tPPR_GAP: 6.46\t\n",
            "2022-07-21 06:54:35 [INFO ]  Epoch:    2 [      0/  39996 ( 0%)]\tLoss: -0.1266\t Data Time: 0.01s\tTrain Time: 0.20s\n",
            "2022-07-21 06:54:43 [INFO ]  Evaluation at Epoch 2\n",
            "2022-07-21 06:54:44 [INFO ]  Validation accuracy: 74.94\tmacro_fscore: 74.68\tmicro_fscore: 74.94\tTPR_GAP: 14.13\tFPR_GAP: 14.13\tPPR_GAP: 11.37\t\n",
            "2022-07-21 06:54:44 [INFO ]  Test accuracy: 75.54\tmacro_fscore: 75.33\tmicro_fscore: 75.54\tTPR_GAP: 14.66\tFPR_GAP: 14.66\tPPR_GAP: 11.41\t\n",
            "2022-07-21 06:54:44 [INFO ]  Epoch:    3 [      0/  39996 ( 0%)]\tLoss: -0.1809\t Data Time: 0.01s\tTrain Time: 0.20s\n",
            "2022-07-21 06:54:52 [INFO ]  Evaluation at Epoch 3\n",
            "2022-07-21 06:54:53 [INFO ]  Validation accuracy: 74.99\tmacro_fscore: 74.98\tmicro_fscore: 74.99\tTPR_GAP: 12.09\tFPR_GAP: 12.09\tPPR_GAP: 8.67\t\n",
            "2022-07-21 06:54:53 [INFO ]  Test accuracy: 75.47\tmacro_fscore: 75.47\tmicro_fscore: 75.47\tTPR_GAP: 11.43\tFPR_GAP: 11.43\tPPR_GAP: 7.95\t\n",
            "2022-07-21 06:54:53 [INFO ]  Epoch:    4 [      0/  39996 ( 0%)]\tLoss: -0.1584\t Data Time: 0.01s\tTrain Time: 0.20s\n",
            "2022-07-21 06:55:01 [INFO ]  Evaluation at Epoch 4\n",
            "2022-07-21 06:55:02 [INFO ]  Validation accuracy: 75.36\tmacro_fscore: 75.34\tmicro_fscore: 75.36\tTPR_GAP: 12.23\tFPR_GAP: 12.23\tPPR_GAP: 9.27\t\n",
            "2022-07-21 06:55:02 [INFO ]  Test accuracy: 75.73\tmacro_fscore: 75.70\tmicro_fscore: 75.73\tTPR_GAP: 13.03\tFPR_GAP: 13.03\tPPR_GAP: 9.38\t\n",
            "2022-07-21 06:55:02 [INFO ]  Epoch:    5 [      0/  39996 ( 0%)]\tLoss: -0.1741\t Data Time: 0.02s\tTrain Time: 0.20s\n",
            "2022-07-21 06:55:10 [INFO ]  Epochs since last improvement: 1\n",
            "2022-07-21 06:55:10 [INFO ]  Evaluation at Epoch 5\n",
            "2022-07-21 06:55:11 [INFO ]  Validation accuracy: 75.22\tmacro_fscore: 75.15\tmicro_fscore: 75.22\tTPR_GAP: 10.86\tFPR_GAP: 10.86\tPPR_GAP: 6.30\t\n",
            "2022-07-21 06:55:11 [INFO ]  Test accuracy: 75.44\tmacro_fscore: 75.36\tmicro_fscore: 75.44\tTPR_GAP: 10.99\tFPR_GAP: 10.99\tPPR_GAP: 6.50\t\n",
            "2022-07-21 06:55:11 [INFO ]  Epoch:    6 [      0/  39996 ( 0%)]\tLoss: -0.2291\t Data Time: 0.01s\tTrain Time: 0.20s\n",
            "2022-07-21 06:55:19 [INFO ]  Epochs since last improvement: 2\n",
            "2022-07-21 06:55:19 [INFO ]  Evaluation at Epoch 6\n",
            "2022-07-21 06:55:20 [INFO ]  Validation accuracy: 74.94\tmacro_fscore: 74.93\tmicro_fscore: 74.94\tTPR_GAP: 9.14\tFPR_GAP: 9.14\tPPR_GAP: 1.42\t\n",
            "2022-07-21 06:55:20 [INFO ]  Test accuracy: 75.17\tmacro_fscore: 75.17\tmicro_fscore: 75.17\tTPR_GAP: 9.69\tFPR_GAP: 9.69\tPPR_GAP: 2.85\t\n",
            "2022-07-21 06:55:20 [INFO ]  Epoch:    7 [      0/  39996 ( 0%)]\tLoss: -0.1665\t Data Time: 0.01s\tTrain Time: 0.21s\n",
            "2022-07-21 06:55:28 [INFO ]  Epochs since last improvement: 3\n",
            "2022-07-21 06:55:28 [INFO ]  Evaluation at Epoch 7\n",
            "2022-07-21 06:55:29 [INFO ]  Validation accuracy: 74.98\tmacro_fscore: 74.97\tmicro_fscore: 74.98\tTPR_GAP: 9.40\tFPR_GAP: 9.40\tPPR_GAP: 5.25\t\n",
            "2022-07-21 06:55:29 [INFO ]  Test accuracy: 75.38\tmacro_fscore: 75.38\tmicro_fscore: 75.38\tTPR_GAP: 10.85\tFPR_GAP: 10.85\tPPR_GAP: 6.88\t\n",
            "2022-07-21 06:55:29 [INFO ]  Epoch:    8 [      0/  39996 ( 0%)]\tLoss: -0.2003\t Data Time: 0.01s\tTrain Time: 0.21s\n",
            "2022-07-21 06:55:37 [INFO ]  Epochs since last improvement: 4\n",
            "2022-07-21 06:55:37 [INFO ]  Evaluation at Epoch 8\n",
            "2022-07-21 06:55:38 [INFO ]  Validation accuracy: 74.04\tmacro_fscore: 73.54\tmicro_fscore: 74.04\tTPR_GAP: 10.18\tFPR_GAP: 10.18\tPPR_GAP: 6.12\t\n",
            "2022-07-21 06:55:38 [INFO ]  Test accuracy: 74.22\tmacro_fscore: 73.75\tmicro_fscore: 74.22\tTPR_GAP: 10.17\tFPR_GAP: 10.17\tPPR_GAP: 6.96\t\n",
            "2022-07-21 06:55:38 [INFO ]  Epoch:    9 [      0/  39996 ( 0%)]\tLoss: -0.2118\t Data Time: 0.01s\tTrain Time: 0.21s\n",
            "2022-07-21 06:55:46 [INFO ]  Epochs since last improvement: 5\n",
            "2022-07-21 06:55:46 [INFO ]  Evaluation at Epoch 9\n",
            "2022-07-21 06:55:47 [INFO ]  Validation accuracy: 73.14\tmacro_fscore: 72.87\tmicro_fscore: 73.14\tTPR_GAP: 9.11\tFPR_GAP: 9.11\tPPR_GAP: 5.97\t\n",
            "2022-07-21 06:55:47 [INFO ]  Test accuracy: 73.36\tmacro_fscore: 73.14\tmicro_fscore: 73.36\tTPR_GAP: 8.46\tFPR_GAP: 8.46\tPPR_GAP: 6.07\t\n"
          ]
        }
      ],
      "source": [
        "debias_model.train_self()"
      ]
    },
    {
      "cell_type": "markdown",
      "metadata": {
        "id": "MgPMs5Eog_rP"
      },
      "source": [
        "## 5. Analyze the results\n",
        "\n"
      ]
    },
    {
      "cell_type": "code",
      "execution_count": 12,
      "metadata": {
        "id": "5HTIeDVis-sv"
      },
      "outputs": [],
      "source": [
        "from fairlib import analysis"
      ]
    },
    {
      "cell_type": "markdown",
      "metadata": {
        "id": "NTdX9jSPqupy"
      },
      "source": [
        "Here we define a list of hyperparameters that will be repeatedly used for analysis."
      ]
    },
    {
      "cell_type": "code",
      "execution_count": 13,
      "metadata": {
        "id": "Xc-XQvX5pHlX"
      },
      "outputs": [],
      "source": [
        "Shared_options = {\n",
        "    # Random seed\n",
        "    \"seed\": 2022,\n",
        "    \n",
        "    # The name of the dataset, corresponding dataloader will be used,\n",
        "    \"dataset\":  \"Moji\",\n",
        "\n",
        "    # Specifiy the path to the input data\n",
        "    \"data_dir\": \"data/deepmoji\",\n",
        "\n",
        "    # Device for computing, -1 is the cpu; non-negative numbers indicate GPU id.\n",
        "    \"device_id\":    -1,\n",
        "\n",
        "    # The default path for saving experimental results\n",
        "    \"results_dir\":  \"results\",\n",
        "\n",
        "    # Will be used for saving experimental results\n",
        "    \"project_dir\":  \"dev\",\n",
        "\n",
        "    # We will focusing on TPR GAP, implying the Equalized Odds for binary classification.\n",
        "    \"GAP_metric_name\":  \"TPR_GAP\",\n",
        "\n",
        "    # The overall performance will be measured as accuracy\n",
        "    \"Performance_metric_name\":  \"accuracy\",\n",
        "\n",
        "    # Model selections are based on distance to optimum, see section 4 in our paper for more details\n",
        "    \"selection_criterion\":  \"DTO\",\n",
        "\n",
        "    # Default dirs for saving checkpoints\n",
        "    \"checkpoint_dir\":   \"models\",\n",
        "    \"checkpoint_name\":  \"checkpoint_epoch\",\n",
        "\n",
        "    # Loading experimental results\n",
        "    \"n_jobs\":   1,\n",
        "    \n",
        "}"
      ]
    },
    {
      "cell_type": "markdown",
      "metadata": {
        "id": "mNgGp2iqs3-L"
      },
      "source": [
        "### Epoch Selection\n",
        "\n",
        "Here we demostrate the usage of DTO for epoch selection (i.e., post-hoc early stopping).\n",
        "`model_selection` retrieves experimental results for a single method, selects the desired **epoch** for each run, and saves the resulting df for a later process."
      ]
    },
    {
      "cell_type": "code",
      "execution_count": 14,
      "metadata": {
        "colab": {
          "base_uri": "https://localhost:8080/",
          "height": 164
        },
        "id": "-mhA0ChmtBim",
        "outputId": "2154288d-5bff-46eb-8241-f7cf06f6de8f"
      },
      "outputs": [
        {
          "name": "stderr",
          "output_type": "stream",
          "text": [
            "[Parallel(n_jobs=1)]: Using backend SequentialBackend with 1 concurrent workers.\n",
            "[Parallel(n_jobs=1)]: Done   1 out of   1 | elapsed:    0.3s remaining:    0.0s\n",
            "[Parallel(n_jobs=1)]: Done   1 out of   1 | elapsed:    0.3s finished\n"
          ]
        },
        {
          "data": {
            "text/html": [
              "\n",
              "  <div id=\"df-c40046f9-240d-43b7-a414-a7a4b61b37e6\">\n",
              "    <div class=\"colab-df-container\">\n",
              "      <div>\n",
              "<style scoped>\n",
              "    .dataframe tbody tr th:only-of-type {\n",
              "        vertical-align: middle;\n",
              "    }\n",
              "\n",
              "    .dataframe tbody tr th {\n",
              "        vertical-align: top;\n",
              "    }\n",
              "\n",
              "    .dataframe thead th {\n",
              "        text-align: right;\n",
              "    }\n",
              "</style>\n",
              "<table border=\"1\" class=\"dataframe\">\n",
              "  <thead>\n",
              "    <tr style=\"text-align: right;\">\n",
              "      <th></th>\n",
              "      <th></th>\n",
              "      <th></th>\n",
              "      <th>epoch</th>\n",
              "      <th>dev_DTO</th>\n",
              "      <th>test_DTO</th>\n",
              "      <th>dev_performance</th>\n",
              "      <th>dev_fairness</th>\n",
              "      <th>test_performance</th>\n",
              "      <th>test_fairness</th>\n",
              "      <th>opt_dir</th>\n",
              "    </tr>\n",
              "    <tr>\n",
              "      <th>BT</th>\n",
              "      <th>BTObj</th>\n",
              "      <th>adv_debiasing</th>\n",
              "      <th></th>\n",
              "      <th></th>\n",
              "      <th></th>\n",
              "      <th></th>\n",
              "      <th></th>\n",
              "      <th></th>\n",
              "      <th></th>\n",
              "      <th></th>\n",
              "    </tr>\n",
              "  </thead>\n",
              "  <tbody>\n",
              "    <tr>\n",
              "      <th>NaN</th>\n",
              "      <th>NaN</th>\n",
              "      <th>False</th>\n",
              "      <td>1</td>\n",
              "      <td>0.001907</td>\n",
              "      <td>0.0</td>\n",
              "      <td>0.719625</td>\n",
              "      <td>0.624825</td>\n",
              "      <td>0.72043</td>\n",
              "      <td>0.632535</td>\n",
              "      <td>results/dev/Moji/vanilla/opt.yaml</td>\n",
              "    </tr>\n",
              "  </tbody>\n",
              "</table>\n",
              "</div>\n",
              "      <button class=\"colab-df-convert\" onclick=\"convertToInteractive('df-c40046f9-240d-43b7-a414-a7a4b61b37e6')\"\n",
              "              title=\"Convert this dataframe to an interactive table.\"\n",
              "              style=\"display:none;\">\n",
              "        \n",
              "  <svg xmlns=\"http://www.w3.org/2000/svg\" height=\"24px\"viewBox=\"0 0 24 24\"\n",
              "       width=\"24px\">\n",
              "    <path d=\"M0 0h24v24H0V0z\" fill=\"none\"/>\n",
              "    <path d=\"M18.56 5.44l.94 2.06.94-2.06 2.06-.94-2.06-.94-.94-2.06-.94 2.06-2.06.94zm-11 1L8.5 8.5l.94-2.06 2.06-.94-2.06-.94L8.5 2.5l-.94 2.06-2.06.94zm10 10l.94 2.06.94-2.06 2.06-.94-2.06-.94-.94-2.06-.94 2.06-2.06.94z\"/><path d=\"M17.41 7.96l-1.37-1.37c-.4-.4-.92-.59-1.43-.59-.52 0-1.04.2-1.43.59L10.3 9.45l-7.72 7.72c-.78.78-.78 2.05 0 2.83L4 21.41c.39.39.9.59 1.41.59.51 0 1.02-.2 1.41-.59l7.78-7.78 2.81-2.81c.8-.78.8-2.07 0-2.86zM5.41 20L4 18.59l7.72-7.72 1.47 1.35L5.41 20z\"/>\n",
              "  </svg>\n",
              "      </button>\n",
              "      \n",
              "  <style>\n",
              "    .colab-df-container {\n",
              "      display:flex;\n",
              "      flex-wrap:wrap;\n",
              "      gap: 12px;\n",
              "    }\n",
              "\n",
              "    .colab-df-convert {\n",
              "      background-color: #E8F0FE;\n",
              "      border: none;\n",
              "      border-radius: 50%;\n",
              "      cursor: pointer;\n",
              "      display: none;\n",
              "      fill: #1967D2;\n",
              "      height: 32px;\n",
              "      padding: 0 0 0 0;\n",
              "      width: 32px;\n",
              "    }\n",
              "\n",
              "    .colab-df-convert:hover {\n",
              "      background-color: #E2EBFA;\n",
              "      box-shadow: 0px 1px 2px rgba(60, 64, 67, 0.3), 0px 1px 3px 1px rgba(60, 64, 67, 0.15);\n",
              "      fill: #174EA6;\n",
              "    }\n",
              "\n",
              "    [theme=dark] .colab-df-convert {\n",
              "      background-color: #3B4455;\n",
              "      fill: #D2E3FC;\n",
              "    }\n",
              "\n",
              "    [theme=dark] .colab-df-convert:hover {\n",
              "      background-color: #434B5C;\n",
              "      box-shadow: 0px 1px 3px 1px rgba(0, 0, 0, 0.15);\n",
              "      filter: drop-shadow(0px 1px 2px rgba(0, 0, 0, 0.3));\n",
              "      fill: #FFFFFF;\n",
              "    }\n",
              "  </style>\n",
              "\n",
              "      <script>\n",
              "        const buttonEl =\n",
              "          document.querySelector('#df-c40046f9-240d-43b7-a414-a7a4b61b37e6 button.colab-df-convert');\n",
              "        buttonEl.style.display =\n",
              "          google.colab.kernel.accessAllowed ? 'block' : 'none';\n",
              "\n",
              "        async function convertToInteractive(key) {\n",
              "          const element = document.querySelector('#df-c40046f9-240d-43b7-a414-a7a4b61b37e6');\n",
              "          const dataTable =\n",
              "            await google.colab.kernel.invokeFunction('convertToInteractive',\n",
              "                                                     [key], {});\n",
              "          if (!dataTable) return;\n",
              "\n",
              "          const docLinkHtml = 'Like what you see? Visit the ' +\n",
              "            '<a target=\"_blank\" href=https://colab.research.google.com/notebooks/data_table.ipynb>data table notebook</a>'\n",
              "            + ' to learn more about interactive tables.';\n",
              "          element.innerHTML = '';\n",
              "          dataTable['output_type'] = 'display_data';\n",
              "          await google.colab.output.renderOutput(dataTable, element);\n",
              "          const docLink = document.createElement('div');\n",
              "          docLink.innerHTML = docLinkHtml;\n",
              "          element.appendChild(docLink);\n",
              "        }\n",
              "      </script>\n",
              "    </div>\n",
              "  </div>\n",
              "  "
            ],
            "text/plain": [
              "                         epoch   dev_DTO  test_DTO  dev_performance  \\\n",
              "BT  BTObj adv_debiasing                                               \n",
              "NaN NaN   False              1  0.001907       0.0         0.719625   \n",
              "\n",
              "                         dev_fairness  test_performance  test_fairness  \\\n",
              "BT  BTObj adv_debiasing                                                  \n",
              "NaN NaN   False              0.624825           0.72043       0.632535   \n",
              "\n",
              "                                                   opt_dir  \n",
              "BT  BTObj adv_debiasing                                     \n",
              "NaN NaN   False          results/dev/Moji/vanilla/opt.yaml  "
            ]
          },
          "execution_count": 14,
          "metadata": {},
          "output_type": "execute_result"
        }
      ],
      "source": [
        "analysis.model_selection(\n",
        "    # exp_id started with model_id will be treated as the same method, e.g, vanilla, and adv\n",
        "    model_id= (\"vanilla\"),\n",
        "\n",
        "    # the tuned hyperparameters of a methods, which will be used to group multiple runs together.\n",
        "    index_column_names = [\"BT\", \"BTObj\", \"adv_debiasing\"],\n",
        "\n",
        "    # to convenient the further analysis, we will store the resulting DataFrame to the specified path\n",
        "    save_path = r\"results/Vanilla_df.pkl\",\n",
        "\n",
        "    # Follwoing options are predefined\n",
        "    results_dir= Shared_options[\"results_dir\"],\n",
        "    project_dir= Shared_options[\"project_dir\"]+\"/\"+Shared_options[\"dataset\"],\n",
        "    GAP_metric_name = Shared_options[\"GAP_metric_name\"],\n",
        "    Performance_metric_name = Shared_options[\"Performance_metric_name\"],\n",
        "    # We use DTO for epoch selection\n",
        "    selection_criterion = Shared_options[\"selection_criterion\"],\n",
        "    checkpoint_dir= Shared_options[\"checkpoint_dir\"],\n",
        "    checkpoint_name= Shared_options[\"checkpoint_name\"],\n",
        "    # If retrive results in parallel\n",
        "    n_jobs=Shared_options[\"n_jobs\"],\n",
        ")"
      ]
    },
    {
      "cell_type": "code",
      "execution_count": 15,
      "metadata": {
        "colab": {
          "base_uri": "https://localhost:8080/",
          "height": 208
        },
        "id": "12sYM9BWtL0v",
        "outputId": "cb4562f9-4a19-44b3-caa6-5eecd25c8478"
      },
      "outputs": [
        {
          "name": "stderr",
          "output_type": "stream",
          "text": [
            "[Parallel(n_jobs=1)]: Using backend SequentialBackend with 1 concurrent workers.\n",
            "[Parallel(n_jobs=1)]: Done   1 out of   1 | elapsed:    0.5s remaining:    0.0s\n",
            "[Parallel(n_jobs=1)]: Done   1 out of   1 | elapsed:    0.5s finished\n"
          ]
        },
        {
          "data": {
            "text/html": [
              "\n",
              "  <div id=\"df-4c39c40d-c13c-4077-b6eb-5060c8ef512a\">\n",
              "    <div class=\"colab-df-container\">\n",
              "      <div>\n",
              "<style scoped>\n",
              "    .dataframe tbody tr th:only-of-type {\n",
              "        vertical-align: middle;\n",
              "    }\n",
              "\n",
              "    .dataframe tbody tr th {\n",
              "        vertical-align: top;\n",
              "    }\n",
              "\n",
              "    .dataframe thead th {\n",
              "        text-align: right;\n",
              "    }\n",
              "</style>\n",
              "<table border=\"1\" class=\"dataframe\">\n",
              "  <thead>\n",
              "    <tr style=\"text-align: right;\">\n",
              "      <th></th>\n",
              "      <th></th>\n",
              "      <th></th>\n",
              "      <th>epoch</th>\n",
              "      <th>dev_DTO</th>\n",
              "      <th>test_DTO</th>\n",
              "      <th>dev_performance</th>\n",
              "      <th>dev_fairness</th>\n",
              "      <th>test_performance</th>\n",
              "      <th>test_fairness</th>\n",
              "      <th>opt_dir</th>\n",
              "    </tr>\n",
              "    <tr>\n",
              "      <th>BT</th>\n",
              "      <th>BTObj</th>\n",
              "      <th>adv_debiasing</th>\n",
              "      <th></th>\n",
              "      <th></th>\n",
              "      <th></th>\n",
              "      <th></th>\n",
              "      <th></th>\n",
              "      <th></th>\n",
              "      <th></th>\n",
              "      <th></th>\n",
              "    </tr>\n",
              "  </thead>\n",
              "  <tbody>\n",
              "    <tr>\n",
              "      <th>Downsampling</th>\n",
              "      <th>EO</th>\n",
              "      <th>True</th>\n",
              "      <td>1</td>\n",
              "      <td>0.005648</td>\n",
              "      <td>0.015392</td>\n",
              "      <td>0.749375</td>\n",
              "      <td>0.908632</td>\n",
              "      <td>0.751688</td>\n",
              "      <td>0.903068</td>\n",
              "      <td>results/dev/Moji/BT_Adv/opt.yaml</td>\n",
              "    </tr>\n",
              "  </tbody>\n",
              "</table>\n",
              "</div>\n",
              "      <button class=\"colab-df-convert\" onclick=\"convertToInteractive('df-4c39c40d-c13c-4077-b6eb-5060c8ef512a')\"\n",
              "              title=\"Convert this dataframe to an interactive table.\"\n",
              "              style=\"display:none;\">\n",
              "        \n",
              "  <svg xmlns=\"http://www.w3.org/2000/svg\" height=\"24px\"viewBox=\"0 0 24 24\"\n",
              "       width=\"24px\">\n",
              "    <path d=\"M0 0h24v24H0V0z\" fill=\"none\"/>\n",
              "    <path d=\"M18.56 5.44l.94 2.06.94-2.06 2.06-.94-2.06-.94-.94-2.06-.94 2.06-2.06.94zm-11 1L8.5 8.5l.94-2.06 2.06-.94-2.06-.94L8.5 2.5l-.94 2.06-2.06.94zm10 10l.94 2.06.94-2.06 2.06-.94-2.06-.94-.94-2.06-.94 2.06-2.06.94z\"/><path d=\"M17.41 7.96l-1.37-1.37c-.4-.4-.92-.59-1.43-.59-.52 0-1.04.2-1.43.59L10.3 9.45l-7.72 7.72c-.78.78-.78 2.05 0 2.83L4 21.41c.39.39.9.59 1.41.59.51 0 1.02-.2 1.41-.59l7.78-7.78 2.81-2.81c.8-.78.8-2.07 0-2.86zM5.41 20L4 18.59l7.72-7.72 1.47 1.35L5.41 20z\"/>\n",
              "  </svg>\n",
              "      </button>\n",
              "      \n",
              "  <style>\n",
              "    .colab-df-container {\n",
              "      display:flex;\n",
              "      flex-wrap:wrap;\n",
              "      gap: 12px;\n",
              "    }\n",
              "\n",
              "    .colab-df-convert {\n",
              "      background-color: #E8F0FE;\n",
              "      border: none;\n",
              "      border-radius: 50%;\n",
              "      cursor: pointer;\n",
              "      display: none;\n",
              "      fill: #1967D2;\n",
              "      height: 32px;\n",
              "      padding: 0 0 0 0;\n",
              "      width: 32px;\n",
              "    }\n",
              "\n",
              "    .colab-df-convert:hover {\n",
              "      background-color: #E2EBFA;\n",
              "      box-shadow: 0px 1px 2px rgba(60, 64, 67, 0.3), 0px 1px 3px 1px rgba(60, 64, 67, 0.15);\n",
              "      fill: #174EA6;\n",
              "    }\n",
              "\n",
              "    [theme=dark] .colab-df-convert {\n",
              "      background-color: #3B4455;\n",
              "      fill: #D2E3FC;\n",
              "    }\n",
              "\n",
              "    [theme=dark] .colab-df-convert:hover {\n",
              "      background-color: #434B5C;\n",
              "      box-shadow: 0px 1px 3px 1px rgba(0, 0, 0, 0.15);\n",
              "      filter: drop-shadow(0px 1px 2px rgba(0, 0, 0, 0.3));\n",
              "      fill: #FFFFFF;\n",
              "    }\n",
              "  </style>\n",
              "\n",
              "      <script>\n",
              "        const buttonEl =\n",
              "          document.querySelector('#df-4c39c40d-c13c-4077-b6eb-5060c8ef512a button.colab-df-convert');\n",
              "        buttonEl.style.display =\n",
              "          google.colab.kernel.accessAllowed ? 'block' : 'none';\n",
              "\n",
              "        async function convertToInteractive(key) {\n",
              "          const element = document.querySelector('#df-4c39c40d-c13c-4077-b6eb-5060c8ef512a');\n",
              "          const dataTable =\n",
              "            await google.colab.kernel.invokeFunction('convertToInteractive',\n",
              "                                                     [key], {});\n",
              "          if (!dataTable) return;\n",
              "\n",
              "          const docLinkHtml = 'Like what you see? Visit the ' +\n",
              "            '<a target=\"_blank\" href=https://colab.research.google.com/notebooks/data_table.ipynb>data table notebook</a>'\n",
              "            + ' to learn more about interactive tables.';\n",
              "          element.innerHTML = '';\n",
              "          dataTable['output_type'] = 'display_data';\n",
              "          await google.colab.output.renderOutput(dataTable, element);\n",
              "          const docLink = document.createElement('div');\n",
              "          docLink.innerHTML = docLinkHtml;\n",
              "          element.appendChild(docLink);\n",
              "        }\n",
              "      </script>\n",
              "    </div>\n",
              "  </div>\n",
              "  "
            ],
            "text/plain": [
              "                                  epoch   dev_DTO  test_DTO  dev_performance  \\\n",
              "BT           BTObj adv_debiasing                                               \n",
              "Downsampling EO    True               1  0.005648  0.015392         0.749375   \n",
              "\n",
              "                                  dev_fairness  test_performance  \\\n",
              "BT           BTObj adv_debiasing                                   \n",
              "Downsampling EO    True               0.908632          0.751688   \n",
              "\n",
              "                                  test_fairness  \\\n",
              "BT           BTObj adv_debiasing                  \n",
              "Downsampling EO    True                0.903068   \n",
              "\n",
              "                                                           opt_dir  \n",
              "BT           BTObj adv_debiasing                                    \n",
              "Downsampling EO    True           results/dev/Moji/BT_Adv/opt.yaml  "
            ]
          },
          "execution_count": 15,
          "metadata": {},
          "output_type": "execute_result"
        }
      ],
      "source": [
        "analysis.model_selection(\n",
        "    model_id= (\"BT_Adv\"),\n",
        "    index_column_names = [\"BT\", \"BTObj\", \"adv_debiasing\"],\n",
        "    save_path = r\"results/BT_ADV_df.pkl\",\n",
        "    # Follwoing options are predefined\n",
        "    results_dir= Shared_options[\"results_dir\"],\n",
        "    project_dir= Shared_options[\"project_dir\"]+\"/\"+Shared_options[\"dataset\"],\n",
        "    GAP_metric_name = Shared_options[\"GAP_metric_name\"],\n",
        "    Performance_metric_name = Shared_options[\"Performance_metric_name\"],\n",
        "    selection_criterion = Shared_options[\"selection_criterion\"],\n",
        "    checkpoint_dir= Shared_options[\"checkpoint_dir\"],\n",
        "    checkpoint_name= Shared_options[\"checkpoint_name\"],\n",
        "    n_jobs=Shared_options[\"n_jobs\"],\n",
        ")"
      ]
    },
    {
      "cell_type": "markdown",
      "metadata": {
        "id": "ZV-5OmfctX7b"
      },
      "source": [
        "We have preprocessed the results with the `model_selection` function, and the resulting dfs can be downloaded as follows:"
      ]
    },
    {
      "cell_type": "code",
      "execution_count": 16,
      "metadata": {
        "colab": {
          "base_uri": "https://localhost:8080/"
        },
        "id": "7Fh7VqwwtV31",
        "outputId": "e8f87948-8249-4bef-fe5b-2369d2a01720"
      },
      "outputs": [
        {
          "name": "stdout",
          "output_type": "stream",
          "text": [
            "--2022-07-21 06:55:48--  https://docs.google.com/uc?export=download&id=1M0G6PyPuDC8Y_2nL9XKYCt10IUzbSvfl\n",
            "Resolving docs.google.com (docs.google.com)... 108.177.97.138, 108.177.97.102, 108.177.97.100, ...\n",
            "Connecting to docs.google.com (docs.google.com)|108.177.97.138|:443... connected.\n",
            "HTTP request sent, awaiting response... 303 See Other\n",
            "Location: https://doc-0g-0k-docs.googleusercontent.com/docs/securesc/ha0ro937gcuc7l7deffksulhg5h7mbp1/d9ah1be1dhjtrm0rinvfdje85fkvmrdh/1658386500000/17527887236587461918/*/1M0G6PyPuDC8Y_2nL9XKYCt10IUzbSvfl?e=download&uuid=2bc658ea-acf2-4d5e-8ae5-920657110366 [following]\n",
            "Warning: wildcards not supported in HTTP.\n",
            "--2022-07-21 06:55:51--  https://doc-0g-0k-docs.googleusercontent.com/docs/securesc/ha0ro937gcuc7l7deffksulhg5h7mbp1/d9ah1be1dhjtrm0rinvfdje85fkvmrdh/1658386500000/17527887236587461918/*/1M0G6PyPuDC8Y_2nL9XKYCt10IUzbSvfl?e=download&uuid=2bc658ea-acf2-4d5e-8ae5-920657110366\n",
            "Resolving doc-0g-0k-docs.googleusercontent.com (doc-0g-0k-docs.googleusercontent.com)... 74.125.204.132, 2404:6800:4008:c04::84\n",
            "Connecting to doc-0g-0k-docs.googleusercontent.com (doc-0g-0k-docs.googleusercontent.com)|74.125.204.132|:443... connected.\n",
            "HTTP request sent, awaiting response... 200 OK\n",
            "Length: 790461 (772K) [application/x-gzip]\n",
            "Saving to: ‘retrived_results.tar.gz’\n",
            "\n",
            "retrived_results.ta 100%[===================>] 771.93K  --.-KB/s    in 0.006s  \n",
            "\n",
            "2022-07-21 06:55:51 (129 MB/s) - ‘retrived_results.tar.gz’ saved [790461/790461]\n",
            "\n"
          ]
        }
      ],
      "source": [
        "!wget --no-check-certificate 'https://docs.google.com/uc?export=download&id=1M0G6PyPuDC8Y_2nL9XKYCt10IUzbSvfl' -O retrived_results.tar.gz"
      ]
    },
    {
      "cell_type": "code",
      "execution_count": 17,
      "metadata": {
        "id": "GuyvpVFHtdaK"
      },
      "outputs": [],
      "source": [
        "!tar -xf retrived_results.tar.gz"
      ]
    },
    {
      "cell_type": "markdown",
      "metadata": {
        "id": "2USKrUhvtj1f"
      },
      "source": [
        "### Model Selection\n",
        "\n",
        "Here we demonstrate the application of `final_results_df`, which loads cached results with `retrive_results` for all methods, select the best hyperparameter combinations for each technique, and present the result in a DataFrame"
      ]
    },
    {
      "cell_type": "code",
      "execution_count": 18,
      "metadata": {
        "id": "_TqSF5Axtnpe"
      },
      "outputs": [],
      "source": [
        "Moji_results = analysis.retrive_results(\"Moji\", log_dir=\"analysis/results\")"
      ]
    },
    {
      "cell_type": "code",
      "execution_count": 19,
      "metadata": {
        "colab": {
          "base_uri": "https://localhost:8080/",
          "height": 1000
        },
        "id": "IPCPFhLvtniq",
        "outputId": "087bf2ef-07a3-4f90-efee-ab082cc07910"
      },
      "outputs": [
        {
          "data": {
            "text/html": [
              "\n",
              "  <div id=\"df-2a5c685c-02c6-40b9-8b06-374cb782d5d9\">\n",
              "    <div class=\"colab-df-container\">\n",
              "      <div>\n",
              "<style scoped>\n",
              "    .dataframe tbody tr th:only-of-type {\n",
              "        vertical-align: middle;\n",
              "    }\n",
              "\n",
              "    .dataframe tbody tr th {\n",
              "        vertical-align: top;\n",
              "    }\n",
              "\n",
              "    .dataframe thead th {\n",
              "        text-align: right;\n",
              "    }\n",
              "</style>\n",
              "<table border=\"1\" class=\"dataframe\">\n",
              "  <thead>\n",
              "    <tr style=\"text-align: right;\">\n",
              "      <th></th>\n",
              "      <th>Models</th>\n",
              "      <th>test_performance mean</th>\n",
              "      <th>test_performance std</th>\n",
              "      <th>test_fairness mean</th>\n",
              "      <th>test_fairness std</th>\n",
              "      <th>dev_performance mean</th>\n",
              "      <th>dev_performance std</th>\n",
              "      <th>dev_fairness mean</th>\n",
              "      <th>dev_fairness std</th>\n",
              "      <th>DTO</th>\n",
              "      <th>epoch list</th>\n",
              "      <th>opt_dir list</th>\n",
              "      <th>is_pareto</th>\n",
              "    </tr>\n",
              "  </thead>\n",
              "  <tbody>\n",
              "    <tr>\n",
              "      <th>0</th>\n",
              "      <td>GDEO</td>\n",
              "      <td>0.752763</td>\n",
              "      <td>0.004999</td>\n",
              "      <td>0.892255</td>\n",
              "      <td>0.007860</td>\n",
              "      <td>0.749350</td>\n",
              "      <td>0.003494</td>\n",
              "      <td>0.912672</td>\n",
              "      <td>0.002766</td>\n",
              "      <td>0.269694</td>\n",
              "      <td>[2, 12, 5, 9, 10]</td>\n",
              "      <td>[G:\\Experimental_results\\GroupDifference\\Moji\\...</td>\n",
              "      <td>True</td>\n",
              "    </tr>\n",
              "    <tr>\n",
              "      <th>1</th>\n",
              "      <td>BTFairBatch</td>\n",
              "      <td>0.746837</td>\n",
              "      <td>0.003407</td>\n",
              "      <td>0.899351</td>\n",
              "      <td>0.004936</td>\n",
              "      <td>0.743975</td>\n",
              "      <td>0.004236</td>\n",
              "      <td>0.919254</td>\n",
              "      <td>0.004731</td>\n",
              "      <td>0.272437</td>\n",
              "      <td>[8, 6, 9, 5, 7]</td>\n",
              "      <td>[G:\\Experimental_results\\FairBatch\\Moji\\BTInit...</td>\n",
              "      <td>False</td>\n",
              "    </tr>\n",
              "    <tr>\n",
              "      <th>2</th>\n",
              "      <td>Vanilla</td>\n",
              "      <td>0.722981</td>\n",
              "      <td>0.004576</td>\n",
              "      <td>0.611870</td>\n",
              "      <td>0.014356</td>\n",
              "      <td>0.726650</td>\n",
              "      <td>0.003673</td>\n",
              "      <td>0.632302</td>\n",
              "      <td>0.013370</td>\n",
              "      <td>0.476849</td>\n",
              "      <td>[2, 11, 2, 5, 2]</td>\n",
              "      <td>[G:\\Experimental_results\\vanilla\\Moji\\0\\opt.ya...</td>\n",
              "      <td>True</td>\n",
              "    </tr>\n",
              "    <tr>\n",
              "      <th>3</th>\n",
              "      <td>BTEO</td>\n",
              "      <td>0.753927</td>\n",
              "      <td>0.001433</td>\n",
              "      <td>0.877469</td>\n",
              "      <td>0.003756</td>\n",
              "      <td>0.746325</td>\n",
              "      <td>0.000998</td>\n",
              "      <td>0.896874</td>\n",
              "      <td>0.005401</td>\n",
              "      <td>0.274892</td>\n",
              "      <td>[8, 6, 9, 4, 5]</td>\n",
              "      <td>[G:\\Experimental_results\\GatedBT\\Moji\\GatedBT_...</td>\n",
              "      <td>True</td>\n",
              "    </tr>\n",
              "    <tr>\n",
              "      <th>4</th>\n",
              "      <td>GatedDAdv</td>\n",
              "      <td>0.750163</td>\n",
              "      <td>0.006945</td>\n",
              "      <td>0.908679</td>\n",
              "      <td>0.021678</td>\n",
              "      <td>0.745600</td>\n",
              "      <td>0.004828</td>\n",
              "      <td>0.928670</td>\n",
              "      <td>0.022488</td>\n",
              "      <td>0.266004</td>\n",
              "      <td>[24, 13, 19, 4, 3]</td>\n",
              "      <td>[G:\\Experimental_results\\hypertune3\\Moji\\hyper...</td>\n",
              "      <td>False</td>\n",
              "    </tr>\n",
              "    <tr>\n",
              "      <th>5</th>\n",
              "      <td>FairBatch</td>\n",
              "      <td>0.751488</td>\n",
              "      <td>0.005772</td>\n",
              "      <td>0.904373</td>\n",
              "      <td>0.008213</td>\n",
              "      <td>0.746050</td>\n",
              "      <td>0.003896</td>\n",
              "      <td>0.914526</td>\n",
              "      <td>0.006020</td>\n",
              "      <td>0.266276</td>\n",
              "      <td>[9, 9, 6, 6, 5]</td>\n",
              "      <td>[G:\\Experimental_results\\FairBatch\\Moji\\FairBa...</td>\n",
              "      <td>True</td>\n",
              "    </tr>\n",
              "    <tr>\n",
              "      <th>6</th>\n",
              "      <td>GatedAdv</td>\n",
              "      <td>0.753113</td>\n",
              "      <td>0.005196</td>\n",
              "      <td>0.890065</td>\n",
              "      <td>0.013302</td>\n",
              "      <td>0.748975</td>\n",
              "      <td>0.003805</td>\n",
              "      <td>0.910838</td>\n",
              "      <td>0.010314</td>\n",
              "      <td>0.270257</td>\n",
              "      <td>[11, 4, 4, 13, 12]</td>\n",
              "      <td>[G:\\Experimental_results\\hypertune2\\Moji\\hyper...</td>\n",
              "      <td>False</td>\n",
              "    </tr>\n",
              "    <tr>\n",
              "      <th>7</th>\n",
              "      <td>DelayedCLS_Adv</td>\n",
              "      <td>0.761015</td>\n",
              "      <td>0.003081</td>\n",
              "      <td>0.882425</td>\n",
              "      <td>0.015918</td>\n",
              "      <td>0.751675</td>\n",
              "      <td>0.003481</td>\n",
              "      <td>0.899346</td>\n",
              "      <td>0.011417</td>\n",
              "      <td>0.266341</td>\n",
              "      <td>[13, 1, 3, 13, 1]</td>\n",
              "      <td>[/data/cephfs/punim1421/Fair_NLP_Classificatio...</td>\n",
              "      <td>True</td>\n",
              "    </tr>\n",
              "    <tr>\n",
              "      <th>8</th>\n",
              "      <td>GDMean</td>\n",
              "      <td>0.752163</td>\n",
              "      <td>0.002130</td>\n",
              "      <td>0.901389</td>\n",
              "      <td>0.003916</td>\n",
              "      <td>0.749050</td>\n",
              "      <td>0.001368</td>\n",
              "      <td>0.922430</td>\n",
              "      <td>0.005829</td>\n",
              "      <td>0.266735</td>\n",
              "      <td>[11, 12, 7, 2, 2]</td>\n",
              "      <td>[G:\\Experimental_results\\GroupDifference\\Moji\\...</td>\n",
              "      <td>True</td>\n",
              "    </tr>\n",
              "    <tr>\n",
              "      <th>9</th>\n",
              "      <td>GatedBTEO</td>\n",
              "      <td>0.762106</td>\n",
              "      <td>0.002592</td>\n",
              "      <td>0.900764</td>\n",
              "      <td>0.014701</td>\n",
              "      <td>0.759775</td>\n",
              "      <td>0.003798</td>\n",
              "      <td>0.909445</td>\n",
              "      <td>0.006631</td>\n",
              "      <td>0.257762</td>\n",
              "      <td>[3, 1, 3, 1, 11]</td>\n",
              "      <td>[G:\\Experimental_results\\GatedBT\\Moji\\GatedBT_...</td>\n",
              "      <td>True</td>\n",
              "    </tr>\n",
              "    <tr>\n",
              "      <th>10</th>\n",
              "      <td>BTGatedAdv</td>\n",
              "      <td>0.735459</td>\n",
              "      <td>0.028830</td>\n",
              "      <td>0.866150</td>\n",
              "      <td>0.028232</td>\n",
              "      <td>0.730150</td>\n",
              "      <td>0.024594</td>\n",
              "      <td>0.886862</td>\n",
              "      <td>0.030537</td>\n",
              "      <td>0.296476</td>\n",
              "      <td>[5, 19, 19, 6, 1]</td>\n",
              "      <td>[G:\\Experimental_results\\hypertune2\\Moji\\hyper...</td>\n",
              "      <td>True</td>\n",
              "    </tr>\n",
              "    <tr>\n",
              "      <th>11</th>\n",
              "      <td>Adv</td>\n",
              "      <td>0.756414</td>\n",
              "      <td>0.007271</td>\n",
              "      <td>0.893286</td>\n",
              "      <td>0.005623</td>\n",
              "      <td>0.747425</td>\n",
              "      <td>0.004549</td>\n",
              "      <td>0.912125</td>\n",
              "      <td>0.008507</td>\n",
              "      <td>0.265936</td>\n",
              "      <td>[9, 14, 18, 5, 16]</td>\n",
              "      <td>[G:\\Experimental_results\\hypertune\\Moji\\hypert...</td>\n",
              "      <td>True</td>\n",
              "    </tr>\n",
              "    <tr>\n",
              "      <th>12</th>\n",
              "      <td>OldFairBatch</td>\n",
              "      <td>0.750638</td>\n",
              "      <td>0.006012</td>\n",
              "      <td>0.905537</td>\n",
              "      <td>0.005046</td>\n",
              "      <td>0.744525</td>\n",
              "      <td>0.004995</td>\n",
              "      <td>0.917734</td>\n",
              "      <td>0.004761</td>\n",
              "      <td>0.266655</td>\n",
              "      <td>[5, 7, 8, 13, 7]</td>\n",
              "      <td>[G:\\Experimental_results\\Original_FairBatch\\Mo...</td>\n",
              "      <td>True</td>\n",
              "    </tr>\n",
              "    <tr>\n",
              "      <th>13</th>\n",
              "      <td>FairSCL</td>\n",
              "      <td>0.757314</td>\n",
              "      <td>0.003441</td>\n",
              "      <td>0.878219</td>\n",
              "      <td>0.004314</td>\n",
              "      <td>0.752825</td>\n",
              "      <td>0.001872</td>\n",
              "      <td>0.898325</td>\n",
              "      <td>0.002579</td>\n",
              "      <td>0.271527</td>\n",
              "      <td>[12, 5, 13, 1, 1]</td>\n",
              "      <td>[G:\\Experimental_results\\FairSCL\\Moji\\FSCL_0.3...</td>\n",
              "      <td>False</td>\n",
              "    </tr>\n",
              "    <tr>\n",
              "      <th>14</th>\n",
              "      <td>INLP</td>\n",
              "      <td>0.733433</td>\n",
              "      <td>NaN</td>\n",
              "      <td>0.855982</td>\n",
              "      <td>NaN</td>\n",
              "      <td>0.727625</td>\n",
              "      <td>NaN</td>\n",
              "      <td>0.859686</td>\n",
              "      <td>NaN</td>\n",
              "      <td>0.302983</td>\n",
              "      <td>[103]</td>\n",
              "      <td>[G:\\Experimental_results\\INLP\\Moji\\INLP_True_b...</td>\n",
              "      <td>True</td>\n",
              "    </tr>\n",
              "    <tr>\n",
              "      <th>15</th>\n",
              "      <td>DAdv</td>\n",
              "      <td>0.755464</td>\n",
              "      <td>0.004076</td>\n",
              "      <td>0.904023</td>\n",
              "      <td>0.011218</td>\n",
              "      <td>0.748550</td>\n",
              "      <td>0.002405</td>\n",
              "      <td>0.915601</td>\n",
              "      <td>0.005007</td>\n",
              "      <td>0.262697</td>\n",
              "      <td>[6, 1, 7, 3, 5]</td>\n",
              "      <td>[G:\\Experimental_results\\hypertune\\Moji\\hypert...</td>\n",
              "      <td>True</td>\n",
              "    </tr>\n",
              "  </tbody>\n",
              "</table>\n",
              "</div>\n",
              "      <button class=\"colab-df-convert\" onclick=\"convertToInteractive('df-2a5c685c-02c6-40b9-8b06-374cb782d5d9')\"\n",
              "              title=\"Convert this dataframe to an interactive table.\"\n",
              "              style=\"display:none;\">\n",
              "        \n",
              "  <svg xmlns=\"http://www.w3.org/2000/svg\" height=\"24px\"viewBox=\"0 0 24 24\"\n",
              "       width=\"24px\">\n",
              "    <path d=\"M0 0h24v24H0V0z\" fill=\"none\"/>\n",
              "    <path d=\"M18.56 5.44l.94 2.06.94-2.06 2.06-.94-2.06-.94-.94-2.06-.94 2.06-2.06.94zm-11 1L8.5 8.5l.94-2.06 2.06-.94-2.06-.94L8.5 2.5l-.94 2.06-2.06.94zm10 10l.94 2.06.94-2.06 2.06-.94-2.06-.94-.94-2.06-.94 2.06-2.06.94z\"/><path d=\"M17.41 7.96l-1.37-1.37c-.4-.4-.92-.59-1.43-.59-.52 0-1.04.2-1.43.59L10.3 9.45l-7.72 7.72c-.78.78-.78 2.05 0 2.83L4 21.41c.39.39.9.59 1.41.59.51 0 1.02-.2 1.41-.59l7.78-7.78 2.81-2.81c.8-.78.8-2.07 0-2.86zM5.41 20L4 18.59l7.72-7.72 1.47 1.35L5.41 20z\"/>\n",
              "  </svg>\n",
              "      </button>\n",
              "      \n",
              "  <style>\n",
              "    .colab-df-container {\n",
              "      display:flex;\n",
              "      flex-wrap:wrap;\n",
              "      gap: 12px;\n",
              "    }\n",
              "\n",
              "    .colab-df-convert {\n",
              "      background-color: #E8F0FE;\n",
              "      border: none;\n",
              "      border-radius: 50%;\n",
              "      cursor: pointer;\n",
              "      display: none;\n",
              "      fill: #1967D2;\n",
              "      height: 32px;\n",
              "      padding: 0 0 0 0;\n",
              "      width: 32px;\n",
              "    }\n",
              "\n",
              "    .colab-df-convert:hover {\n",
              "      background-color: #E2EBFA;\n",
              "      box-shadow: 0px 1px 2px rgba(60, 64, 67, 0.3), 0px 1px 3px 1px rgba(60, 64, 67, 0.15);\n",
              "      fill: #174EA6;\n",
              "    }\n",
              "\n",
              "    [theme=dark] .colab-df-convert {\n",
              "      background-color: #3B4455;\n",
              "      fill: #D2E3FC;\n",
              "    }\n",
              "\n",
              "    [theme=dark] .colab-df-convert:hover {\n",
              "      background-color: #434B5C;\n",
              "      box-shadow: 0px 1px 3px 1px rgba(0, 0, 0, 0.15);\n",
              "      filter: drop-shadow(0px 1px 2px rgba(0, 0, 0, 0.3));\n",
              "      fill: #FFFFFF;\n",
              "    }\n",
              "  </style>\n",
              "\n",
              "      <script>\n",
              "        const buttonEl =\n",
              "          document.querySelector('#df-2a5c685c-02c6-40b9-8b06-374cb782d5d9 button.colab-df-convert');\n",
              "        buttonEl.style.display =\n",
              "          google.colab.kernel.accessAllowed ? 'block' : 'none';\n",
              "\n",
              "        async function convertToInteractive(key) {\n",
              "          const element = document.querySelector('#df-2a5c685c-02c6-40b9-8b06-374cb782d5d9');\n",
              "          const dataTable =\n",
              "            await google.colab.kernel.invokeFunction('convertToInteractive',\n",
              "                                                     [key], {});\n",
              "          if (!dataTable) return;\n",
              "\n",
              "          const docLinkHtml = 'Like what you see? Visit the ' +\n",
              "            '<a target=\"_blank\" href=https://colab.research.google.com/notebooks/data_table.ipynb>data table notebook</a>'\n",
              "            + ' to learn more about interactive tables.';\n",
              "          element.innerHTML = '';\n",
              "          dataTable['output_type'] = 'display_data';\n",
              "          await google.colab.output.renderOutput(dataTable, element);\n",
              "          const docLink = document.createElement('div');\n",
              "          docLink.innerHTML = docLinkHtml;\n",
              "          element.appendChild(docLink);\n",
              "        }\n",
              "      </script>\n",
              "    </div>\n",
              "  </div>\n",
              "  "
            ],
            "text/plain": [
              "            Models  test_performance mean  test_performance std  \\\n",
              "0             GDEO               0.752763              0.004999   \n",
              "1      BTFairBatch               0.746837              0.003407   \n",
              "2          Vanilla               0.722981              0.004576   \n",
              "3             BTEO               0.753927              0.001433   \n",
              "4        GatedDAdv               0.750163              0.006945   \n",
              "5        FairBatch               0.751488              0.005772   \n",
              "6         GatedAdv               0.753113              0.005196   \n",
              "7   DelayedCLS_Adv               0.761015              0.003081   \n",
              "8           GDMean               0.752163              0.002130   \n",
              "9        GatedBTEO               0.762106              0.002592   \n",
              "10      BTGatedAdv               0.735459              0.028830   \n",
              "11             Adv               0.756414              0.007271   \n",
              "12    OldFairBatch               0.750638              0.006012   \n",
              "13         FairSCL               0.757314              0.003441   \n",
              "14            INLP               0.733433                   NaN   \n",
              "15            DAdv               0.755464              0.004076   \n",
              "\n",
              "    test_fairness mean  test_fairness std  dev_performance mean  \\\n",
              "0             0.892255           0.007860              0.749350   \n",
              "1             0.899351           0.004936              0.743975   \n",
              "2             0.611870           0.014356              0.726650   \n",
              "3             0.877469           0.003756              0.746325   \n",
              "4             0.908679           0.021678              0.745600   \n",
              "5             0.904373           0.008213              0.746050   \n",
              "6             0.890065           0.013302              0.748975   \n",
              "7             0.882425           0.015918              0.751675   \n",
              "8             0.901389           0.003916              0.749050   \n",
              "9             0.900764           0.014701              0.759775   \n",
              "10            0.866150           0.028232              0.730150   \n",
              "11            0.893286           0.005623              0.747425   \n",
              "12            0.905537           0.005046              0.744525   \n",
              "13            0.878219           0.004314              0.752825   \n",
              "14            0.855982                NaN              0.727625   \n",
              "15            0.904023           0.011218              0.748550   \n",
              "\n",
              "    dev_performance std  dev_fairness mean  dev_fairness std       DTO  \\\n",
              "0              0.003494           0.912672          0.002766  0.269694   \n",
              "1              0.004236           0.919254          0.004731  0.272437   \n",
              "2              0.003673           0.632302          0.013370  0.476849   \n",
              "3              0.000998           0.896874          0.005401  0.274892   \n",
              "4              0.004828           0.928670          0.022488  0.266004   \n",
              "5              0.003896           0.914526          0.006020  0.266276   \n",
              "6              0.003805           0.910838          0.010314  0.270257   \n",
              "7              0.003481           0.899346          0.011417  0.266341   \n",
              "8              0.001368           0.922430          0.005829  0.266735   \n",
              "9              0.003798           0.909445          0.006631  0.257762   \n",
              "10             0.024594           0.886862          0.030537  0.296476   \n",
              "11             0.004549           0.912125          0.008507  0.265936   \n",
              "12             0.004995           0.917734          0.004761  0.266655   \n",
              "13             0.001872           0.898325          0.002579  0.271527   \n",
              "14                  NaN           0.859686               NaN  0.302983   \n",
              "15             0.002405           0.915601          0.005007  0.262697   \n",
              "\n",
              "            epoch list                                       opt_dir list  \\\n",
              "0    [2, 12, 5, 9, 10]  [G:\\Experimental_results\\GroupDifference\\Moji\\...   \n",
              "1      [8, 6, 9, 5, 7]  [G:\\Experimental_results\\FairBatch\\Moji\\BTInit...   \n",
              "2     [2, 11, 2, 5, 2]  [G:\\Experimental_results\\vanilla\\Moji\\0\\opt.ya...   \n",
              "3      [8, 6, 9, 4, 5]  [G:\\Experimental_results\\GatedBT\\Moji\\GatedBT_...   \n",
              "4   [24, 13, 19, 4, 3]  [G:\\Experimental_results\\hypertune3\\Moji\\hyper...   \n",
              "5      [9, 9, 6, 6, 5]  [G:\\Experimental_results\\FairBatch\\Moji\\FairBa...   \n",
              "6   [11, 4, 4, 13, 12]  [G:\\Experimental_results\\hypertune2\\Moji\\hyper...   \n",
              "7    [13, 1, 3, 13, 1]  [/data/cephfs/punim1421/Fair_NLP_Classificatio...   \n",
              "8    [11, 12, 7, 2, 2]  [G:\\Experimental_results\\GroupDifference\\Moji\\...   \n",
              "9     [3, 1, 3, 1, 11]  [G:\\Experimental_results\\GatedBT\\Moji\\GatedBT_...   \n",
              "10   [5, 19, 19, 6, 1]  [G:\\Experimental_results\\hypertune2\\Moji\\hyper...   \n",
              "11  [9, 14, 18, 5, 16]  [G:\\Experimental_results\\hypertune\\Moji\\hypert...   \n",
              "12    [5, 7, 8, 13, 7]  [G:\\Experimental_results\\Original_FairBatch\\Mo...   \n",
              "13   [12, 5, 13, 1, 1]  [G:\\Experimental_results\\FairSCL\\Moji\\FSCL_0.3...   \n",
              "14               [103]  [G:\\Experimental_results\\INLP\\Moji\\INLP_True_b...   \n",
              "15     [6, 1, 7, 3, 5]  [G:\\Experimental_results\\hypertune\\Moji\\hypert...   \n",
              "\n",
              "    is_pareto  \n",
              "0        True  \n",
              "1       False  \n",
              "2        True  \n",
              "3        True  \n",
              "4       False  \n",
              "5        True  \n",
              "6       False  \n",
              "7        True  \n",
              "8        True  \n",
              "9        True  \n",
              "10       True  \n",
              "11       True  \n",
              "12       True  \n",
              "13      False  \n",
              "14       True  \n",
              "15       True  "
            ]
          },
          "execution_count": 19,
          "metadata": {},
          "output_type": "execute_result"
        }
      ],
      "source": [
        "Moji_main_results = analysis.final_results_df(\n",
        "    results_dict = Moji_results,\n",
        "    pareto = False,\n",
        "    pareto_selection = \"test\",\n",
        "    selection_criterion = \"DTO\",\n",
        "    return_dev = True,\n",
        "    return_conf=True,\n",
        "    )\n",
        "Moji_main_results"
      ]
    },
    {
      "cell_type": "markdown",
      "metadata": {
        "id": "hkQQXihpZhBu"
      },
      "source": [
        "### Create $\\LaTeX{}$ tabels"
      ]
    },
    {
      "cell_type": "code",
      "execution_count": 20,
      "metadata": {
        "colab": {
          "base_uri": "https://localhost:8080/"
        },
        "id": "fWTaYlaPuAqt",
        "outputId": "47fcdca3-72d9-4726-d465-7d8d7715039a"
      },
      "outputs": [
        {
          "name": "stdout",
          "output_type": "stream",
          "text": [
            "\\begin{tabular}{lrrrrrrrrrlll}\n",
            "\\toprule\n",
            "        Models &  test\\_performance mean &  test\\_performance std &  test\\_fairness mean &  test\\_fairness std &  dev\\_performance mean &  dev\\_performance std &  dev\\_fairness mean &  dev\\_fairness std &      DTO &         epoch list &                                       opt\\_dir list &  is\\_pareto \\\\\n",
            "\\midrule\n",
            "          GDEO &               0.752763 &              0.004999 &            0.892255 &           0.007860 &              0.749350 &             0.003494 &           0.912672 &          0.002766 & 0.269694 &  [2, 12, 5, 9, 10] & [G:\\textbackslash Experimental\\_results\\textbackslash GroupDifference\\textbackslash Moji\\textbackslash G... &       True \\\\\n",
            "   BTFairBatch &               0.746837 &              0.003407 &            0.899351 &           0.004936 &              0.743975 &             0.004236 &           0.919254 &          0.004731 & 0.272437 &    [8, 6, 9, 5, 7] & [G:\\textbackslash Experimental\\_results\\textbackslash FairBatch\\textbackslash Moji\\textbackslash BTInitF... &      False \\\\\n",
            "       Vanilla &               0.722981 &              0.004576 &            0.611870 &           0.014356 &              0.726650 &             0.003673 &           0.632302 &          0.013370 & 0.476849 &   [2, 11, 2, 5, 2] & [G:\\textbackslash Experimental\\_results\\textbackslash vanilla\\textbackslash Moji\\textbackslash 0\\textbackslash opt.yam... &       True \\\\\n",
            "          BTEO &               0.753927 &              0.001433 &            0.877469 &           0.003756 &              0.746325 &             0.000998 &           0.896874 &          0.005401 & 0.274892 &    [8, 6, 9, 4, 5] & [G:\\textbackslash Experimental\\_results\\textbackslash GatedBT\\textbackslash Moji\\textbackslash GatedBT\\_R... &       True \\\\\n",
            "     GatedDAdv &               0.750163 &              0.006945 &            0.908679 &           0.021678 &              0.745600 &             0.004828 &           0.928670 &          0.022488 & 0.266004 & [24, 13, 19, 4, 3] & [G:\\textbackslash Experimental\\_results\\textbackslash hypertune3\\textbackslash Moji\\textbackslash hypert... &      False \\\\\n",
            "     FairBatch &               0.751488 &              0.005772 &            0.904373 &           0.008213 &              0.746050 &             0.003896 &           0.914526 &          0.006020 & 0.266276 &    [9, 9, 6, 6, 5] & [G:\\textbackslash Experimental\\_results\\textbackslash FairBatch\\textbackslash Moji\\textbackslash FairBat... &       True \\\\\n",
            "      GatedAdv &               0.753113 &              0.005196 &            0.890065 &           0.013302 &              0.748975 &             0.003805 &           0.910838 &          0.010314 & 0.270257 & [11, 4, 4, 13, 12] & [G:\\textbackslash Experimental\\_results\\textbackslash hypertune2\\textbackslash Moji\\textbackslash hypert... &      False \\\\\n",
            "DelayedCLS\\_Adv &               0.761015 &              0.003081 &            0.882425 &           0.015918 &              0.751675 &             0.003481 &           0.899346 &          0.011417 & 0.266341 &  [13, 1, 3, 13, 1] & [/data/cephfs/punim1421/Fair\\_NLP\\_Classification... &       True \\\\\n",
            "        GDMean &               0.752163 &              0.002130 &            0.901389 &           0.003916 &              0.749050 &             0.001368 &           0.922430 &          0.005829 & 0.266735 &  [11, 12, 7, 2, 2] & [G:\\textbackslash Experimental\\_results\\textbackslash GroupDifference\\textbackslash Moji\\textbackslash G... &       True \\\\\n",
            "     GatedBTEO &               0.762106 &              0.002592 &            0.900764 &           0.014701 &              0.759775 &             0.003798 &           0.909445 &          0.006631 & 0.257762 &   [3, 1, 3, 1, 11] & [G:\\textbackslash Experimental\\_results\\textbackslash GatedBT\\textbackslash Moji\\textbackslash GatedBT\\_R... &       True \\\\\n",
            "    BTGatedAdv &               0.735459 &              0.028830 &            0.866150 &           0.028232 &              0.730150 &             0.024594 &           0.886862 &          0.030537 & 0.296476 &  [5, 19, 19, 6, 1] & [G:\\textbackslash Experimental\\_results\\textbackslash hypertune2\\textbackslash Moji\\textbackslash hypert... &       True \\\\\n",
            "           Adv &               0.756414 &              0.007271 &            0.893286 &           0.005623 &              0.747425 &             0.004549 &           0.912125 &          0.008507 & 0.265936 & [9, 14, 18, 5, 16] & [G:\\textbackslash Experimental\\_results\\textbackslash hypertune\\textbackslash Moji\\textbackslash hypertu... &       True \\\\\n",
            "  OldFairBatch &               0.750638 &              0.006012 &            0.905537 &           0.005046 &              0.744525 &             0.004995 &           0.917734 &          0.004761 & 0.266655 &   [5, 7, 8, 13, 7] & [G:\\textbackslash Experimental\\_results\\textbackslash Original\\_FairBatch\\textbackslash Moj... &       True \\\\\n",
            "       FairSCL &               0.757314 &              0.003441 &            0.878219 &           0.004314 &              0.752825 &             0.001872 &           0.898325 &          0.002579 & 0.271527 &  [12, 5, 13, 1, 1] & [G:\\textbackslash Experimental\\_results\\textbackslash FairSCL\\textbackslash Moji\\textbackslash FSCL\\_0.31... &      False \\\\\n",
            "          INLP &               0.733433 &                   NaN &            0.855982 &                NaN &              0.727625 &                  NaN &           0.859686 &               NaN & 0.302983 &              [103] & [G:\\textbackslash Experimental\\_results\\textbackslash INLP\\textbackslash Moji\\textbackslash INLP\\_True\\_ba... &       True \\\\\n",
            "          DAdv &               0.755464 &              0.004076 &            0.904023 &           0.011218 &              0.748550 &             0.002405 &           0.915601 &          0.005007 & 0.262697 &    [6, 1, 7, 3, 5] & [G:\\textbackslash Experimental\\_results\\textbackslash hypertune\\textbackslash Moji\\textbackslash hypertu... &       True \\\\\n",
            "\\bottomrule\n",
            "\\end{tabular}\n",
            "\n"
          ]
        }
      ],
      "source": [
        "print(Moji_main_results.to_latex(index=False))"
      ]
    },
    {
      "cell_type": "code",
      "execution_count": 21,
      "metadata": {
        "id": "s6CqKFl7uHZX"
      },
      "outputs": [],
      "source": [
        "%matplotlib inline"
      ]
    },
    {
      "cell_type": "markdown",
      "metadata": {
        "id": "kAbrpa3sZstn"
      },
      "source": [
        "### Create plots"
      ]
    },
    {
      "cell_type": "code",
      "execution_count": 22,
      "metadata": {
        "id": "iA_CqU9Iug4u"
      },
      "outputs": [],
      "source": [
        "Moji_plot_df = analysis.final_results_df(\n",
        "    results_dict = Moji_results,\n",
        "    pareto = True, pareto_selection = \"test\", \n",
        "    selection_criterion = None, return_dev = True,\n",
        "    )"
      ]
    },
    {
      "cell_type": "code",
      "execution_count": 23,
      "metadata": {
        "colab": {
          "base_uri": "https://localhost:8080/",
          "height": 533
        },
        "id": "Th55IhiHugvs",
        "outputId": "9d77ddc5-03d0-4028-a821-c59a08f8f626"
      },
      "outputs": [
        {
          "data": {
            "image/png": "[encoded data removed]",
            "text/plain": [
              "<Figure size 750x600 with 1 Axes>"
            ]
          },
          "metadata": {
            "needs_background": "light"
          },
          "output_type": "display_data"
        }
      ],
      "source": [
        "analysis.tables_and_figures.make_zoom_plot(\n",
        "    Moji_plot_df, dpi = 100,\n",
        "    zoom_xlim=(0.6, 0.78), \n",
        "    zoom_ylim=(0.8, 0.98),\n",
        "    )"
      ]
    },
    {
      "cell_type": "markdown",
      "metadata": {
        "id": "CgvMdvpqg_oi"
      },
      "source": [
        "## 6. Cutomize pipeline for fairness"
      ]
    },
    {
      "cell_type": "markdown",
      "metadata": {
        "id": "IeJsYAhBeLeP"
      },
      "source": [
        "Check out the website [https://hanxudong.github.io/fairlib/](https://hanxudong.github.io/fairlib/) for detailed docs.\n",
        "\n",
        "- Visualization\n",
        "  - [Interactive plots](https://github.com/HanXudong/fairlib/blob/main/tutorial/interactive_plots.ipynb) demonstrates creating interactive plots for comparing different methods, and demonstrating DTO and constrained selection.\n",
        "  - [Plot gallery](https://hanxudong.github.io/fairlib/tutorial_notebooks/tutorial_plot_gallery.html) presents a list of examples for presenting experimental results, e.g., hyperparameter tuning and trade-off plots with zoomed-in area.\n",
        "\n",
        "\n",
        "- Customized Dataset and Models\n",
        "  - [The dataset document](https://hanxudong.github.io/fairlib/tutorial_customized_datasets_and_dataloaders.html) provides instructions for customizing datasets and dataloaders.\n",
        "  - [The model document](https://hanxudong.github.io/fairlib/tutorial_customized_models.html) provides instructions for customizing model architectures and register models.\n",
        "  - Besides text inputs, we also provide examples for customizing datasets and models with [structured inputs](https://hanxudong.github.io/fairlib/tutorial_notebooks/tutorial_COMPAS.html) and [images](https://hanxudong.github.io/fairlib/tutorial_notebooks/tutorial_colored_MNIST.html).\n",
        "\n",
        "\n",
        "- Customized Metrics\n",
        "  - This [document](https://hanxudong.github.io/fairlib/tutorial_customized_evaluation.html) provides instructions for customizing evaluation metrics.\n",
        "  - Single metric evaluations can be seen from [there](https://github.com/HanXudong/fairlib/blob/47f4b332e15ff8f22b238db6be983ec753fd2537/fairlib/src/evaluators/evaluator.py#L94).\n",
        "  - Metric aggregations such as the default root mean square aggregation can be found from [there](https://github.com/HanXudong/fairlib/blob/47f4b332e15ff8f22b238db6be983ec753fd2537/fairlib/src/evaluators/evaluator.py#L75).\n",
        "\n",
        "\n",
        "- Customized Debiasing Methods\n",
        "  - [Please see the document](https://hanxudong.github.io/fairlib/tutorial_customized_methods.html) for instructions about adding method-specific options and integrating methods with *fairlib*."
      ]
    }
  ],
  "metadata": {
    "colab": {
      "collapsed_sections": [],
      "name": "fairlib_demo.ipynb",
      "provenance": [],
      "toc_visible": true
    },
    "kernelspec": {
      "display_name": "Python 3.7.12 ('py37')",
      "language": "python",
      "name": "python3"
    },
    "language_info": {
      "name": "python",
      "version": "3.7.12"
    },
    "vscode": {
      "interpreter": {
        "hash": "eb4eca40f7710e7c7146430b0424b585ee7a07b7e7498958627feae1c8ad8261"
      }
    },
    "widgets": {
      "application/vnd.jupyter.widget-state+json": {
        "0598af4dcad946c3b5b27dc73dafda3a": {
          "model_module": "@jupyter-widgets/controls",
          "model_module_version": "1.5.0",
          "model_name": "FloatProgressModel",
          "state": {
            "_dom_classes": [],
            "_model_module": "@jupyter-widgets/controls",
            "_model_module_version": "1.5.0",
            "_model_name": "FloatProgressModel",
            "_view_count": null,
            "_view_module": "@jupyter-widgets/controls",
            "_view_module_version": "1.5.0",
            "_view_name": "ProgressView",
            "bar_style": "success",
            "description": "",
            "description_tooltip": null,
            "layout": "IPY_MODEL_101c33c843274092888ae0b593e11084",
            "max": 39,
            "min": 0,
            "orientation": "horizontal",
            "style": "IPY_MODEL_267c639152c247bfbb01672e66107207",
            "value": 39
          }
        },
        "05c0c0bae60a4c958f6571576dfcd470": {
          "model_module": "@jupyter-widgets/base",
          "model_module_version": "1.2.0",
          "model_name": "LayoutModel",
          "state": {
            "_model_module": "@jupyter-widgets/base",
            "_model_module_version": "1.2.0",
            "_model_name": "LayoutModel",
            "_view_count": null,
            "_view_module": "@jupyter-widgets/base",
            "_view_module_version": "1.2.0",
            "_view_name": "LayoutView",
            "align_content": null,
            "align_items": null,
            "align_self": null,
            "border": null,
            "bottom": null,
            "display": null,
            "flex": null,
            "flex_flow": null,
            "grid_area": null,
            "grid_auto_columns": null,
            "grid_auto_flow": null,
            "grid_auto_rows": null,
            "grid_column": null,
            "grid_gap": null,
            "grid_row": null,
            "grid_template_areas": null,
            "grid_template_columns": null,
            "grid_template_rows": null,
            "height": null,
            "justify_content": null,
            "justify_items": null,
            "left": null,
            "margin": null,
            "max_height": null,
            "max_width": null,
            "min_height": null,
            "min_width": null,
            "object_fit": null,
            "object_position": null,
            "order": null,
            "overflow": null,
            "overflow_x": null,
            "overflow_y": null,
            "padding": null,
            "right": null,
            "top": null,
            "visibility": null,
            "width": null
          }
        },
        "07824111751947f1af0e3f3409cf8897": {
          "model_module": "@jupyter-widgets/controls",
          "model_module_version": "1.5.0",
          "model_name": "ProgressStyleModel",
          "state": {
            "_model_module": "@jupyter-widgets/controls",
            "_model_module_version": "1.5.0",
            "_model_name": "ProgressStyleModel",
            "_view_count": null,
            "_view_module": "@jupyter-widgets/base",
            "_view_module_version": "1.2.0",
            "_view_name": "StyleView",
            "bar_color": null,
            "description_width": ""
          }
        },
        "08b65a34ffbf43fa94aa81bdfa88a839": {
          "model_module": "@jupyter-widgets/controls",
          "model_module_version": "1.5.0",
          "model_name": "ProgressStyleModel",
          "state": {
            "_model_module": "@jupyter-widgets/controls",
            "_model_module_version": "1.5.0",
            "_model_name": "ProgressStyleModel",
            "_view_count": null,
            "_view_module": "@jupyter-widgets/base",
            "_view_module_version": "1.2.0",
            "_view_name": "StyleView",
            "bar_color": null,
            "description_width": ""
          }
        },
        "0f5858dbd88d4a8f95d74f8c2f3df4ab": {
          "model_module": "@jupyter-widgets/base",
          "model_module_version": "1.2.0",
          "model_name": "LayoutModel",
          "state": {
            "_model_module": "@jupyter-widgets/base",
            "_model_module_version": "1.2.0",
            "_model_name": "LayoutModel",
            "_view_count": null,
            "_view_module": "@jupyter-widgets/base",
            "_view_module_version": "1.2.0",
            "_view_name": "LayoutView",
            "align_content": null,
            "align_items": null,
            "align_self": null,
            "border": null,
            "bottom": null,
            "display": null,
            "flex": null,
            "flex_flow": null,
            "grid_area": null,
            "grid_auto_columns": null,
            "grid_auto_flow": null,
            "grid_auto_rows": null,
            "grid_column": null,
            "grid_gap": null,
            "grid_row": null,
            "grid_template_areas": null,
            "grid_template_columns": null,
            "grid_template_rows": null,
            "height": null,
            "justify_content": null,
            "justify_items": null,
            "left": null,
            "margin": null,
            "max_height": null,
            "max_width": null,
            "min_height": null,
            "min_width": null,
            "object_fit": null,
            "object_position": null,
            "order": null,
            "overflow": null,
            "overflow_x": null,
            "overflow_y": null,
            "padding": null,
            "right": null,
            "top": null,
            "visibility": null,
            "width": null
          }
        },
        "101c33c843274092888ae0b593e11084": {
          "model_module": "@jupyter-widgets/base",
          "model_module_version": "1.2.0",
          "model_name": "LayoutModel",
          "state": {
            "_model_module": "@jupyter-widgets/base",
            "_model_module_version": "1.2.0",
            "_model_name": "LayoutModel",
            "_view_count": null,
            "_view_module": "@jupyter-widgets/base",
            "_view_module_version": "1.2.0",
            "_view_name": "LayoutView",
            "align_content": null,
            "align_items": null,
            "align_self": null,
            "border": null,
            "bottom": null,
            "display": null,
            "flex": null,
            "flex_flow": null,
            "grid_area": null,
            "grid_auto_columns": null,
            "grid_auto_flow": null,
            "grid_auto_rows": null,
            "grid_column": null,
            "grid_gap": null,
            "grid_row": null,
            "grid_template_areas": null,
            "grid_template_columns": null,
            "grid_template_rows": null,
            "height": null,
            "justify_content": null,
            "justify_items": null,
            "left": null,
            "margin": null,
            "max_height": null,
            "max_width": null,
            "min_height": null,
            "min_width": null,
            "object_fit": null,
            "object_position": null,
            "order": null,
            "overflow": null,
            "overflow_x": null,
            "overflow_y": null,
            "padding": null,
            "right": null,
            "top": null,
            "visibility": null,
            "width": null
          }
        },
        "155d359ac2d749169a0d52c591f0d8ea": {
          "model_module": "@jupyter-widgets/base",
          "model_module_version": "1.2.0",
          "model_name": "LayoutModel",
          "state": {
            "_model_module": "@jupyter-widgets/base",
            "_model_module_version": "1.2.0",
            "_model_name": "LayoutModel",
            "_view_count": null,
            "_view_module": "@jupyter-widgets/base",
            "_view_module_version": "1.2.0",
            "_view_name": "LayoutView",
            "align_content": null,
            "align_items": null,
            "align_self": null,
            "border": null,
            "bottom": null,
            "display": null,
            "flex": null,
            "flex_flow": null,
            "grid_area": null,
            "grid_auto_columns": null,
            "grid_auto_flow": null,
            "grid_auto_rows": null,
            "grid_column": null,
            "grid_gap": null,
            "grid_row": null,
            "grid_template_areas": null,
            "grid_template_columns": null,
            "grid_template_rows": null,
            "height": null,
            "justify_content": null,
            "justify_items": null,
            "left": null,
            "margin": null,
            "max_height": null,
            "max_width": null,
            "min_height": null,
            "min_width": null,
            "object_fit": null,
            "object_position": null,
            "order": null,
            "overflow": null,
            "overflow_x": null,
            "overflow_y": null,
            "padding": null,
            "right": null,
            "top": null,
            "visibility": null,
            "width": null
          }
        },
        "1f572cf5213c400f86b91e4cb9c5ab03": {
          "model_module": "@jupyter-widgets/controls",
          "model_module_version": "1.5.0",
          "model_name": "HBoxModel",
          "state": {
            "_dom_classes": [],
            "_model_module": "@jupyter-widgets/controls",
            "_model_module_version": "1.5.0",
            "_model_name": "HBoxModel",
            "_view_count": null,
            "_view_module": "@jupyter-widgets/controls",
            "_view_module_version": "1.5.0",
            "_view_name": "HBoxView",
            "box_style": "",
            "children": [
              "IPY_MODEL_223a07676d284ddc9f88eb557535be33",
              "IPY_MODEL_6d8e56dae7c74b51870b8f205f9c2a51",
              "IPY_MODEL_30564c39e4fc42f9a62391eb4ccbeef5"
            ],
            "layout": "IPY_MODEL_5cf1fb49370f458aa4b34f1d4654c3c0"
          }
        },
        "223a07676d284ddc9f88eb557535be33": {
          "model_module": "@jupyter-widgets/controls",
          "model_module_version": "1.5.0",
          "model_name": "HTMLModel",
          "state": {
            "_dom_classes": [],
            "_model_module": "@jupyter-widgets/controls",
            "_model_module_version": "1.5.0",
            "_model_name": "HTMLModel",
            "_view_count": null,
            "_view_module": "@jupyter-widgets/controls",
            "_view_module_version": "1.5.0",
            "_view_name": "HTMLView",
            "description": "",
            "description_tooltip": null,
            "layout": "IPY_MODEL_9f28af0718b04e7489b8d81c554b8f0a",
            "placeholder": "​",
            "style": "IPY_MODEL_56054bc9fdae4f4aa8d1dd3b2230349e",
            "value": "100%"
          }
        },
        "267c639152c247bfbb01672e66107207": {
          "model_module": "@jupyter-widgets/controls",
          "model_module_version": "1.5.0",
          "model_name": "ProgressStyleModel",
          "state": {
            "_model_module": "@jupyter-widgets/controls",
            "_model_module_version": "1.5.0",
            "_model_name": "ProgressStyleModel",
            "_view_count": null,
            "_view_module": "@jupyter-widgets/base",
            "_view_module_version": "1.2.0",
            "_view_name": "StyleView",
            "bar_color": null,
            "description_width": ""
          }
        },
        "2821e713f31b46efa2e90d699e0dc83c": {
          "model_module": "@jupyter-widgets/base",
          "model_module_version": "1.2.0",
          "model_name": "LayoutModel",
          "state": {
            "_model_module": "@jupyter-widgets/base",
            "_model_module_version": "1.2.0",
            "_model_name": "LayoutModel",
            "_view_count": null,
            "_view_module": "@jupyter-widgets/base",
            "_view_module_version": "1.2.0",
            "_view_name": "LayoutView",
            "align_content": null,
            "align_items": null,
            "align_self": null,
            "border": null,
            "bottom": null,
            "display": null,
            "flex": null,
            "flex_flow": null,
            "grid_area": null,
            "grid_auto_columns": null,
            "grid_auto_flow": null,
            "grid_auto_rows": null,
            "grid_column": null,
            "grid_gap": null,
            "grid_row": null,
            "grid_template_areas": null,
            "grid_template_columns": null,
            "grid_template_rows": null,
            "height": null,
            "justify_content": null,
            "justify_items": null,
            "left": null,
            "margin": null,
            "max_height": null,
            "max_width": null,
            "min_height": null,
            "min_width": null,
            "object_fit": null,
            "object_position": null,
            "order": null,
            "overflow": null,
            "overflow_x": null,
            "overflow_y": null,
            "padding": null,
            "right": null,
            "top": null,
            "visibility": null,
            "width": null
          }
        },
        "2980b492e74549938e9f0fb78237923d": {
          "model_module": "@jupyter-widgets/controls",
          "model_module_version": "1.5.0",
          "model_name": "HTMLModel",
          "state": {
            "_dom_classes": [],
            "_model_module": "@jupyter-widgets/controls",
            "_model_module_version": "1.5.0",
            "_model_name": "HTMLModel",
            "_view_count": null,
            "_view_module": "@jupyter-widgets/controls",
            "_view_module_version": "1.5.0",
            "_view_name": "HTMLView",
            "description": "",
            "description_tooltip": null,
            "layout": "IPY_MODEL_5456c00ca1a44bf3b7bece88b94250d3",
            "placeholder": "​",
            "style": "IPY_MODEL_f490accfcad641b19c214d9ea5bc422d",
            "value": " 39/39 [00:05&lt;00:00,  7.37it/s]"
          }
        },
        "29a861a0df0549bcba58054ef6558903": {
          "model_module": "@jupyter-widgets/controls",
          "model_module_version": "1.5.0",
          "model_name": "DescriptionStyleModel",
          "state": {
            "_model_module": "@jupyter-widgets/controls",
            "_model_module_version": "1.5.0",
            "_model_name": "DescriptionStyleModel",
            "_view_count": null,
            "_view_module": "@jupyter-widgets/base",
            "_view_module_version": "1.2.0",
            "_view_name": "StyleView",
            "description_width": ""
          }
        },
        "30564c39e4fc42f9a62391eb4ccbeef5": {
          "model_module": "@jupyter-widgets/controls",
          "model_module_version": "1.5.0",
          "model_name": "HTMLModel",
          "state": {
            "_dom_classes": [],
            "_model_module": "@jupyter-widgets/controls",
            "_model_module_version": "1.5.0",
            "_model_name": "HTMLModel",
            "_view_count": null,
            "_view_module": "@jupyter-widgets/controls",
            "_view_module_version": "1.5.0",
            "_view_name": "HTMLView",
            "description": "",
            "description_tooltip": null,
            "layout": "IPY_MODEL_7bc47b609afe4320a0c754fde01ba508",
            "placeholder": "​",
            "style": "IPY_MODEL_29a861a0df0549bcba58054ef6558903",
            "value": " 39/39 [00:05&lt;00:00,  8.66it/s]"
          }
        },
        "37c4e040cfea4f8c948c358014f0cd00": {
          "model_module": "@jupyter-widgets/controls",
          "model_module_version": "1.5.0",
          "model_name": "HBoxModel",
          "state": {
            "_dom_classes": [],
            "_model_module": "@jupyter-widgets/controls",
            "_model_module_version": "1.5.0",
            "_model_name": "HBoxModel",
            "_view_count": null,
            "_view_module": "@jupyter-widgets/controls",
            "_view_module_version": "1.5.0",
            "_view_name": "HBoxView",
            "box_style": "",
            "children": [
              "IPY_MODEL_74be6f341a894c7682aad6de3b63c4cc",
              "IPY_MODEL_b9a94eeed9d241a4be13e1ab3b2540d8",
              "IPY_MODEL_88d78f31f08b48608809cd0a211a1fdb"
            ],
            "layout": "IPY_MODEL_155d359ac2d749169a0d52c591f0d8ea"
          }
        },
        "3c29777eb0e64033896044125f33ca3b": {
          "model_module": "@jupyter-widgets/base",
          "model_module_version": "1.2.0",
          "model_name": "LayoutModel",
          "state": {
            "_model_module": "@jupyter-widgets/base",
            "_model_module_version": "1.2.0",
            "_model_name": "LayoutModel",
            "_view_count": null,
            "_view_module": "@jupyter-widgets/base",
            "_view_module_version": "1.2.0",
            "_view_name": "LayoutView",
            "align_content": null,
            "align_items": null,
            "align_self": null,
            "border": null,
            "bottom": null,
            "display": null,
            "flex": null,
            "flex_flow": null,
            "grid_area": null,
            "grid_auto_columns": null,
            "grid_auto_flow": null,
            "grid_auto_rows": null,
            "grid_column": null,
            "grid_gap": null,
            "grid_row": null,
            "grid_template_areas": null,
            "grid_template_columns": null,
            "grid_template_rows": null,
            "height": null,
            "justify_content": null,
            "justify_items": null,
            "left": null,
            "margin": null,
            "max_height": null,
            "max_width": null,
            "min_height": null,
            "min_width": null,
            "object_fit": null,
            "object_position": null,
            "order": null,
            "overflow": null,
            "overflow_x": null,
            "overflow_y": null,
            "padding": null,
            "right": null,
            "top": null,
            "visibility": null,
            "width": null
          }
        },
        "54535b16f2d3462bad55b950d081f572": {
          "model_module": "@jupyter-widgets/base",
          "model_module_version": "1.2.0",
          "model_name": "LayoutModel",
          "state": {
            "_model_module": "@jupyter-widgets/base",
            "_model_module_version": "1.2.0",
            "_model_name": "LayoutModel",
            "_view_count": null,
            "_view_module": "@jupyter-widgets/base",
            "_view_module_version": "1.2.0",
            "_view_name": "LayoutView",
            "align_content": null,
            "align_items": null,
            "align_self": null,
            "border": null,
            "bottom": null,
            "display": null,
            "flex": null,
            "flex_flow": null,
            "grid_area": null,
            "grid_auto_columns": null,
            "grid_auto_flow": null,
            "grid_auto_rows": null,
            "grid_column": null,
            "grid_gap": null,
            "grid_row": null,
            "grid_template_areas": null,
            "grid_template_columns": null,
            "grid_template_rows": null,
            "height": null,
            "justify_content": null,
            "justify_items": null,
            "left": null,
            "margin": null,
            "max_height": null,
            "max_width": null,
            "min_height": null,
            "min_width": null,
            "object_fit": null,
            "object_position": null,
            "order": null,
            "overflow": null,
            "overflow_x": null,
            "overflow_y": null,
            "padding": null,
            "right": null,
            "top": null,
            "visibility": null,
            "width": null
          }
        },
        "5456c00ca1a44bf3b7bece88b94250d3": {
          "model_module": "@jupyter-widgets/base",
          "model_module_version": "1.2.0",
          "model_name": "LayoutModel",
          "state": {
            "_model_module": "@jupyter-widgets/base",
            "_model_module_version": "1.2.0",
            "_model_name": "LayoutModel",
            "_view_count": null,
            "_view_module": "@jupyter-widgets/base",
            "_view_module_version": "1.2.0",
            "_view_name": "LayoutView",
            "align_content": null,
            "align_items": null,
            "align_self": null,
            "border": null,
            "bottom": null,
            "display": null,
            "flex": null,
            "flex_flow": null,
            "grid_area": null,
            "grid_auto_columns": null,
            "grid_auto_flow": null,
            "grid_auto_rows": null,
            "grid_column": null,
            "grid_gap": null,
            "grid_row": null,
            "grid_template_areas": null,
            "grid_template_columns": null,
            "grid_template_rows": null,
            "height": null,
            "justify_content": null,
            "justify_items": null,
            "left": null,
            "margin": null,
            "max_height": null,
            "max_width": null,
            "min_height": null,
            "min_width": null,
            "object_fit": null,
            "object_position": null,
            "order": null,
            "overflow": null,
            "overflow_x": null,
            "overflow_y": null,
            "padding": null,
            "right": null,
            "top": null,
            "visibility": null,
            "width": null
          }
        },
        "56054bc9fdae4f4aa8d1dd3b2230349e": {
          "model_module": "@jupyter-widgets/controls",
          "model_module_version": "1.5.0",
          "model_name": "DescriptionStyleModel",
          "state": {
            "_model_module": "@jupyter-widgets/controls",
            "_model_module_version": "1.5.0",
            "_model_name": "DescriptionStyleModel",
            "_view_count": null,
            "_view_module": "@jupyter-widgets/base",
            "_view_module_version": "1.2.0",
            "_view_name": "StyleView",
            "description_width": ""
          }
        },
        "5ae45a0c9008496fb0e4347da96546d5": {
          "model_module": "@jupyter-widgets/controls",
          "model_module_version": "1.5.0",
          "model_name": "HTMLModel",
          "state": {
            "_dom_classes": [],
            "_model_module": "@jupyter-widgets/controls",
            "_model_module_version": "1.5.0",
            "_model_name": "HTMLModel",
            "_view_count": null,
            "_view_module": "@jupyter-widgets/controls",
            "_view_module_version": "1.5.0",
            "_view_name": "HTMLView",
            "description": "",
            "description_tooltip": null,
            "layout": "IPY_MODEL_a43ba65c1600446f899efa4e5372f0ad",
            "placeholder": "​",
            "style": "IPY_MODEL_c2d89f3eb92e40b684686fac9636537a",
            "value": "100%"
          }
        },
        "5cf1fb49370f458aa4b34f1d4654c3c0": {
          "model_module": "@jupyter-widgets/base",
          "model_module_version": "1.2.0",
          "model_name": "LayoutModel",
          "state": {
            "_model_module": "@jupyter-widgets/base",
            "_model_module_version": "1.2.0",
            "_model_name": "LayoutModel",
            "_view_count": null,
            "_view_module": "@jupyter-widgets/base",
            "_view_module_version": "1.2.0",
            "_view_name": "LayoutView",
            "align_content": null,
            "align_items": null,
            "align_self": null,
            "border": null,
            "bottom": null,
            "display": null,
            "flex": null,
            "flex_flow": null,
            "grid_area": null,
            "grid_auto_columns": null,
            "grid_auto_flow": null,
            "grid_auto_rows": null,
            "grid_column": null,
            "grid_gap": null,
            "grid_row": null,
            "grid_template_areas": null,
            "grid_template_columns": null,
            "grid_template_rows": null,
            "height": null,
            "justify_content": null,
            "justify_items": null,
            "left": null,
            "margin": null,
            "max_height": null,
            "max_width": null,
            "min_height": null,
            "min_width": null,
            "object_fit": null,
            "object_position": null,
            "order": null,
            "overflow": null,
            "overflow_x": null,
            "overflow_y": null,
            "padding": null,
            "right": null,
            "top": null,
            "visibility": null,
            "width": null
          }
        },
        "686ff88b3e02409db49eef590197e51f": {
          "model_module": "@jupyter-widgets/controls",
          "model_module_version": "1.5.0",
          "model_name": "HBoxModel",
          "state": {
            "_dom_classes": [],
            "_model_module": "@jupyter-widgets/controls",
            "_model_module_version": "1.5.0",
            "_model_name": "HBoxModel",
            "_view_count": null,
            "_view_module": "@jupyter-widgets/controls",
            "_view_module_version": "1.5.0",
            "_view_name": "HBoxView",
            "box_style": "",
            "children": [
              "IPY_MODEL_5ae45a0c9008496fb0e4347da96546d5",
              "IPY_MODEL_9dd2932943e24383a4cff1cc6df0fad4",
              "IPY_MODEL_c9f3ba4aa2c2405faf9ecb026b233379"
            ],
            "layout": "IPY_MODEL_0f5858dbd88d4a8f95d74f8c2f3df4ab"
          }
        },
        "6d8e56dae7c74b51870b8f205f9c2a51": {
          "model_module": "@jupyter-widgets/controls",
          "model_module_version": "1.5.0",
          "model_name": "FloatProgressModel",
          "state": {
            "_dom_classes": [],
            "_model_module": "@jupyter-widgets/controls",
            "_model_module_version": "1.5.0",
            "_model_name": "FloatProgressModel",
            "_view_count": null,
            "_view_module": "@jupyter-widgets/controls",
            "_view_module_version": "1.5.0",
            "_view_name": "ProgressView",
            "bar_style": "success",
            "description": "",
            "description_tooltip": null,
            "layout": "IPY_MODEL_c8f1fe9931524c4cb344fd8551e8d918",
            "max": 39,
            "min": 0,
            "orientation": "horizontal",
            "style": "IPY_MODEL_c3ad77793bd342308f942eeaf7c6db5e",
            "value": 39
          }
        },
        "7041c8004d7f4c2b9f22b200f60394bd": {
          "model_module": "@jupyter-widgets/controls",
          "model_module_version": "1.5.0",
          "model_name": "HTMLModel",
          "state": {
            "_dom_classes": [],
            "_model_module": "@jupyter-widgets/controls",
            "_model_module_version": "1.5.0",
            "_model_name": "HTMLModel",
            "_view_count": null,
            "_view_module": "@jupyter-widgets/controls",
            "_view_module_version": "1.5.0",
            "_view_name": "HTMLView",
            "description": "",
            "description_tooltip": null,
            "layout": "IPY_MODEL_842e1f5c6d43472b9cb8690e3d2b6bc0",
            "placeholder": "​",
            "style": "IPY_MODEL_76c8de3762d948679a2241e3651476a5",
            "value": "100%"
          }
        },
        "74be6f341a894c7682aad6de3b63c4cc": {
          "model_module": "@jupyter-widgets/controls",
          "model_module_version": "1.5.0",
          "model_name": "HTMLModel",
          "state": {
            "_dom_classes": [],
            "_model_module": "@jupyter-widgets/controls",
            "_model_module_version": "1.5.0",
            "_model_name": "HTMLModel",
            "_view_count": null,
            "_view_module": "@jupyter-widgets/controls",
            "_view_module_version": "1.5.0",
            "_view_name": "HTMLView",
            "description": "",
            "description_tooltip": null,
            "layout": "IPY_MODEL_79aacc7e95bd41d1a7491d300ce44408",
            "placeholder": "​",
            "style": "IPY_MODEL_a993fd47b6a24182a0769207fe5896ff",
            "value": "100%"
          }
        },
        "76c8de3762d948679a2241e3651476a5": {
          "model_module": "@jupyter-widgets/controls",
          "model_module_version": "1.5.0",
          "model_name": "DescriptionStyleModel",
          "state": {
            "_model_module": "@jupyter-widgets/controls",
            "_model_module_version": "1.5.0",
            "_model_name": "DescriptionStyleModel",
            "_view_count": null,
            "_view_module": "@jupyter-widgets/base",
            "_view_module_version": "1.2.0",
            "_view_name": "StyleView",
            "description_width": ""
          }
        },
        "79aacc7e95bd41d1a7491d300ce44408": {
          "model_module": "@jupyter-widgets/base",
          "model_module_version": "1.2.0",
          "model_name": "LayoutModel",
          "state": {
            "_model_module": "@jupyter-widgets/base",
            "_model_module_version": "1.2.0",
            "_model_name": "LayoutModel",
            "_view_count": null,
            "_view_module": "@jupyter-widgets/base",
            "_view_module_version": "1.2.0",
            "_view_name": "LayoutView",
            "align_content": null,
            "align_items": null,
            "align_self": null,
            "border": null,
            "bottom": null,
            "display": null,
            "flex": null,
            "flex_flow": null,
            "grid_area": null,
            "grid_auto_columns": null,
            "grid_auto_flow": null,
            "grid_auto_rows": null,
            "grid_column": null,
            "grid_gap": null,
            "grid_row": null,
            "grid_template_areas": null,
            "grid_template_columns": null,
            "grid_template_rows": null,
            "height": null,
            "justify_content": null,
            "justify_items": null,
            "left": null,
            "margin": null,
            "max_height": null,
            "max_width": null,
            "min_height": null,
            "min_width": null,
            "object_fit": null,
            "object_position": null,
            "order": null,
            "overflow": null,
            "overflow_x": null,
            "overflow_y": null,
            "padding": null,
            "right": null,
            "top": null,
            "visibility": null,
            "width": null
          }
        },
        "7bc47b609afe4320a0c754fde01ba508": {
          "model_module": "@jupyter-widgets/base",
          "model_module_version": "1.2.0",
          "model_name": "LayoutModel",
          "state": {
            "_model_module": "@jupyter-widgets/base",
            "_model_module_version": "1.2.0",
            "_model_name": "LayoutModel",
            "_view_count": null,
            "_view_module": "@jupyter-widgets/base",
            "_view_module_version": "1.2.0",
            "_view_name": "LayoutView",
            "align_content": null,
            "align_items": null,
            "align_self": null,
            "border": null,
            "bottom": null,
            "display": null,
            "flex": null,
            "flex_flow": null,
            "grid_area": null,
            "grid_auto_columns": null,
            "grid_auto_flow": null,
            "grid_auto_rows": null,
            "grid_column": null,
            "grid_gap": null,
            "grid_row": null,
            "grid_template_areas": null,
            "grid_template_columns": null,
            "grid_template_rows": null,
            "height": null,
            "justify_content": null,
            "justify_items": null,
            "left": null,
            "margin": null,
            "max_height": null,
            "max_width": null,
            "min_height": null,
            "min_width": null,
            "object_fit": null,
            "object_position": null,
            "order": null,
            "overflow": null,
            "overflow_x": null,
            "overflow_y": null,
            "padding": null,
            "right": null,
            "top": null,
            "visibility": null,
            "width": null
          }
        },
        "842e1f5c6d43472b9cb8690e3d2b6bc0": {
          "model_module": "@jupyter-widgets/base",
          "model_module_version": "1.2.0",
          "model_name": "LayoutModel",
          "state": {
            "_model_module": "@jupyter-widgets/base",
            "_model_module_version": "1.2.0",
            "_model_name": "LayoutModel",
            "_view_count": null,
            "_view_module": "@jupyter-widgets/base",
            "_view_module_version": "1.2.0",
            "_view_name": "LayoutView",
            "align_content": null,
            "align_items": null,
            "align_self": null,
            "border": null,
            "bottom": null,
            "display": null,
            "flex": null,
            "flex_flow": null,
            "grid_area": null,
            "grid_auto_columns": null,
            "grid_auto_flow": null,
            "grid_auto_rows": null,
            "grid_column": null,
            "grid_gap": null,
            "grid_row": null,
            "grid_template_areas": null,
            "grid_template_columns": null,
            "grid_template_rows": null,
            "height": null,
            "justify_content": null,
            "justify_items": null,
            "left": null,
            "margin": null,
            "max_height": null,
            "max_width": null,
            "min_height": null,
            "min_width": null,
            "object_fit": null,
            "object_position": null,
            "order": null,
            "overflow": null,
            "overflow_x": null,
            "overflow_y": null,
            "padding": null,
            "right": null,
            "top": null,
            "visibility": null,
            "width": null
          }
        },
        "88d78f31f08b48608809cd0a211a1fdb": {
          "model_module": "@jupyter-widgets/controls",
          "model_module_version": "1.5.0",
          "model_name": "HTMLModel",
          "state": {
            "_dom_classes": [],
            "_model_module": "@jupyter-widgets/controls",
            "_model_module_version": "1.5.0",
            "_model_name": "HTMLModel",
            "_view_count": null,
            "_view_module": "@jupyter-widgets/controls",
            "_view_module_version": "1.5.0",
            "_view_name": "HTMLView",
            "description": "",
            "description_tooltip": null,
            "layout": "IPY_MODEL_a99b784af7c747cb92b304e024cb45e7",
            "placeholder": "​",
            "style": "IPY_MODEL_a826fe75b14e466d9fbff54cd4fd78c7",
            "value": " 39/39 [00:04&lt;00:00,  9.36it/s]"
          }
        },
        "9dd2932943e24383a4cff1cc6df0fad4": {
          "model_module": "@jupyter-widgets/controls",
          "model_module_version": "1.5.0",
          "model_name": "FloatProgressModel",
          "state": {
            "_dom_classes": [],
            "_model_module": "@jupyter-widgets/controls",
            "_model_module_version": "1.5.0",
            "_model_name": "FloatProgressModel",
            "_view_count": null,
            "_view_module": "@jupyter-widgets/controls",
            "_view_module_version": "1.5.0",
            "_view_name": "ProgressView",
            "bar_style": "success",
            "description": "",
            "description_tooltip": null,
            "layout": "IPY_MODEL_2821e713f31b46efa2e90d699e0dc83c",
            "max": 39,
            "min": 0,
            "orientation": "horizontal",
            "style": "IPY_MODEL_07824111751947f1af0e3f3409cf8897",
            "value": 39
          }
        },
        "9f28af0718b04e7489b8d81c554b8f0a": {
          "model_module": "@jupyter-widgets/base",
          "model_module_version": "1.2.0",
          "model_name": "LayoutModel",
          "state": {
            "_model_module": "@jupyter-widgets/base",
            "_model_module_version": "1.2.0",
            "_model_name": "LayoutModel",
            "_view_count": null,
            "_view_module": "@jupyter-widgets/base",
            "_view_module_version": "1.2.0",
            "_view_name": "LayoutView",
            "align_content": null,
            "align_items": null,
            "align_self": null,
            "border": null,
            "bottom": null,
            "display": null,
            "flex": null,
            "flex_flow": null,
            "grid_area": null,
            "grid_auto_columns": null,
            "grid_auto_flow": null,
            "grid_auto_rows": null,
            "grid_column": null,
            "grid_gap": null,
            "grid_row": null,
            "grid_template_areas": null,
            "grid_template_columns": null,
            "grid_template_rows": null,
            "height": null,
            "justify_content": null,
            "justify_items": null,
            "left": null,
            "margin": null,
            "max_height": null,
            "max_width": null,
            "min_height": null,
            "min_width": null,
            "object_fit": null,
            "object_position": null,
            "order": null,
            "overflow": null,
            "overflow_x": null,
            "overflow_y": null,
            "padding": null,
            "right": null,
            "top": null,
            "visibility": null,
            "width": null
          }
        },
        "a43ba65c1600446f899efa4e5372f0ad": {
          "model_module": "@jupyter-widgets/base",
          "model_module_version": "1.2.0",
          "model_name": "LayoutModel",
          "state": {
            "_model_module": "@jupyter-widgets/base",
            "_model_module_version": "1.2.0",
            "_model_name": "LayoutModel",
            "_view_count": null,
            "_view_module": "@jupyter-widgets/base",
            "_view_module_version": "1.2.0",
            "_view_name": "LayoutView",
            "align_content": null,
            "align_items": null,
            "align_self": null,
            "border": null,
            "bottom": null,
            "display": null,
            "flex": null,
            "flex_flow": null,
            "grid_area": null,
            "grid_auto_columns": null,
            "grid_auto_flow": null,
            "grid_auto_rows": null,
            "grid_column": null,
            "grid_gap": null,
            "grid_row": null,
            "grid_template_areas": null,
            "grid_template_columns": null,
            "grid_template_rows": null,
            "height": null,
            "justify_content": null,
            "justify_items": null,
            "left": null,
            "margin": null,
            "max_height": null,
            "max_width": null,
            "min_height": null,
            "min_width": null,
            "object_fit": null,
            "object_position": null,
            "order": null,
            "overflow": null,
            "overflow_x": null,
            "overflow_y": null,
            "padding": null,
            "right": null,
            "top": null,
            "visibility": null,
            "width": null
          }
        },
        "a826fe75b14e466d9fbff54cd4fd78c7": {
          "model_module": "@jupyter-widgets/controls",
          "model_module_version": "1.5.0",
          "model_name": "DescriptionStyleModel",
          "state": {
            "_model_module": "@jupyter-widgets/controls",
            "_model_module_version": "1.5.0",
            "_model_name": "DescriptionStyleModel",
            "_view_count": null,
            "_view_module": "@jupyter-widgets/base",
            "_view_module_version": "1.2.0",
            "_view_name": "StyleView",
            "description_width": ""
          }
        },
        "a993fd47b6a24182a0769207fe5896ff": {
          "model_module": "@jupyter-widgets/controls",
          "model_module_version": "1.5.0",
          "model_name": "DescriptionStyleModel",
          "state": {
            "_model_module": "@jupyter-widgets/controls",
            "_model_module_version": "1.5.0",
            "_model_name": "DescriptionStyleModel",
            "_view_count": null,
            "_view_module": "@jupyter-widgets/base",
            "_view_module_version": "1.2.0",
            "_view_name": "StyleView",
            "description_width": ""
          }
        },
        "a99b784af7c747cb92b304e024cb45e7": {
          "model_module": "@jupyter-widgets/base",
          "model_module_version": "1.2.0",
          "model_name": "LayoutModel",
          "state": {
            "_model_module": "@jupyter-widgets/base",
            "_model_module_version": "1.2.0",
            "_model_name": "LayoutModel",
            "_view_count": null,
            "_view_module": "@jupyter-widgets/base",
            "_view_module_version": "1.2.0",
            "_view_name": "LayoutView",
            "align_content": null,
            "align_items": null,
            "align_self": null,
            "border": null,
            "bottom": null,
            "display": null,
            "flex": null,
            "flex_flow": null,
            "grid_area": null,
            "grid_auto_columns": null,
            "grid_auto_flow": null,
            "grid_auto_rows": null,
            "grid_column": null,
            "grid_gap": null,
            "grid_row": null,
            "grid_template_areas": null,
            "grid_template_columns": null,
            "grid_template_rows": null,
            "height": null,
            "justify_content": null,
            "justify_items": null,
            "left": null,
            "margin": null,
            "max_height": null,
            "max_width": null,
            "min_height": null,
            "min_width": null,
            "object_fit": null,
            "object_position": null,
            "order": null,
            "overflow": null,
            "overflow_x": null,
            "overflow_y": null,
            "padding": null,
            "right": null,
            "top": null,
            "visibility": null,
            "width": null
          }
        },
        "b5e8af5d11954cdbbdb77bdb205e31ec": {
          "model_module": "@jupyter-widgets/controls",
          "model_module_version": "1.5.0",
          "model_name": "HBoxModel",
          "state": {
            "_dom_classes": [],
            "_model_module": "@jupyter-widgets/controls",
            "_model_module_version": "1.5.0",
            "_model_name": "HBoxModel",
            "_view_count": null,
            "_view_module": "@jupyter-widgets/controls",
            "_view_module_version": "1.5.0",
            "_view_name": "HBoxView",
            "box_style": "",
            "children": [
              "IPY_MODEL_7041c8004d7f4c2b9f22b200f60394bd",
              "IPY_MODEL_0598af4dcad946c3b5b27dc73dafda3a",
              "IPY_MODEL_2980b492e74549938e9f0fb78237923d"
            ],
            "layout": "IPY_MODEL_3c29777eb0e64033896044125f33ca3b"
          }
        },
        "b9a94eeed9d241a4be13e1ab3b2540d8": {
          "model_module": "@jupyter-widgets/controls",
          "model_module_version": "1.5.0",
          "model_name": "FloatProgressModel",
          "state": {
            "_dom_classes": [],
            "_model_module": "@jupyter-widgets/controls",
            "_model_module_version": "1.5.0",
            "_model_name": "FloatProgressModel",
            "_view_count": null,
            "_view_module": "@jupyter-widgets/controls",
            "_view_module_version": "1.5.0",
            "_view_name": "ProgressView",
            "bar_style": "success",
            "description": "",
            "description_tooltip": null,
            "layout": "IPY_MODEL_05c0c0bae60a4c958f6571576dfcd470",
            "max": 39,
            "min": 0,
            "orientation": "horizontal",
            "style": "IPY_MODEL_08b65a34ffbf43fa94aa81bdfa88a839",
            "value": 39
          }
        },
        "be8088868f094bee8ad0ca7a1e74e122": {
          "model_module": "@jupyter-widgets/controls",
          "model_module_version": "1.5.0",
          "model_name": "DescriptionStyleModel",
          "state": {
            "_model_module": "@jupyter-widgets/controls",
            "_model_module_version": "1.5.0",
            "_model_name": "DescriptionStyleModel",
            "_view_count": null,
            "_view_module": "@jupyter-widgets/base",
            "_view_module_version": "1.2.0",
            "_view_name": "StyleView",
            "description_width": ""
          }
        },
        "c2d89f3eb92e40b684686fac9636537a": {
          "model_module": "@jupyter-widgets/controls",
          "model_module_version": "1.5.0",
          "model_name": "DescriptionStyleModel",
          "state": {
            "_model_module": "@jupyter-widgets/controls",
            "_model_module_version": "1.5.0",
            "_model_name": "DescriptionStyleModel",
            "_view_count": null,
            "_view_module": "@jupyter-widgets/base",
            "_view_module_version": "1.2.0",
            "_view_name": "StyleView",
            "description_width": ""
          }
        },
        "c3ad77793bd342308f942eeaf7c6db5e": {
          "model_module": "@jupyter-widgets/controls",
          "model_module_version": "1.5.0",
          "model_name": "ProgressStyleModel",
          "state": {
            "_model_module": "@jupyter-widgets/controls",
            "_model_module_version": "1.5.0",
            "_model_name": "ProgressStyleModel",
            "_view_count": null,
            "_view_module": "@jupyter-widgets/base",
            "_view_module_version": "1.2.0",
            "_view_name": "StyleView",
            "bar_color": null,
            "description_width": ""
          }
        },
        "c8f1fe9931524c4cb344fd8551e8d918": {
          "model_module": "@jupyter-widgets/base",
          "model_module_version": "1.2.0",
          "model_name": "LayoutModel",
          "state": {
            "_model_module": "@jupyter-widgets/base",
            "_model_module_version": "1.2.0",
            "_model_name": "LayoutModel",
            "_view_count": null,
            "_view_module": "@jupyter-widgets/base",
            "_view_module_version": "1.2.0",
            "_view_name": "LayoutView",
            "align_content": null,
            "align_items": null,
            "align_self": null,
            "border": null,
            "bottom": null,
            "display": null,
            "flex": null,
            "flex_flow": null,
            "grid_area": null,
            "grid_auto_columns": null,
            "grid_auto_flow": null,
            "grid_auto_rows": null,
            "grid_column": null,
            "grid_gap": null,
            "grid_row": null,
            "grid_template_areas": null,
            "grid_template_columns": null,
            "grid_template_rows": null,
            "height": null,
            "justify_content": null,
            "justify_items": null,
            "left": null,
            "margin": null,
            "max_height": null,
            "max_width": null,
            "min_height": null,
            "min_width": null,
            "object_fit": null,
            "object_position": null,
            "order": null,
            "overflow": null,
            "overflow_x": null,
            "overflow_y": null,
            "padding": null,
            "right": null,
            "top": null,
            "visibility": null,
            "width": null
          }
        },
        "c9f3ba4aa2c2405faf9ecb026b233379": {
          "model_module": "@jupyter-widgets/controls",
          "model_module_version": "1.5.0",
          "model_name": "HTMLModel",
          "state": {
            "_dom_classes": [],
            "_model_module": "@jupyter-widgets/controls",
            "_model_module_version": "1.5.0",
            "_model_name": "HTMLModel",
            "_view_count": null,
            "_view_module": "@jupyter-widgets/controls",
            "_view_module_version": "1.5.0",
            "_view_name": "HTMLView",
            "description": "",
            "description_tooltip": null,
            "layout": "IPY_MODEL_54535b16f2d3462bad55b950d081f572",
            "placeholder": "​",
            "style": "IPY_MODEL_be8088868f094bee8ad0ca7a1e74e122",
            "value": " 39/39 [00:05&lt;00:00,  7.89it/s]"
          }
        },
        "f490accfcad641b19c214d9ea5bc422d": {
          "model_module": "@jupyter-widgets/controls",
          "model_module_version": "1.5.0",
          "model_name": "DescriptionStyleModel",
          "state": {
            "_model_module": "@jupyter-widgets/controls",
            "_model_module_version": "1.5.0",
            "_model_name": "DescriptionStyleModel",
            "_view_count": null,
            "_view_module": "@jupyter-widgets/base",
            "_view_module_version": "1.2.0",
            "_view_name": "StyleView",
            "description_width": ""
          }
        }
      }
    }
  },
  "nbformat": 4,
  "nbformat_minor": 0
}
